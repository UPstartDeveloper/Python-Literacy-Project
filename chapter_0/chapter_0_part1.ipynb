{
 "cells": [
  {
   "source": [
    "## Version Information\n",
    "\n",
    "We strongly recommend you to use Python 3 throughout this book. Versions of Python 2.x may work in this chapter, since most of the exercises rely on built-in functions, however it is deprecated. We will show you to check your version number below."
   ],
   "cell_type": "markdown",
   "metadata": {}
  },
  {
   "cell_type": "code",
   "execution_count": 2,
   "metadata": {},
   "outputs": [],
   "source": [
    "# Python ≥3.5 is required\n",
    "import sys\n",
    "assert sys.version_info >= (3, 5)"
   ]
  },
  {
   "cell_type": "markdown",
   "id": "dress-automation",
   "metadata": {},
   "source": [
    "## Activity: Find the Maximum Element\n",
    "You are given a `list` of numbers, `nums`. How would you write Python code to find the largest element in this list?\n",
    "\n",
    "*Note:* in our solution, we initialize the `max_element` to `float(\"-inf\")`. This represents the lowest numerical value that can be stored in a Python variable."
   ]
  },
  {
   "source": [
    "#### Example Input"
   ],
   "cell_type": "markdown",
   "metadata": {}
  },
  {
   "cell_type": "code",
   "execution_count": 16,
   "metadata": {},
   "outputs": [],
   "source": [
    "nums1 = [10, 3, 4, 20, 12]"
   ]
  },
  {
   "source": [
    "### Solution 1: Using Custom Code"
   ],
   "cell_type": "markdown",
   "metadata": {}
  },
  {
   "cell_type": "code",
   "execution_count": 7,
   "id": "cultural-taste",
   "metadata": {},
   "outputs": [],
   "source": [
    "def find_max(nums):\n",
    "    max_element = float(\"-inf\") \n",
    "    for element in nums:\n",
    "        if element > max_element:\n",
    "            max_element = element\n",
    "    return max_element"
   ]
  },
  {
   "source": [
    "#### Test Out Solution 1"
   ],
   "cell_type": "markdown",
   "metadata": {}
  },
  {
   "cell_type": "code",
   "execution_count": 15,
   "id": "spare-medicare",
   "metadata": {},
   "outputs": [
    {
     "output_type": "stream",
     "name": "stdout",
     "text": [
      "20\n"
     ]
    }
   ],
   "source": [
    "find_max(nums1)"
   ]
  },
  {
   "source": [
    "### Solution 2: Using `max()`\n",
    "\n",
    "Say hello to our first built-in Python function!\n",
    "\n",
    "`max()` will return the largest value in finds in any input `list`. Alternatively, you could also pass in several values to the function all at once, and achieve the same result.\n",
    "\n",
    "E.g. `max([1, 2, 4]) = max(1, 2, 4)`\n",
    "\n",
    "Read more about `max()` in the [Python 3 documentation](https://docs.python.org/3/library/functions.html#max)."
   ],
   "cell_type": "markdown",
   "metadata": {}
  },
  {
   "cell_type": "code",
   "execution_count": 22,
   "metadata": {},
   "outputs": [
    {
     "output_type": "execute_result",
     "data": {
      "text/plain": [
       "20"
      ]
     },
     "metadata": {},
     "execution_count": 22
    }
   ],
   "source": [
    "# does it return the same output as above?\n",
    "max(nums1)  "
   ]
  },
  {
   "cell_type": "markdown",
   "id": "monetary-mediterranean",
   "metadata": {},
   "source": [
    "## Activity: Index of Maximum Element\n",
    "\n",
    "You are again again given a `list` of numbers, `nums`. How would you write Python code to find the index of the largest element in the list?\n",
    "\n",
    "`Note`: if there are no elements in `nums`, then please return -1."
   ]
  },
  {
   "source": [
    "#### Example Input"
   ],
   "cell_type": "markdown",
   "metadata": {}
  },
  {
   "cell_type": "code",
   "execution_count": 18,
   "metadata": {},
   "outputs": [],
   "source": [
    "nums2 = [10, 3, 4, 20, 12]"
   ]
  },
  {
   "source": [
    "### Solution 1: `for` loop using `range()`"
   ],
   "cell_type": "markdown",
   "metadata": {}
  },
  {
   "cell_type": "code",
   "execution_count": 13,
   "metadata": {},
   "outputs": [],
   "source": [
    "def find_max_index(nums):\n",
    "    max_element = float(\"-inf\")\n",
    "    max_element_index = -1\n",
    "    for index in range(len(nums)):\n",
    "        element = nums[index]\n",
    "        if element > max_element:\n",
    "            max_element = element\n",
    "            max_element_index = index\n",
    "    return max_element_index"
   ]
  },
  {
   "source": [
    "### Solution 2: `for` loop using `enumerate()`"
   ],
   "cell_type": "markdown",
   "metadata": {}
  },
  {
   "cell_type": "code",
   "execution_count": 14,
   "id": "transparent-spoke",
   "metadata": {},
   "outputs": [],
   "source": [
    "def find_max_index(nums):\n",
    "    max_element = float(\"-inf\")\n",
    "    max_element_index = -1\n",
    "    for index, element in enumerate(ls):\n",
    "        if element > max_element:\n",
    "            max_element = element\n",
    "            max_element_index = index\n",
    "    return max_element_index"
   ]
  },
  {
   "cell_type": "code",
   "execution_count": 13,
   "id": "written-triumph",
   "metadata": {},
   "outputs": [
    {
     "name": "stdout",
     "output_type": "stream",
     "text": [
      "3\n"
     ]
    }
   ],
   "source": [
    "print(find_max_index())"
   ]
  },
  {
   "cell_type": "markdown",
   "id": "eastern-windsor",
   "metadata": {},
   "source": [
    "## Activity: Write a Python function to multiply all the numbers in a list"
   ]
  },
  {
   "cell_type": "code",
   "execution_count": 16,
   "id": "strange-worry",
   "metadata": {},
   "outputs": [],
   "source": [
    "def find_prod(ls):\n",
    "    S = 1\n",
    "    for element in ls:\n",
    "        S = S * element \n",
    "    return S"
   ]
  },
  {
   "cell_type": "code",
   "execution_count": 17,
   "id": "opening-stuff",
   "metadata": {},
   "outputs": [
    {
     "name": "stdout",
     "output_type": "stream",
     "text": [
      "28800\n"
     ]
    }
   ],
   "source": [
    "print(find_prod([10, 3, 4, 20, 12]))"
   ]
  },
  {
   "cell_type": "code",
   "execution_count": 18,
   "id": "thermal-survivor",
   "metadata": {},
   "outputs": [
    {
     "data": {
      "text/plain": [
       "28800"
      ]
     },
     "execution_count": 18,
     "metadata": {},
     "output_type": "execute_result"
    }
   ],
   "source": [
    "10*3*4*20*12"
   ]
  },
  {
   "cell_type": "markdown",
   "id": "female-alabama",
   "metadata": {},
   "source": [
    "## Activity: Write a Python function to check whether a number is in a given range \n",
    "\n",
    "- For example is 5 in range of (3,9)"
   ]
  },
  {
   "cell_type": "code",
   "execution_count": 21,
   "id": "common-service",
   "metadata": {},
   "outputs": [],
   "source": [
    "def is_in_range(range_lower,range_upper, number):\n",
    "    for element in range(range_lower,range_upper):\n",
    "        if element == number:\n",
    "            return True\n",
    "    return False"
   ]
  },
  {
   "cell_type": "code",
   "execution_count": 24,
   "id": "existing-lobby",
   "metadata": {},
   "outputs": [
    {
     "name": "stdout",
     "output_type": "stream",
     "text": [
      "True\n"
     ]
    }
   ],
   "source": [
    "print(is_in_range(3, 9, 5))"
   ]
  },
  {
   "cell_type": "code",
   "execution_count": 25,
   "id": "biological-frank",
   "metadata": {},
   "outputs": [
    {
     "name": "stdout",
     "output_type": "stream",
     "text": [
      "False\n"
     ]
    }
   ],
   "source": [
    "print(is_in_range(7, 9, 5))"
   ]
  },
  {
   "cell_type": "markdown",
   "id": "expanded-monkey",
   "metadata": {},
   "source": [
    "## Activity: We have two list. Add their elements\n",
    "\n",
    "- For example a = [1 ,2, 3] b=[10, 15, 20] -> c = [11,17, 23]"
   ]
  },
  {
   "cell_type": "code",
   "execution_count": 26,
   "id": "prompt-rescue",
   "metadata": {},
   "outputs": [],
   "source": [
    "def add_elements(ls1,ls2):\n",
    "    return [i+j for i, j in zip(ls1,ls2)]"
   ]
  },
  {
   "cell_type": "code",
   "execution_count": 27,
   "id": "civil-accordance",
   "metadata": {},
   "outputs": [
    {
     "name": "stdout",
     "output_type": "stream",
     "text": [
      "[11, 17, 23]\n"
     ]
    }
   ],
   "source": [
    "print(add_elements([1,2,3], [10, 15, 20]))"
   ]
  },
  {
   "cell_type": "markdown",
   "id": "military-magnet",
   "metadata": {},
   "source": [
    "## Activity: Write a function that squared list elements"
   ]
  },
  {
   "cell_type": "code",
   "execution_count": 32,
   "id": "potential-fields",
   "metadata": {},
   "outputs": [],
   "source": [
    "def square_elements(ls):\n",
    "    return [i**2 for i in ls]"
   ]
  },
  {
   "cell_type": "code",
   "execution_count": 33,
   "id": "theoretical-houston",
   "metadata": {},
   "outputs": [
    {
     "name": "stdout",
     "output_type": "stream",
     "text": [
      "[1, 4, 9]\n"
     ]
    }
   ],
   "source": [
    "print(square_elements([1, 2, 3]))"
   ]
  },
  {
   "cell_type": "markdown",
   "id": "descending-orbit",
   "metadata": {},
   "source": [
    "## Activity: Compute the expected value of a fair dice\n",
    "\n",
    "By Definition, the expected value of random events (a random variable) like rolling a dice is computed as: \n",
    "\n",
    "$E(X) = \\sum_{i=1}^{6}i * P(dice = i)$\n",
    "\n",
    "<img src=\"dice.jpg\" width=\"100\" height=\"100\">\n",
    "\n",
    "1- For a fair dice,\n",
    "\n",
    "- compute the probability that when roll the dice then 1 apprears (P(dice = 1)), \n",
    "- compute the probability that when roll the dice then 2 apprears (P(dice = 2)), \n",
    "    - .\n",
    "    - .\n",
    "    - .\n",
    "- compute the probability that when roll the dice then 6 apprears (P(dice = 6))\n",
    "\n",
    "2- Compute $E(X)$ of dice from the above steps."
   ]
  },
  {
   "cell_type": "markdown",
   "id": "referenced-excess",
   "metadata": {},
   "source": [
    "### Answer:\n",
    "\n",
    "The expected value for a fair dice is:\n",
    "\n",
    "$E(X) = (1*1/6) + (2*1/6) + (3*1/6)+ (4*1/6) + (5*1/6) + (6*1/6)$\n",
    "\n",
    "$E(X) = 3.5$"
   ]
  },
  {
   "cell_type": "code",
   "execution_count": 38,
   "id": "headed-michael",
   "metadata": {},
   "outputs": [
    {
     "name": "stdout",
     "output_type": "stream",
     "text": [
      "[6 4 5 6 5 1 5 1 4 6 2 5 6 2 5 5 5 3 1 6 5 6 2 6 6 1 5 6 5 1 5 1 2 4 4 1 4\n",
      " 2 5 1 5 5 4 6 6 4 2 5 6 6 1 5 3 4 1 2 6 2 2 1 2 1 3 4 4 5 2 6 1 3 1 6 5 4\n",
      " 2 2 6 2 4 3 3 3 5 6 6 6 6 5 5 2 6 6 2 4 4 6 4 4 5 2 2 6 2 1 1 5 6 4 4 2 6\n",
      " 3 6 5 2 3 1 5 1 5 3 1 2 1 6 6 3 6 3 4 3 2 4 4 1 1 6 3 4 5 6 4 4 5 3 1 4 2\n",
      " 2 6 6 2 5 3 5 5 5 4 2 4 3 1 3 1 3 6 6 3 6 1 4 4 4 6 1 1 6 4 4 4 4 2 2 3 4\n",
      " 6 5 1 4 6 2 6 1 3 5 1 2 2 4 2 3 1 5 5 5 4 4 3 1 4 2 4 2 2 3 2 6 1 5 6 3 5\n",
      " 5 6 4 4 5 6 4 6 3 2 5 4 4 4 2 6 3 5 3 6 1 5 4 1 5 5 3 3 3 4 4 3 5 3 2 1 1\n",
      " 2 1 1 2 2 4 6 5 6 4 6 2 4 6 2 3 2 2 6 3 3 2 1 5 2 5 5 2 2 2 6 5 4 1 4 1 4\n",
      " 3 5 4 4 1 6 3 3 3 3 6 1 3 1 2 5 2 4 3 2 3 6 5 4 2 3 5 2 3 4 4 3 5 3 4 3 1\n",
      " 6 1 2 4 5 3 4 2 6 4 6 5 5 1 5 4 1 4 3 3 2 2 1 6 5 6 6 1 4 5 2 1 1 3 1 1 1\n",
      " 2 6 3 6 5 6 2 2 3 3 2 3 6 5 5 1 3 5 3 2 3 4 5 1 5 1 5 4 2 4 1 5 3 6 2 3 6\n",
      " 3 4 6 3 5 2 2 1 2 1 3 4 4 5 6 4 4 2 3 2 2 5 4 5 4 6 5 1 2 6 4 1 5 1 2 3 4\n",
      " 3 5 3 2 6 6 3 3 4 2 3 6 5 2 2 4 4 3 2 4 3 5 3 2 5 3 1 4 3 6 4 4 2 5 2 4 5\n",
      " 6 3 2 2 6 4 6 6 1 4 2 3 1 1 1 3 1 3 1 6 3 1 5 4 4 4 4 1 5 5 2 4 2 5 5 5 5\n",
      " 4 4 6 4 1 4 1 5 2 2 1 1 5 3 4 1 1 1 1 5 3 5 4 5 5 5 3 4 2 4 6 4 3 6 1 1 4\n",
      " 4 1 2 3 6 6 6 2 2 3 2 2 3 2 1 4 5 5 5 3 1 5 5 2 3 5 1 2 2 1 2 6 5 6 4 6 3\n",
      " 6 6 1 4 3 6 1 3 1 3 4 6 1 4 2 2 4 1 2 2 2 3 2 6 4 5 4 4 5 4 5 6 3 3 3 5 1\n",
      " 4 5 4 4 3 1 3 6 1 6 2 6 6 5 1 1 2 1 6 6 1 6 6 1 5 2 3 4 2 4 3 4 1 4 5 6 5\n",
      " 5 5 1 3 4 1 2 3 6 1 1 2 6 5 4 5 5 1 5 5 6 2 4 4 2 5 5 3 6 1 4 5 4 1 5 6 3\n",
      " 1 5 5 3 5 5 3 1 3 6 5 1 6 1 1 3 4 4 6 4 6 2 4 3 3 2 3 1 6 6 2 4 4 5 6 4 4\n",
      " 6 3 5 5 2 1 1 5 2 4 6 5 1 5 5 6 2 5 5 3 2 3 2 6 3 3 5 2 1 4 3 6 4 5 1 4 3\n",
      " 4 4 5 5 3 2 1 5 6 5 3 1 4 1 4 2 6 1 3 4 6 6 6 6 3 6 3 3 3 3 5 6 1 4 1 5 1\n",
      " 4 1 1 3 1 2 3 3 3 5 3 5 6 2 4 2 1 5 6 3 2 6 1 4 1 6 6 6 6 2 4 4 1 5 5 2 4\n",
      " 2 1 2 2 6 5 3 6 5 3 1 4 1 1 3 5 2 2 2 2 4 2 2 1 6 2 2 5 2 5 6 5 5 5 3 6 3\n",
      " 6 3 3 1 1 1 1 4 5 1 6 2 1 5 5 3 2 1 1 1 3 2 1 3 6 4 2 3 2 3 6 3 3 2 2 2 5\n",
      " 1 1 1 3 5 6 6 6 3 4 4 1 4 5 3 1 6 1 1 5 3 1 2 6 3 1 3 3 2 1 5 6 4 2 2 1 5\n",
      " 1 6 6 3 1 6 5 3 4 4 6 1 1 5 6 4 3 2 4 1 3 6 1 4 4 5 2 6 1 3 4 3 4 4 6 4 1\n",
      " 3]\n",
      "3.503\n",
      "3.503\n"
     ]
    }
   ],
   "source": [
    "# We can show that E(X) is the mean of the following dice random variable\n",
    "import numpy as np\n",
    "# lets roll the dice 1000 times \n",
    "dice = np.random.randint(low=1.0, high=7.0, size=1000)\n",
    "print(dice)\n",
    "# Compute the mean of dice list\n",
    "print(np.mean(dice))\n",
    "print(sum(dice)/len(dice))"
   ]
  },
  {
   "cell_type": "markdown",
   "id": "dietary-skating",
   "metadata": {},
   "source": [
    "## Activity:  Write a function to compute the mode from an arbitrary list\n",
    "\n",
    "- Hint: The mode is the most commonly occurring value or feature across our data."
   ]
  },
  {
   "cell_type": "code",
   "execution_count": 41,
   "id": "alternative-daily",
   "metadata": {},
   "outputs": [
    {
     "name": "stdout",
     "output_type": "stream",
     "text": [
      "({1: 2, 3: 5, 5: 2, 2: 1, 7: 3, 8: 1, 4: 2, 10: 2, 0: 3, 6: 1, 9: 1}, 3)\n"
     ]
    }
   ],
   "source": [
    "data = [1, 3, 5, 2, 3, 7, 8, 4, 10, 0, 6, 7, 3, 0, 3, 0, 5, 7, 10, 1, 4, 9, 3]\n",
    "\n",
    "def compute_mode(dataset):\n",
    "    # Histogram Dictionary\n",
    "    histogram_dic = {}\n",
    "    for i in dataset:\n",
    "        if i not in histogram_dic:\n",
    "            histogram_dic[i] = 1\n",
    "        else:\n",
    "            histogram_dic[i] += 1\n",
    "    return (histogram_dic, max(histogram_dic, key=histogram_dic.get))\n",
    "\n",
    "print(compute_mode(data))"
   ]
  },
  {
   "cell_type": "markdown",
   "id": "blank-assignment",
   "metadata": {},
   "source": [
    "## Activity: Obtain the k largests elements in a given list"
   ]
  },
  {
   "cell_type": "code",
   "execution_count": 43,
   "id": "manufactured-calculation",
   "metadata": {},
   "outputs": [],
   "source": [
    "def k_largest(ls, k):\n",
    "    for i in range(len(ls)):\n",
    "        temp = []\n",
    "        for j in range(len(ls)):\n",
    "                temp.append(ls[i]<ls[j])\n",
    "        if sum(temp) == k:\n",
    "            return [ls[s] for s in range(len(temp)) if temp[s] == True]"
   ]
  },
  {
   "cell_type": "code",
   "execution_count": 44,
   "id": "lesser-board",
   "metadata": {},
   "outputs": [
    {
     "name": "stdout",
     "output_type": "stream",
     "text": [
      "[6, 8, 7]\n"
     ]
    }
   ],
   "source": [
    "print(k_largest([5, 1, 3, 6, 8, 2, 4, 7], 3))"
   ]
  },
  {
   "cell_type": "markdown",
   "id": "blind-murray",
   "metadata": {},
   "source": [
    "## Activity: Given two arrays, determine if both arrays contain exactly the same elements with the same repetition\n",
    " \n",
    "- Input [1,2,5,4,0] and [4,2,5,0,1] -> Yes\n",
    "- Input [1,7,1] and [7,7,1] -> No\n"
   ]
  },
  {
   "cell_type": "code",
   "execution_count": 45,
   "id": "russian-orange",
   "metadata": {},
   "outputs": [
    {
     "name": "stdout",
     "output_type": "stream",
     "text": [
      "{3: 1, 8: 2, 4: 1}\n"
     ]
    }
   ],
   "source": [
    "def histogram(ls):\n",
    "    dictionary = {}\n",
    "    for i in ls:\n",
    "        if i not in dictionary:\n",
    "            dictionary[i] = 1\n",
    "        else:\n",
    "            dictionary[i] += 1\n",
    "    return dictionary\n",
    "\n",
    "print(histogram([3, 8, 4, 8]))"
   ]
  },
  {
   "cell_type": "code",
   "execution_count": 49,
   "id": "vertical-passenger",
   "metadata": {},
   "outputs": [],
   "source": [
    "def same_lists(ls1,ls2):\n",
    "    c1 = 0\n",
    "    c2 = 0\n",
    "    for key in histogram(ls1).keys():\n",
    "        if key in histogram(ls2).keys():\n",
    "            c1 += 1\n",
    "    for value in histogram(ls1).values():\n",
    "        if value in histogram(ls1).values():\n",
    "            c2 += 1\n",
    "    return c1 == c2 == len(ls1) == len(ls2)"
   ]
  },
  {
   "cell_type": "code",
   "execution_count": 47,
   "id": "potential-nepal",
   "metadata": {},
   "outputs": [
    {
     "name": "stdout",
     "output_type": "stream",
     "text": [
      "True\n"
     ]
    }
   ],
   "source": [
    "print(same_lists([1,2,5,4,0], [4,2,5,0,1]))"
   ]
  },
  {
   "cell_type": "code",
   "execution_count": 55,
   "id": "suitable-bottle",
   "metadata": {},
   "outputs": [
    {
     "name": "stdout",
     "output_type": "stream",
     "text": [
      "False\n"
     ]
    }
   ],
   "source": [
    "print(same_lists([1,7,1], [7,7,1]))"
   ]
  },
  {
   "cell_type": "markdown",
   "id": "ready-inclusion",
   "metadata": {},
   "source": [
    "## Activity: Reverse the elements of a list"
   ]
  },
  {
   "cell_type": "code",
   "execution_count": 50,
   "id": "metric-moderator",
   "metadata": {},
   "outputs": [],
   "source": [
    "def reverse_f(ls):\n",
    "    N = len(ls)\n",
    "    reverse_ls = []\n",
    "    for i in range(N):\n",
    "        reverse_ls.append(ls[N - (i+1)])\n",
    "    return reverse_ls"
   ]
  },
  {
   "cell_type": "code",
   "execution_count": 51,
   "id": "difficult-perspective",
   "metadata": {},
   "outputs": [
    {
     "name": "stdout",
     "output_type": "stream",
     "text": [
      "[10, 9, 8, 7, 6, 5, 4, 3, 2, 1]\n"
     ]
    }
   ],
   "source": [
    "print(reverse_f([1, 2, 3, 4, 5, 6, 7, 8, 9, 10]))"
   ]
  },
  {
   "cell_type": "code",
   "execution_count": 54,
   "id": "meaningful-damage",
   "metadata": {},
   "outputs": [
    {
     "name": "stdout",
     "output_type": "stream",
     "text": [
      "[10, 9, 8, 7, 6, 5, 4, 3, 2, 1]\n"
     ]
    }
   ],
   "source": [
    "## easier way for above task\n",
    "ls = [1, 2, 3, 4, 5, 6, 7, 8, 9, 10]\n",
    "print(ls[::-1])"
   ]
  },
  {
   "cell_type": "markdown",
   "id": "alternate-trust",
   "metadata": {},
   "source": [
    "## Activity: Find pairs in a list such that their sum is equal to a given number"
   ]
  },
  {
   "cell_type": "code",
   "execution_count": 53,
   "id": "guided-kuwait",
   "metadata": {},
   "outputs": [
    {
     "name": "stdout",
     "output_type": "stream",
     "text": [
      "[[5, 2], [-4, 11]]\n"
     ]
    }
   ],
   "source": [
    "def find_sum_pairs(S, lst):\n",
    "    l = []\n",
    "    for i in range(len(lst)):\n",
    "        for j in range(i+1, len(lst)):\n",
    "            if lst[i]+lst[j] == S:\n",
    "                l.append([lst[i], lst[j]])\n",
    "    return l\n",
    "  \n",
    "print(find_sum_pairs(7, [3, 5, 2, -4, 8, 11]))"
   ]
  },
  {
   "cell_type": "markdown",
   "id": "concrete-pastor",
   "metadata": {},
   "source": [
    "## Amazon interview Question:\n",
    "\n",
    "- We know the entering time and exit time of patients in a medical center. \n",
    "- What is the maximum number of patients present in that medical center?\n",
    "- As an example, consider the following lists as entering time and exit time for 4 patients:\n",
    "\n",
    "    - `entering_time = [1, 3, 2, 5]`\n",
    "\n",
    "    - `exit_time = [4, 5, 7, 10]`\n",
    "\n",
    "- These two lists are ordered based on patients\n",
    "- Hint: For simplicity, define 1 hour as the time interval"
   ]
  },
  {
   "cell_type": "code",
   "execution_count": 57,
   "id": "first-hacker",
   "metadata": {},
   "outputs": [
    {
     "name": "stdout",
     "output_type": "stream",
     "text": [
      "([1, 2, 3, 3, 3, 2, 2, 1, 1, 1], 3, 10)\n"
     ]
    }
   ],
   "source": [
    "def find_max_num_patient(start, end):\n",
    "    time_interval = 1 \n",
    "    ls = []\n",
    "    for time in range(min(start), max(end) + 1, time_interval):\n",
    "        counter = 0\n",
    "        for i,j in zip(start, end):\n",
    "            if time in range(i, j + 1, time_interval):\n",
    "                counter += 1\n",
    "        ls.append(counter)\n",
    "    return ls, max(ls), len(ls)\n",
    "\n",
    "print(find_max_num_patient([1, 3, 2, 5], [4, 5, 7, 10]))"
   ]
  },
  {
   "cell_type": "markdown",
   "id": "nonprofit-sigma",
   "metadata": {},
   "source": [
    "## Activity: For a given list and number of partition (n), partition (divide) list to n parts"
   ]
  },
  {
   "cell_type": "code",
   "execution_count": 58,
   "id": "cathedral-maple",
   "metadata": {},
   "outputs": [
    {
     "name": "stdout",
     "output_type": "stream",
     "text": [
      "[[1, 2, 3, 4, 5], [6, 7, 8, 9, 10]]\n"
     ]
    }
   ],
   "source": [
    "def partion_ls(ls, n_part):\n",
    "    c = len(ls)//n_part\n",
    "    return [ls[i:i+c] for i in range(0, len(ls), c)]\n",
    "\n",
    "L = [1, 2, 3, 4, 5, 6, 7, 8, 9, 10]\n",
    "print(partion_ls(L, 2))"
   ]
  },
  {
   "cell_type": "markdown",
   "id": "outer-commons",
   "metadata": {},
   "source": [
    "## Activity: A matrix is given and a threshold is given\n",
    "\n",
    "- Write a function that returns the row index and column index of an element if element > threshold\n",
    "- Ignore the diagonal element in the matrix. As an example for the below matrix and threshold 0.5:"
   ]
  },
  {
   "cell_type": "code",
   "execution_count": 70,
   "id": "religious-cooking",
   "metadata": {},
   "outputs": [],
   "source": [
    "matx = [[1.   , 0.273, 0.195, 0.89 , 0.216, 0.134, 0.064, 0.944, 0.235],\n",
    "       [0.273, 1.   , 0.236, 0.273, 0.143, 0.321, 0.084, 0.29 , 0.309],\n",
    "       [0.195, 0.236, 1.   , 0.195, 0.97 , 0.14 , 0.133, 0.206, 0.123],\n",
    "       [0.89 , 0.273, 0.195, 1.   , 0.272, 0.134, 0.064, 0.828, 0.235],\n",
    "       [0.216, 0.143, 0.97 , 0.272, 1.   , 0.137, 0.13 , 0.229, 0.06 ],\n",
    "       [0.134, 0.321, 0.14 , 0.134, 0.137, 1.   , 0.373, 0.142, 0.   ],\n",
    "       [0.064, 0.084, 0.133, 0.064, 0.13 , 0.373, 1.   , 0.067, 0.305],\n",
    "       [0.944, 0.29 , 0.206, 0.828, 0.229, 0.142, 0.067, 1.   , 0.249],\n",
    "       [0.235, 0.309, 0.123, 0.235, 0.06 , 0.   , 0.305, 0.249, 1.   ]]"
   ]
  },
  {
   "cell_type": "code",
   "execution_count": 72,
   "id": "distributed-emission",
   "metadata": {},
   "outputs": [],
   "source": [
    "def index_cosine_matrix(cosine_matrix):\n",
    "    for index_row, row in enumerate(cosine_matrix):\n",
    "        for index_element, element in enumerate(row):\n",
    "            if (element > 0.5) and (index_element != index_row):\n",
    "                print((element, index_row, index_element)) "
   ]
  },
  {
   "cell_type": "code",
   "execution_count": 73,
   "id": "hired-nickel",
   "metadata": {},
   "outputs": [
    {
     "name": "stdout",
     "output_type": "stream",
     "text": [
      "(0.89, 0, 3)\n",
      "(0.944, 0, 7)\n",
      "(0.97, 2, 4)\n",
      "(0.89, 3, 0)\n",
      "(0.828, 3, 7)\n",
      "(0.97, 4, 2)\n",
      "(0.944, 7, 0)\n",
      "(0.828, 7, 3)\n"
     ]
    }
   ],
   "source": [
    "index_cosine_matrix(matx)"
   ]
  },
  {
   "cell_type": "markdown",
   "id": "featured-utilization",
   "metadata": {},
   "source": [
    "## Activity: Write Custom Function to Compute Histogram distribution for a Numerical Array\n",
    "\n",
    "- You can use numpy\n",
    "- Your function takes two arguments: 1- list 2- number of bins\n",
    "- Your function would return a dictionary with $i$th-interval (as keys) and how many of elements in list are in the $i$th-interval (as values)\n",
    "- Sudo code for Histogram:\n",
    "    - Obtain the minimum element of the list\n",
    "    - Obtain the maximum element of the list\n",
    "    - Obtain the interval length\n",
    "    - Count how many elements in the list is in first interval, how many elements in the list is in the second interval, ..."
   ]
  },
  {
   "cell_type": "code",
   "execution_count": 74,
   "id": "surprising-kitchen",
   "metadata": {},
   "outputs": [],
   "source": [
    "import pandas as pd\n",
    "import numpy as np\n",
    "\n",
    "df = pd.read_csv('titanic.csv')"
   ]
  },
  {
   "cell_type": "code",
   "execution_count": 83,
   "id": "annoying-while",
   "metadata": {},
   "outputs": [
    {
     "name": "stdout",
     "output_type": "stream",
     "text": [
      "{0: 44, 1: 20, 2: 19, 3: 96, 4: 122, 5: 108, 6: 88, 7: 67, 8: 47, 9: 39, 10: 24, 11: 18, 12: 14, 13: 3, 14: 4, 15: 1}\n"
     ]
    }
   ],
   "source": [
    "# histogram distribution function\n",
    "def custom_histogram_distribution(ls, number_of_bins):\n",
    "    hist_ls_dict = dict()\n",
    "    min_ls = np.min(ls)\n",
    "    max_ls = np.max(ls)\n",
    "    # interval length\n",
    "    I = (max_ls - min_ls) / number_of_bins\n",
    "    for i_interval in range(number_of_bins):\n",
    "        hist_ls_dict[i_interval]= np.sum(((min_ls + i_interval*I) <=ls) & (ls <= (min_ls + (i_interval+1) *I)))      \n",
    "    return hist_ls_dict\n",
    "        \n",
    "print(custom_histogram_distribution(df['Age'].dropna().values, 16))"
   ]
  },
  {
   "cell_type": "code",
   "execution_count": 84,
   "id": "endangered-hampton",
   "metadata": {},
   "outputs": [
    {
     "name": "stdout",
     "output_type": "stream",
     "text": [
      "{0: 100, 1: 346, 2: 188, 3: 69, 4: 11}\n"
     ]
    }
   ],
   "source": [
    "print(custom_histogram_distribution(df['Age'].dropna().values, 5))"
   ]
  },
  {
   "cell_type": "code",
   "execution_count": 86,
   "id": "discrete-authorization",
   "metadata": {},
   "outputs": [
    {
     "data": {
      "text/plain": [
       "<BarContainer object of 16 artists>"
      ]
     },
     "execution_count": 86,
     "metadata": {},
     "output_type": "execute_result"
    },
    {
     "data": {
      "image/png": "[encoded data removed]",
      "text/plain": [
       "<Figure size 432x288 with 1 Axes>"
      ]
     },
     "metadata": {},
     "output_type": "display_data"
    }
   ],
   "source": [
    "import matplotlib.pyplot as plt\n",
    "\n",
    "hist_dict = custom_histogram_distribution(df['Age'].dropna().values, 16)\n",
    "plt.bar(hist_dict.keys(), hist_dict.values())"
   ]
  },
  {
   "cell_type": "code",
   "execution_count": 87,
   "id": "owned-sleep",
   "metadata": {},
   "outputs": [
    {
     "data": {
      "text/plain": [
       "<BarContainer object of 5 artists>"
      ]
     },
     "execution_count": 87,
     "metadata": {},
     "output_type": "execute_result"
    },
    {
     "data": {
      "image/png": "[encoded data removed]",
      "text/plain": [
       "<Figure size 432x288 with 1 Axes>"
      ]
     },
     "metadata": {},
     "output_type": "display_data"
    }
   ],
   "source": [
    "import matplotlib.pyplot as plt\n",
    "\n",
    "hist_dict = custom_histogram_distribution(df['Age'].dropna().values, 5)\n",
    "plt.bar(hist_dict.keys(), hist_dict.values())"
   ]
  },
  {
   "cell_type": "code",
   "execution_count": null,
   "id": "empirical-debate",
   "metadata": {},
   "outputs": [],
   "source": []
  }
 ],
 "metadata": {
  "kernelspec": {
   "name": "python392jvsc74a57bd0aee8b7b246df8f9039afb4144a1f6fd8d2ca17a180786b69acc140d282b71a49",
   "display_name": "Python 3.9.2 64-bit"
  },
  "language_info": {
   "codemirror_mode": {
    "name": "ipython",
    "version": 3
   },
   "file_extension": ".py",
   "mimetype": "text/x-python",
   "name": "python",
   "nbconvert_exporter": "python",
   "pygments_lexer": "ipython3",
   "version": "3.9.2"
  },
  "metadata": {
   "interpreter": {
    "hash": "aee8b7b246df8f9039afb4144a1f6fd8d2ca17a180786b69acc140d282b71a49"
   }
  }
 },
 "nbformat": 4,
 "nbformat_minor": 5
}