{
  "nbformat": 4,
  "nbformat_minor": 5,
  "metadata": {
    "kernelspec": {
      "name": "python392jvsc74a57bd0aee8b7b246df8f9039afb4144a1f6fd8d2ca17a180786b69acc140d282b71a49",
      "display_name": "Python 3.9.2 64-bit"
    },
    "language_info": {
      "codemirror_mode": {
        "name": "ipython",
        "version": 3
      },
      "file_extension": ".py",
      "mimetype": "text/x-python",
      "name": "python",
      "nbconvert_exporter": "python",
      "pygments_lexer": "ipython3",
      "version": "3.9.2"
    },
    "metadata": {
      "interpreter": {
        "hash": "aee8b7b246df8f9039afb4144a1f6fd8d2ca17a180786b69acc140d282b71a49"
      }
    },
    "colab": {
      "name": "chapter_0_part1.ipynb",
      "provenance": [],
      "toc_visible": true,
      "include_colab_link": true
    }
  },
  "cells": [
    {
      "cell_type": "markdown",
      "metadata": {
        "id": "view-in-github",
        "colab_type": "text"
      },
      "source": [
        "<a href=\"https://colab.research.google.com/github/UPstartDeveloper/Python-Literacy-Project/blob/main/chapter0-exercises/chapter_0_part1.ipynb\" target=\"_parent\"><img src=\"https://colab.research.google.com/assets/colab-badge.svg\" alt=\"Open In Colab\"/></a>"
      ]
    },
    {
      "cell_type": "markdown",
      "metadata": {
        "id": "hfiknnCN421M"
      },
      "source": [
        "## Message to Google Colab Users\n",
        "\n",
        "If working within Google Colab, please run the cell below in order to use any files stored in your Google Drive, to help you along as you complete the exercises."
      ],
      "id": "hfiknnCN421M"
    },
    {
      "cell_type": "code",
      "metadata": {
        "colab": {
          "base_uri": "https://localhost:8080/"
        },
        "id": "ma84o0_24mcQ",
        "outputId": "0a8ab2ec-9fcf-4eb6-89a2-e8dbe05f26b5"
      },
      "source": [
        "from google.colab import drive\n",
        "drive.mount('/content/drive')"
      ],
      "id": "ma84o0_24mcQ",
      "execution_count": null,
      "outputs": [
        {
          "output_type": "stream",
          "text": [
            "Mounted at /content/drive\n"
          ],
          "name": "stdout"
        }
      ]
    },
    {
      "cell_type": "markdown",
      "metadata": {
        "id": "k97TZ0J54cZ_"
      },
      "source": [
        "## Version Information\n",
        "\n",
        "We strongly recommend you to use Python 3 throughout this book. Versions of Python 2.x, although they are deprecated, may work in this chapter since most of the exercises rely on built-in functions. We will show you to check your version number below."
      ],
      "id": "k97TZ0J54cZ_"
    },
    {
      "cell_type": "code",
      "metadata": {
        "id": "DYxtfmnM4caC"
      },
      "source": [
        "# Python ≥3.5 is required\n",
        "import sys\n",
        "assert sys.version_info >= (3, 5)"
      ],
      "id": "DYxtfmnM4caC",
      "execution_count": 1,
      "outputs": []
    },
    {
      "cell_type": "code",
      "metadata": {
        "colab": {
          "base_uri": "https://localhost:8080/"
        },
        "id": "LltlEAsf5w9y",
        "outputId": "64cb6f7e-c345-4104-e3ab-4d962ac43ec5"
      },
      "source": [
        "# Alternatively, you can just print the Python version\n",
        "print(sys.version)"
      ],
      "id": "LltlEAsf5w9y",
      "execution_count": 2,
      "outputs": [
        {
          "output_type": "stream",
          "text": [
            "3.7.10 (default, May  3 2021, 02:48:31) \n",
            "[GCC 7.5.0]\n"
          ],
          "name": "stdout"
        }
      ]
    },
    {
      "cell_type": "markdown",
      "metadata": {
        "id": "dress-automation"
      },
      "source": [
        "## Activity 1: Find the Maximum Element\n",
        "You are given a `list` of numbers, `nums`. How would you write Python code to find the largest element in this list?\n",
        "\n",
        "*Note:* in our solution, we initialize the `max_element` to `float(\"-inf\")`. This just represents the lowest numerical value that can be stored in a Python variable."
      ],
      "id": "dress-automation"
    },
    {
      "cell_type": "markdown",
      "metadata": {
        "id": "k15ScsYL4caD"
      },
      "source": [
        "### Example Input"
      ],
      "id": "k15ScsYL4caD"
    },
    {
      "cell_type": "code",
      "metadata": {
        "id": "_1SQVWH64caD"
      },
      "source": [
        "nums1 = [10, 3, 4, 20, 12]"
      ],
      "id": "_1SQVWH64caD",
      "execution_count": null,
      "outputs": []
    },
    {
      "cell_type": "markdown",
      "metadata": {
        "id": "F0aWl7zH4caD"
      },
      "source": [
        "### Solution 1: Using Custom Code"
      ],
      "id": "F0aWl7zH4caD"
    },
    {
      "cell_type": "code",
      "metadata": {
        "id": "cultural-taste"
      },
      "source": [
        "def find_max_1(nums):\n",
        "    max_element = float(\"-inf\") \n",
        "    for element in nums:\n",
        "        if element > max_element:\n",
        "            max_element = element\n",
        "    return max_element"
      ],
      "id": "cultural-taste",
      "execution_count": null,
      "outputs": []
    },
    {
      "cell_type": "markdown",
      "metadata": {
        "id": "6II7cwTs4caE"
      },
      "source": [
        "#### Test Out Solution 1"
      ],
      "id": "6II7cwTs4caE"
    },
    {
      "cell_type": "code",
      "metadata": {
        "colab": {
          "base_uri": "https://localhost:8080/"
        },
        "id": "spare-medicare",
        "outputId": "16796626-6e5d-45c4-f120-db23878cf9ae"
      },
      "source": [
        "print(find_max_1(nums1))"
      ],
      "id": "spare-medicare",
      "execution_count": null,
      "outputs": [
        {
          "output_type": "stream",
          "text": [
            "20\n"
          ],
          "name": "stdout"
        }
      ]
    },
    {
      "cell_type": "markdown",
      "metadata": {
        "id": "KDQOQRCg4caF"
      },
      "source": [
        "### Solution 2: Using `max()`\n",
        "\n",
        "Say hello to our first built-in Python function!\n",
        "\n",
        "`max()` will return the largest value in finds in any input `list`. Alternatively, you could also pass in several values to the function all at once, and achieve the same result.\n",
        "\n",
        "i.e. `max([x, y, z])` gives the same result as calling `max(x, y, z)`.\n",
        "\n",
        "Read more about `max()` in the [Python 3 documentation](https://docs.python.org/3/library/functions.html#max)."
      ],
      "id": "KDQOQRCg4caF"
    },
    {
      "cell_type": "markdown",
      "metadata": {
        "id": "otLqm9IK4caF"
      },
      "source": [
        "#### Test Out Solution 2"
      ],
      "id": "otLqm9IK4caF"
    },
    {
      "cell_type": "code",
      "metadata": {
        "colab": {
          "base_uri": "https://localhost:8080/"
        },
        "id": "0xLmBE8P4caF",
        "outputId": "06249fcb-07e5-4322-9992-c4805e856352"
      },
      "source": [
        "# does this output the same value as above?\n",
        "print(max(nums1))"
      ],
      "id": "0xLmBE8P4caF",
      "execution_count": null,
      "outputs": [
        {
          "output_type": "stream",
          "text": [
            "20\n"
          ],
          "name": "stdout"
        }
      ]
    },
    {
      "cell_type": "markdown",
      "metadata": {
        "id": "monetary-mediterranean"
      },
      "source": [
        "## Activity 2: Index of Maximum Element\n",
        "\n",
        "You are given a `list` of numbers, `nums`. How would you write Python code to find the index of the largest element in the list?\n",
        "\n",
        "`Note`: if there are no elements in `nums`, then please return -1. Also, if the largest value appears more than once in `nums`, then return the index of where it first appears."
      ],
      "id": "monetary-mediterranean"
    },
    {
      "cell_type": "markdown",
      "metadata": {
        "id": "Dl59SjxP4caG"
      },
      "source": [
        "### Example Input"
      ],
      "id": "Dl59SjxP4caG"
    },
    {
      "cell_type": "code",
      "metadata": {
        "id": "PzLMzVaV4caG"
      },
      "source": [
        "nums2 = [10, 3, 4, 20, 12]"
      ],
      "id": "PzLMzVaV4caG",
      "execution_count": null,
      "outputs": []
    },
    {
      "cell_type": "markdown",
      "metadata": {
        "id": "khlxG6lc4caG"
      },
      "source": [
        "### Solution 1: `for` loop using `range()`"
      ],
      "id": "khlxG6lc4caG"
    },
    {
      "cell_type": "code",
      "metadata": {
        "id": "cpURsZ384caH"
      },
      "source": [
        "def find_max_index_1(nums):\n",
        "    max_element = float(\"-inf\")\n",
        "    max_element_index = -1\n",
        "    for index in range(len(nums)):\n",
        "        element = nums[index]\n",
        "        if element > max_element:\n",
        "            max_element = element\n",
        "            max_element_index = index\n",
        "    return max_element_index"
      ],
      "id": "cpURsZ384caH",
      "execution_count": null,
      "outputs": []
    },
    {
      "cell_type": "markdown",
      "metadata": {
        "id": "cIoo3w4A4caH"
      },
      "source": [
        "#### Test Out Solution 1"
      ],
      "id": "cIoo3w4A4caH"
    },
    {
      "cell_type": "code",
      "metadata": {
        "colab": {
          "base_uri": "https://localhost:8080/"
        },
        "id": "m5k8LczG4caH",
        "outputId": "762fa6a5-9018-4426-8f10-2c64dc0c5377"
      },
      "source": [
        "print(find_max_index_1(nums2))"
      ],
      "id": "m5k8LczG4caH",
      "execution_count": null,
      "outputs": [
        {
          "output_type": "stream",
          "text": [
            "3\n"
          ],
          "name": "stdout"
        }
      ]
    },
    {
      "cell_type": "markdown",
      "metadata": {
        "id": "Wm_J5dPU4caH"
      },
      "source": [
        "### Solution 2: `for` loop using `enumerate()`"
      ],
      "id": "Wm_J5dPU4caH"
    },
    {
      "cell_type": "code",
      "metadata": {
        "id": "transparent-spoke"
      },
      "source": [
        "def find_max_index_2(nums):\n",
        "    max_element_index = -1\n",
        "    max_element = float(\"-inf\")\n",
        "    for index, element in enumerate(nums):\n",
        "        if element > max_element:\n",
        "            max_element = element\n",
        "            max_element_index = index\n",
        "    return max_element_index"
      ],
      "id": "transparent-spoke",
      "execution_count": null,
      "outputs": []
    },
    {
      "cell_type": "code",
      "metadata": {
        "colab": {
          "base_uri": "https://localhost:8080/"
        },
        "id": "8iNNurgV4caI",
        "outputId": "497c3280-4712-4b61-97df-8aaabc6888d1"
      },
      "source": [
        "print(find_max_index_2(nums2))"
      ],
      "id": "8iNNurgV4caI",
      "execution_count": null,
      "outputs": [
        {
          "output_type": "stream",
          "text": [
            "3\n"
          ],
          "name": "stdout"
        }
      ]
    },
    {
      "cell_type": "markdown",
      "metadata": {
        "id": "MaC-FSOY4caI"
      },
      "source": [
        "### Solution 3: Using `max()` and `index()`"
      ],
      "id": "MaC-FSOY4caI"
    },
    {
      "cell_type": "code",
      "metadata": {
        "id": "l7p69fD54caI"
      },
      "source": [
        "def find_max_index_3(nums):\n",
        "    # A: empty list\n",
        "    if nums is None or len(nums) == 0:\n",
        "        return -1\n",
        "    # B: all other lists\n",
        "    max_element = max(nums)\n",
        "    max_element_index = nums.index(max_element)\n",
        "    return max_element_index"
      ],
      "id": "l7p69fD54caI",
      "execution_count": null,
      "outputs": []
    },
    {
      "cell_type": "markdown",
      "metadata": {
        "id": "QFPqBNWy4caI"
      },
      "source": [
        "#### Test Solution 3"
      ],
      "id": "QFPqBNWy4caI"
    },
    {
      "cell_type": "code",
      "metadata": {
        "colab": {
          "base_uri": "https://localhost:8080/"
        },
        "id": "GsbnE2B-4caI",
        "outputId": "3b16d181-17bb-4f16-db62-938721d20d07"
      },
      "source": [
        "print(find_max_index_3(nums2))"
      ],
      "id": "GsbnE2B-4caI",
      "execution_count": null,
      "outputs": [
        {
          "output_type": "stream",
          "text": [
            "3\n"
          ],
          "name": "stdout"
        }
      ]
    },
    {
      "cell_type": "markdown",
      "metadata": {
        "id": "eastern-windsor"
      },
      "source": [
        "## Activity 3: Product of Array\n",
        "\n",
        "You are given a `list` of multiple numbers, `nums`. How would you write Python code to compute the product of all the elements in `nums`?"
      ],
      "id": "eastern-windsor"
    },
    {
      "cell_type": "markdown",
      "metadata": {
        "id": "NcN6fNQx4caJ"
      },
      "source": [
        "### Example Input"
      ],
      "id": "NcN6fNQx4caJ"
    },
    {
      "cell_type": "code",
      "metadata": {
        "id": "rdDLWAz64caJ"
      },
      "source": [
        "nums3 = [10, 3, 4, 20, 12]"
      ],
      "id": "rdDLWAz64caJ",
      "execution_count": null,
      "outputs": []
    },
    {
      "cell_type": "markdown",
      "metadata": {
        "id": "RxNCDZF-4caJ"
      },
      "source": [
        "### Solution 1: Using a `for` loop"
      ],
      "id": "RxNCDZF-4caJ"
    },
    {
      "cell_type": "code",
      "metadata": {
        "id": "strange-worry"
      },
      "source": [
        "def product_of(nums):\n",
        "    prod = 1\n",
        "    for num in nums:\n",
        "        prod = prod * num \n",
        "    return prod"
      ],
      "id": "strange-worry",
      "execution_count": null,
      "outputs": []
    },
    {
      "cell_type": "markdown",
      "metadata": {
        "id": "s6J4D92E4caK"
      },
      "source": [
        "#### Test Out Solution 1"
      ],
      "id": "s6J4D92E4caK"
    },
    {
      "cell_type": "code",
      "metadata": {
        "colab": {
          "base_uri": "https://localhost:8080/"
        },
        "id": "opening-stuff",
        "outputId": "a942cb9c-134c-4527-ee88-e8bf0f575901"
      },
      "source": [
        "print(product_of(nums3))"
      ],
      "id": "opening-stuff",
      "execution_count": null,
      "outputs": [
        {
          "output_type": "stream",
          "text": [
            "28800\n"
          ],
          "name": "stdout"
        }
      ]
    },
    {
      "cell_type": "markdown",
      "metadata": {
        "id": "wPVvNJET4caK"
      },
      "source": [
        "### Solution 2: Using `math.prod`\n",
        "\n",
        "The `math` module is one of the most useful in the Python Standard Library, specifically for mathematical operations. \n",
        "\n",
        "The `math.prod()` was introduced in Python 3.8, and it can also be used to accomplish this task. You may read more of the details about this function as you wish [in the documentation](https://docs.python.org/3/library/math.html#math.prod)."
      ],
      "id": "wPVvNJET4caK"
    },
    {
      "cell_type": "code",
      "metadata": {
        "colab": {
          "base_uri": "https://localhost:8080/",
          "height": 232
        },
        "id": "g926FtKb4caK",
        "outputId": "cf4469a7-2712-424c-fb31-5c104e977441"
      },
      "source": [
        "# A: first, import the math module\n",
        "import math\n",
        "\n",
        "# B: then ensure Python version is >=3.8\n",
        "assert sys.version_info >= (3, 8)\n",
        "\n",
        "# C: if all is well, return the product\n",
        "result = math.prod(nums3)\n"
      ],
      "id": "g926FtKb4caK",
      "execution_count": null,
      "outputs": [
        {
          "output_type": "error",
          "ename": "AssertionError",
          "evalue": "ignored",
          "traceback": [
            "\u001b[0;31m---------------------------------------------------------------------------\u001b[0m",
            "\u001b[0;31mAssertionError\u001b[0m                            Traceback (most recent call last)",
            "\u001b[0;32m<ipython-input-18-264d4190135d>\u001b[0m in \u001b[0;36m<module>\u001b[0;34m()\u001b[0m\n\u001b[1;32m      3\u001b[0m \u001b[0;34m\u001b[0m\u001b[0m\n\u001b[1;32m      4\u001b[0m \u001b[0;31m# B: then ensure Python version is >=3.8\u001b[0m\u001b[0;34m\u001b[0m\u001b[0;34m\u001b[0m\u001b[0;34m\u001b[0m\u001b[0m\n\u001b[0;32m----> 5\u001b[0;31m \u001b[0;32massert\u001b[0m \u001b[0msys\u001b[0m\u001b[0;34m.\u001b[0m\u001b[0mversion_info\u001b[0m \u001b[0;34m>=\u001b[0m \u001b[0;34m(\u001b[0m\u001b[0;36m3\u001b[0m\u001b[0;34m,\u001b[0m \u001b[0;36m8\u001b[0m\u001b[0;34m)\u001b[0m\u001b[0;34m\u001b[0m\u001b[0;34m\u001b[0m\u001b[0m\n\u001b[0m\u001b[1;32m      6\u001b[0m \u001b[0;34m\u001b[0m\u001b[0m\n\u001b[1;32m      7\u001b[0m \u001b[0;31m# C: if all is well, return the product\u001b[0m\u001b[0;34m\u001b[0m\u001b[0;34m\u001b[0m\u001b[0;34m\u001b[0m\u001b[0m\n",
            "\u001b[0;31mAssertionError\u001b[0m: "
          ]
        }
      ]
    },
    {
      "cell_type": "markdown",
      "metadata": {
        "id": "XOcMw0nO4caK"
      },
      "source": [
        "#### Test Out Solution 2"
      ],
      "id": "XOcMw0nO4caK"
    },
    {
      "cell_type": "code",
      "metadata": {
        "id": "TPdpsoGT4caL",
        "outputId": "746d680e-63c8-4e9d-bc61-233ed18bef1d"
      },
      "source": [
        "print(result)"
      ],
      "id": "TPdpsoGT4caL",
      "execution_count": null,
      "outputs": [
        {
          "output_type": "stream",
          "text": [
            "28800\n"
          ],
          "name": "stdout"
        }
      ]
    },
    {
      "cell_type": "markdown",
      "metadata": {
        "id": "myXT-BEp4caL"
      },
      "source": [
        "### Solution 3: Using `reduce()`\n",
        "\n",
        "The `reduce()` function is another handy tool. This function is typically used to take a given array of numbers and decompose them down into a singular value. This is done by applying a given helper function repeatedly to the values in the array, over and over again, until they are *reduced* to a single value.\n",
        "\n",
        "But how does `reduce()` do this, you may ask? Let's take an example to make it clearer: consider you have a Python `list` that contains `[1, 2, 3, 4, 5]`, and a function called `multiply()` that computes the product of two values. If we passed both of these to the `reduce()` function, it would return the product of all the elements, `120`. Essentially, it computes the result of `((((1*2)*3)*4)*5)`.\n",
        "\n",
        "For your understanding, this process is visualized in the following diagram:\n",
        "\n",
        "<img src=\"https://i.postimg.cc/0NS1zDpn/how-reduce-works.png\" alt=\"How reduce() works\" height=\"225px\" width=\"300px\"></img>\n",
        "\n",
        "The Python code for this is implemented below:"
      ],
      "id": "myXT-BEp4caL"
    },
    {
      "cell_type": "code",
      "metadata": {
        "id": "O5-Q_seo4caL"
      },
      "source": [
        "# A: first, import reduce()\n",
        "from functools import reduce\n",
        "\n",
        "# B: next, define the helper function\n",
        "def multiply(num1, num2):\n",
        "    return num1 * num2\n",
        "\n",
        "# C: then, compute the product\n",
        "product = reduce(multiply, nums3)"
      ],
      "id": "O5-Q_seo4caL",
      "execution_count": null,
      "outputs": []
    },
    {
      "cell_type": "markdown",
      "metadata": {
        "id": "i6DlG23I4caM"
      },
      "source": [
        "#### Test Out Solution 3"
      ],
      "id": "i6DlG23I4caM"
    },
    {
      "cell_type": "code",
      "metadata": {
        "id": "6qLYkmTY4caM",
        "colab": {
          "base_uri": "https://localhost:8080/"
        },
        "outputId": "6ec33a5d-ef62-4bac-d747-bc7ccb050200"
      },
      "source": [
        "print(product)"
      ],
      "id": "6qLYkmTY4caM",
      "execution_count": null,
      "outputs": [
        {
          "output_type": "stream",
          "text": [
            "28800\n"
          ],
          "name": "stdout"
        }
      ]
    },
    {
      "cell_type": "markdown",
      "metadata": {
        "id": "female-alabama"
      },
      "source": [
        "## Activity 4: Is in Range\n",
        "\n",
        "Given a number `num`, how would you write Python code to check whether it falls in between a `lower_bound` number and an `upper_bound` number?\n",
        "\n",
        "*Note*: for this activity, the range of values between `lower_bound` and `upper_bound` is **inclusive** of the `lower_bound`, and **non-inclusive** of the `upper_bound`."
      ],
      "id": "female-alabama"
    },
    {
      "cell_type": "markdown",
      "metadata": {
        "id": "shNS0YAD4caM"
      },
      "source": [
        "### Example Inputs\n",
        "\n",
        "For example, if we are given `5` as our `num` and ask our function whether or not it falls in between a `lower_bound` of `3` and an `upper_bound` of `9`, then we would expect it to return `True`.\n",
        "\n",
        "However, if we use the same `num` and `upper_bound`, but change the `lower_bound` from `3` to `7`, we would now expect the function to return `False`."
      ],
      "id": "shNS0YAD4caM"
    },
    {
      "cell_type": "code",
      "metadata": {
        "id": "f-ZRamLF4caM"
      },
      "source": [
        "# these tuples order the args according to (lower_bound, upper_bound, num)\n",
        "true_example = (3, 9, 5)\n",
        "false_example = (7, 9, 5)\n",
        "\n",
        "\n",
        "def test_output(function, inputs):\n",
        "    '''Displays whether the function works as expected for the given input.'''\n",
        "    # A: unpack the input tuple into the corresponding args\n",
        "    lower_bound, upper_bound, num = inputs\n",
        "    # B: compute the result, use whatever function is passed in\n",
        "    output = function(lower_bound, upper_bound, num)\n",
        "    # C: display the result (Python 3.x required for format strings)\n",
        "    print(f\"{num} is in between {lower_bound} and {upper_bound}: {output}\")"
      ],
      "id": "f-ZRamLF4caM",
      "execution_count": null,
      "outputs": []
    },
    {
      "cell_type": "markdown",
      "metadata": {
        "id": "uzSU3KeA4caN"
      },
      "source": [
        "### Solution 1: Using the built-in `range()` function"
      ],
      "id": "uzSU3KeA4caN"
    },
    {
      "cell_type": "code",
      "metadata": {
        "id": "common-service"
      },
      "source": [
        "def is_in_range_1(lower_bound, upper_bound, num):\n",
        "    for element in range(lower_bound, upper_bound):\n",
        "        if element == num:\n",
        "            return True\n",
        "    return False"
      ],
      "id": "common-service",
      "execution_count": null,
      "outputs": []
    },
    {
      "cell_type": "markdown",
      "metadata": {
        "id": "ueJWr4it4caN"
      },
      "source": [
        "#### Test Out Solution 1"
      ],
      "id": "ueJWr4it4caN"
    },
    {
      "cell_type": "code",
      "metadata": {
        "id": "existing-lobby",
        "colab": {
          "base_uri": "https://localhost:8080/"
        },
        "outputId": "c4eaddfb-4d71-4fa4-8a75-dcd6ea11fa71"
      },
      "source": [
        "test_output(is_in_range_1, true_example)\n",
        "test_output(is_in_range_1, false_example)"
      ],
      "id": "existing-lobby",
      "execution_count": null,
      "outputs": [
        {
          "output_type": "stream",
          "text": [
            "5 is in between 3 and 9: True\n",
            "5 is in between 7 and 9: False\n"
          ],
          "name": "stdout"
        }
      ]
    },
    {
      "cell_type": "markdown",
      "metadata": {
        "id": "DgTfQtBx4caO"
      },
      "source": [
        "### Solution 2: Using `lambda`\n",
        "\n",
        "While solving this problem, you may have realized we don't necessarily need to iterate through all the numbers in the range `[lower_bound, upper_bound)`. Rather, we can merely use the comparision operators found in Python. With that in mind, your solution to this activity may have looked something like the following:\n",
        "\n",
        "```\n",
        "def is_in_range(lower_bound, upper_bound, num):\n",
        "    # in the range\n",
        "    if lower_bound <= num < upper_bound:\n",
        "        return True\n",
        "    # outside of the range\n",
        "    return False\n",
        "```\n",
        "\n",
        "This solution works fantastically. Nonetheless, the question you may ask now is: why do we have to dedicate an entire function to doing something with such simple logic?\n",
        "\n",
        "The creators of Python thought the same way, and that is part of why we have the `lambda` keyword. The `lambda` keyword is an especially useful tool for simplifying our code. It essentially allows us to define a function in a single line, and omit the `return` keyword as well. You may read more in the [Python documentation](https://docs.python.org/3/reference/expressions.html#lambda) as you wish."
      ],
      "id": "DgTfQtBx4caO"
    },
    {
      "cell_type": "code",
      "metadata": {
        "id": "biological-frank"
      },
      "source": [
        "is_in_range_2 = lambda lb, ub, num: lb <= num < ub"
      ],
      "id": "biological-frank",
      "execution_count": null,
      "outputs": []
    },
    {
      "cell_type": "markdown",
      "metadata": {
        "id": "M5vSmdJL4caO"
      },
      "source": [
        "#### Test Out Solution 2"
      ],
      "id": "M5vSmdJL4caO"
    },
    {
      "cell_type": "code",
      "metadata": {
        "id": "1G7ypkDn4caO",
        "colab": {
          "base_uri": "https://localhost:8080/"
        },
        "outputId": "bdcbc2aa-7da9-4188-bc42-75fcded62f30"
      },
      "source": [
        "test_output(is_in_range_2, true_example)\n",
        "test_output(is_in_range_2, false_example)"
      ],
      "id": "1G7ypkDn4caO",
      "execution_count": null,
      "outputs": [
        {
          "output_type": "stream",
          "text": [
            "5 is in between 3 and 9: True\n",
            "5 is in between 7 and 9: False\n"
          ],
          "name": "stdout"
        }
      ]
    },
    {
      "cell_type": "markdown",
      "metadata": {
        "id": "expanded-monkey"
      },
      "source": [
        "## Activity 5: Element-Wise Sum\n",
        "\n",
        "You are given two lists of numbers, `nums1` and `nums2`. How would you write Python code to compute their *element-wise sum*?\n",
        "\n",
        "You may assume that both `nums1` and `nums2` are not empty, and contain the same number of elements.\n"
      ],
      "id": "expanded-monkey"
    },
    {
      "cell_type": "markdown",
      "metadata": {
        "id": "fUr1eWUi7_Uo"
      },
      "source": [
        "### Example Input\n",
        "\n",
        "For example, if we are asked to compute the element-wise sum of `[1, 2, 3]` and `[10, 15, 20]`, then we would expect to eventually come up with `[11, 17, 23]`.\n",
        "\n",
        "This is because in an element-wise sum, we add the elements from both arrays that are at corresponding indices, and place their sum in that same index in a new array.\n",
        "\n",
        "For your understanding, this process is diagrammed below:\n",
        "```\n",
        "Index:       0   1   2  \n",
        "nums1:     [ 1,  2,  3]\n",
        "nums2:  +  [10, 15, 20]\n",
        "_______________________\n",
        "output:    [11, 17, 23]\n",
        "```"
      ],
      "id": "fUr1eWUi7_Uo"
    },
    {
      "cell_type": "code",
      "metadata": {
        "id": "l1accOkS9O5N"
      },
      "source": [
        "nums1 = [1, 2, 3]\n",
        "nums2 = [10, 15, 20]"
      ],
      "id": "l1accOkS9O5N",
      "execution_count": null,
      "outputs": []
    },
    {
      "cell_type": "markdown",
      "metadata": {
        "id": "fH6nJNH29fyg"
      },
      "source": [
        "### Solution 1: Using a `for` loop\n",
        "Notice how we keep track of the `index` as we iterate over both arrays:"
      ],
      "id": "fH6nJNH29fyg"
    },
    {
      "cell_type": "code",
      "metadata": {
        "id": "FLsum4Ac-EuZ"
      },
      "source": [
        "def element_wise_sum_1(nums1, nums2):\n",
        "  # A: init the output list\n",
        "  summed_elems = [0 for _ in range(len(nums1))]\n",
        "  # B: iterate over both input lists\n",
        "  for index in range(len(nums1)):\n",
        "    # C: place the next sum needed in the output list\n",
        "    elem_sum = nums1[index] + nums2[index]\n",
        "    summed_elems[index] = elem_sum\n",
        "  # D: return the output\n",
        "  return summed_elems"
      ],
      "id": "FLsum4Ac-EuZ",
      "execution_count": null,
      "outputs": []
    },
    {
      "cell_type": "markdown",
      "metadata": {
        "id": "iIQmeOYM_j9M"
      },
      "source": [
        "#### Test Out Solution 1"
      ],
      "id": "iIQmeOYM_j9M"
    },
    {
      "cell_type": "code",
      "metadata": {
        "colab": {
          "base_uri": "https://localhost:8080/"
        },
        "id": "yrUOA73E_nCr",
        "outputId": "37279789-2bd1-4410-fe8f-e59c6d487f34"
      },
      "source": [
        "print(element_wise_sum_1(nums1, nums2))"
      ],
      "id": "yrUOA73E_nCr",
      "execution_count": null,
      "outputs": [
        {
          "output_type": "stream",
          "text": [
            "[11, 17, 23]\n"
          ],
          "name": "stdout"
        }
      ]
    },
    {
      "cell_type": "markdown",
      "metadata": {
        "id": "tcQe2UmO9VCS"
      },
      "source": [
        "### Solution 2: Using `zip()`\n",
        "\n",
        "While the solution above works, it is also somewhat *too* straightforward. \n",
        "\n",
        "To elaborate, what do you suppose might happen if we were instead asked to compute the element-wise sum of more than just 2 lists? How about 3? Or 10? Or 50?\n",
        "\n",
        "In particular, line 7 of the `element_wise_sum_1` function may in fact end up looking something like the following:\n",
        "\n",
        "```\n",
        "elem_sum = nums1[index] + nums2[index] + nums3[index] + nums4[index] + nums5[index] + nums6[index]+ nums7[index]...\n",
        "```\n",
        "\n",
        "Why is this so bad? In Data Science, it is not uncommon to have to manipulate many different arrays all at once. Therefore, if we have to keep track of an `index` variable ourselves, it can often create more room for errors in our code.\n",
        "\n",
        "This is where Python's built-in `zip()` function can become immensely useful. For our purposes, it will basically combine our arrays into a single matrix - forming an array that is the same length as `nums1` or `nums2` before; and which contains an array for all the elements found at that index in the aforementioned `nums1` and `nums2`. Observe how this works in the diagram below:\n",
        "```\n",
        "How zip(nums1, nums2) Works:\n",
        "index  |   nums1  |     num2   |        out \n",
        "  0    |     1 -------> 10 -------->  (1, 10)\n",
        "  1    |     2 -------> 15 -------->  (2, 15)\n",
        "  2    |     3 -------> 20 -------->  (3, 20)\n",
        "       |          |            |   \n",
        "```\n",
        "\n",
        "Essentially, by using `zip()` we take out the need for tracking the `index` ourselves, and can thereby compute the element-wise sum using a more straightforward `for` loop, nested in a *list comprehension*."
      ],
      "id": "tcQe2UmO9VCS"
    },
    {
      "cell_type": "code",
      "metadata": {
        "id": "prompt-rescue"
      },
      "source": [
        "def element_wise_sum_2(nums1, nums2):\n",
        "    '''Sums 2 different arrays element-wise, by first creating a 2D matrix.'''\n",
        "    summed_elems = [\n",
        "         sum(index_elems)  # summing two elements from the same index \n",
        "         for index_elems in zip(nums1, nums2)  # iterating over the matrix rows \n",
        "    ]\n",
        "    return summed_elems"
      ],
      "id": "prompt-rescue",
      "execution_count": null,
      "outputs": []
    },
    {
      "cell_type": "markdown",
      "metadata": {
        "id": "0paCBn5EzBVM"
      },
      "source": [
        "You may read more about `zip()` on the [Python documentation](https://docs.python.org/3/library/functions.html#zip) as you please."
      ],
      "id": "0paCBn5EzBVM"
    },
    {
      "cell_type": "markdown",
      "metadata": {
        "id": "tW096DDc27OA"
      },
      "source": [
        "#### Test Out Solution 2"
      ],
      "id": "tW096DDc27OA"
    },
    {
      "cell_type": "code",
      "metadata": {
        "id": "civil-accordance",
        "colab": {
          "base_uri": "https://localhost:8080/"
        },
        "outputId": "708a299d-6186-44d6-b44f-ed9bb0744862"
      },
      "source": [
        "print(element_wise_sum_2(nums1, nums2))"
      ],
      "id": "civil-accordance",
      "execution_count": null,
      "outputs": [
        {
          "output_type": "stream",
          "text": [
            "[11, 17, 23]\n"
          ],
          "name": "stdout"
        }
      ]
    },
    {
      "cell_type": "markdown",
      "metadata": {
        "id": "aDhpzaXK3nVH"
      },
      "source": [
        "### Solution 3: Using `map()`\n",
        "\n",
        "As a final alternative, we can use another built-in function in Python called `map()`. It is yet another effective tool to make iterative problems easy - its function signature goes as follows:\n",
        "\n",
        "```\n",
        "map(function, iterable, ...)\n",
        "```\n",
        "In a nutshell, what `map()` does is apply the given `function` to every element in the given `iterable` (for our purposes, you can suppose this is our array of numbers), and produces the transformed elements in a new array.\n",
        "\n",
        "**But what does this have to do with our solution, you may ask?**\n",
        "\n",
        "The `map()` function is can also accept *multiple arrays* as inputs. It does this through *parallel iteration*, a process by which it will now apply the given `function` to *every element located at a given index* across all the arrays. Just like before, the `function` will then output its result into our output array.\n",
        "\n",
        "**Note**: to make `map()` work, the input arrays **must** be of the same length; as well, the number of parameters for the `function` must be equal to the number of arrays passed in, so that all the inputs are, well... *mapped* properly to the outputs.\n",
        "\n",
        "You may read more about the `map()` function in the [Python documentation](https://docs.python.org/3/library/functions.html#map) as you wish."
      ],
      "id": "aDhpzaXK3nVH"
    },
    {
      "cell_type": "code",
      "metadata": {
        "id": "QC7SMlmn8huV"
      },
      "source": [
        "# A: first, import the function we can use to add 2 elems\n",
        "from operator import add\n",
        "\n",
        "# B: iterate over the two arrays in parallel, to compute the element-wise sum\n",
        "element_wise_sum_3 = list(map(add, nums1, nums2))"
      ],
      "id": "QC7SMlmn8huV",
      "execution_count": null,
      "outputs": []
    },
    {
      "cell_type": "markdown",
      "metadata": {
        "id": "QBnN0VD09Ksn"
      },
      "source": [
        "#### Test Out Solution 3"
      ],
      "id": "QBnN0VD09Ksn"
    },
    {
      "cell_type": "code",
      "metadata": {
        "colab": {
          "base_uri": "https://localhost:8080/"
        },
        "id": "PDvfPT1m9NDL",
        "outputId": "f881888e-ebae-486f-e29f-40a845a02914"
      },
      "source": [
        "print(element_wise_sum_3)"
      ],
      "id": "PDvfPT1m9NDL",
      "execution_count": null,
      "outputs": [
        {
          "output_type": "stream",
          "text": [
            "[11, 17, 23]\n"
          ],
          "name": "stdout"
        }
      ]
    },
    {
      "cell_type": "markdown",
      "metadata": {
        "id": "military-magnet"
      },
      "source": [
        "## Activity 6: Squared Array\n",
        "\n",
        "You are given an array of numbers, `nums`. How would implement a function in Python to compute the square of each number in `nums`?\n",
        "\n",
        "Please return the ouput in a new array."
      ],
      "id": "military-magnet"
    },
    {
      "cell_type": "markdown",
      "metadata": {
        "id": "BBoIVXruBjtF"
      },
      "source": [
        "### Example Input"
      ],
      "id": "BBoIVXruBjtF"
    },
    {
      "cell_type": "code",
      "metadata": {
        "id": "dJQkJkR7BmE8"
      },
      "source": [
        "nums = [1, 2, 3]"
      ],
      "id": "dJQkJkR7BmE8",
      "execution_count": null,
      "outputs": []
    },
    {
      "cell_type": "markdown",
      "metadata": {
        "id": "jAHzs517BqLi"
      },
      "source": [
        "### Solution 1: Using a List Comprehension"
      ],
      "id": "jAHzs517BqLi"
    },
    {
      "cell_type": "code",
      "metadata": {
        "id": "potential-fields"
      },
      "source": [
        "def square_elements(nums):\n",
        "    return [num**2 for num in nums]"
      ],
      "id": "potential-fields",
      "execution_count": null,
      "outputs": []
    },
    {
      "cell_type": "markdown",
      "metadata": {
        "id": "qrHofN9nBv9X"
      },
      "source": [
        "#### Test Out Solution 1"
      ],
      "id": "qrHofN9nBv9X"
    },
    {
      "cell_type": "code",
      "metadata": {
        "id": "theoretical-houston",
        "colab": {
          "base_uri": "https://localhost:8080/"
        },
        "outputId": "f26cd87d-b595-4679-e958-868e5a06ec76"
      },
      "source": [
        "print(square_elements(nums))"
      ],
      "id": "theoretical-houston",
      "execution_count": null,
      "outputs": [
        {
          "output_type": "stream",
          "text": [
            "[1, 4, 9]\n"
          ],
          "name": "stdout"
        }
      ]
    },
    {
      "cell_type": "markdown",
      "metadata": {
        "id": "descending-orbit"
      },
      "source": [
        "## Activity 7: Modelling a Fair Die\n",
        "\n",
        "<img src=\"https://i.postimg.cc/6qQ8W4jr/dice.jpg\" width=\"100\" height=\"100\">\n",
        "\n",
        "*Background*:\n",
        "\n",
        "In this exercise, we will ask you to compute the expected value of a fair, six-sided die when it is rolled multiple times over.\n",
        "\n",
        "The *expected value of a random event*, in this case rolling a die, can be modelled using the following equation: \n",
        "\n",
        "$E(X) = \\sum_{i=1}^{6}i * P(dice = i)$\n",
        "\n",
        "Where:\n",
        "- $X$ = our random event (aka the *random variable*)\n",
        "- $i$ = the value of the dice on a given roll\n",
        "- $P(dice = i)$ = the probability of the die landing with that value on top\n",
        "\n",
        "*Activities*:\n",
        "\n",
        "7.1: For a fair dice, can you \n",
        "\n",
        "1. Compute the probability that when the die is rolled, its face value is 1 $(P(dice = 1))$?\n",
        "2. Compute the probability that when the die is rolled, its face value is 2 $(P(dice = 2))$?\n",
        "3. And so and so forth, for all the faces of the die?\n",
        "\n",
        "7.2: Now, how would you compute $E(X)$ of the die, using the answer from the questions above?"
      ],
      "id": "descending-orbit"
    },
    {
      "cell_type": "markdown",
      "metadata": {
        "id": "referenced-excess"
      },
      "source": [
        "### Solution:\n",
        "\n",
        "The expected value for a fair dice is:\n",
        "\n",
        "$E(X) = (1*1/6) + (2*1/6) + (3*1/6)+ (4*1/6) + (5*1/6) + (6*1/6)$\n",
        "\n",
        "$ = E(X) = (21 / 6)$\n",
        "\n",
        "$ = E(X) = 3.5$"
      ],
      "id": "referenced-excess"
    },
    {
      "cell_type": "code",
      "metadata": {
        "id": "headed-michael",
        "colab": {
          "base_uri": "https://localhost:8080/"
        },
        "outputId": "0a674126-7cb0-41b3-fb3e-187d527e2e8d"
      },
      "source": [
        "# We can show that E(X) is the mean of the following dice random variable\n",
        "import numpy as np\n",
        "# lets roll the dice 1000 times\n",
        "dice = np.random.randint(low=1.0, high=7.0, size=1000)\n",
        "print(dice)\n",
        "# Compute the mean of dice list\n",
        "print(np.mean(dice))\n",
        "print(sum(dice)/len(dice))"
      ],
      "id": "headed-michael",
      "execution_count": null,
      "outputs": [
        {
          "output_type": "stream",
          "text": [
            "[4 6 1 4 5 2 3 2 4 4 5 3 6 4 2 6 2 3 3 4 6 1 5 2 5 4 5 1 3 4 1 5 5 4 6 4 2\n",
            " 3 1 3 3 2 6 3 1 5 4 1 2 1 6 1 6 1 5 3 4 5 4 5 5 2 1 5 2 6 4 5 6 4 1 2 4 1\n",
            " 2 2 6 5 5 2 3 5 5 4 1 5 6 4 4 5 5 6 2 6 5 4 4 3 6 6 3 1 6 5 4 3 5 3 3 2 1\n",
            " 3 6 5 3 1 1 5 5 1 3 4 4 5 2 3 1 5 2 4 2 6 6 3 6 2 1 5 2 5 5 3 5 1 6 6 5 2\n",
            " 2 3 5 6 3 4 5 6 2 1 5 5 1 3 6 2 4 1 1 1 6 5 4 2 2 2 5 5 2 1 5 1 1 5 5 5 6\n",
            " 3 3 5 5 3 4 3 6 4 5 1 5 4 3 5 2 5 5 3 4 1 2 2 6 1 3 4 3 6 1 6 3 5 4 5 3 3\n",
            " 1 5 6 2 4 6 1 3 1 4 4 4 6 6 4 6 6 3 3 1 1 4 3 2 6 2 5 4 5 5 1 5 3 2 1 4 3\n",
            " 4 4 5 6 2 1 5 1 4 4 3 5 4 6 1 2 4 1 5 2 1 1 3 4 5 6 2 4 2 5 6 6 3 2 3 6 2\n",
            " 1 5 1 3 4 6 5 5 6 6 2 6 5 1 6 2 2 3 2 6 2 6 3 6 2 1 2 2 6 6 3 4 2 4 6 5 3\n",
            " 3 5 6 5 4 3 3 1 1 3 3 1 1 2 5 6 6 3 6 6 2 3 5 2 4 4 5 3 5 2 1 5 1 3 4 3 4\n",
            " 1 3 1 1 3 1 5 2 3 1 3 3 3 5 6 5 3 5 4 6 4 1 2 5 3 3 6 6 4 6 1 2 4 2 1 3 4\n",
            " 5 1 6 3 3 6 3 5 1 6 5 2 3 6 1 1 4 3 6 4 4 2 1 3 6 5 6 5 1 6 6 5 2 6 6 2 6\n",
            " 3 6 2 4 1 5 3 2 4 3 4 2 6 2 4 1 3 6 5 6 2 2 6 6 2 1 4 1 4 3 5 2 4 1 5 5 1\n",
            " 6 4 1 2 6 3 2 5 5 3 4 3 5 3 4 2 3 2 4 4 2 2 5 5 4 4 1 6 4 1 4 3 1 3 1 3 5\n",
            " 6 2 2 4 4 2 1 2 6 5 2 6 2 5 6 4 1 2 4 3 6 1 4 2 2 6 1 6 3 1 4 6 1 3 2 4 5\n",
            " 3 4 6 4 3 6 4 1 6 2 3 6 2 3 1 4 2 1 2 1 6 3 3 6 1 2 3 5 2 5 2 5 6 2 6 4 4\n",
            " 6 1 3 3 5 6 5 4 2 6 2 2 6 4 3 6 1 2 5 3 1 2 6 3 6 4 6 6 2 6 3 5 3 3 3 3 3\n",
            " 5 3 3 3 3 1 3 2 1 1 2 4 3 3 2 2 6 5 1 3 3 4 5 3 4 1 1 4 4 5 4 2 5 4 1 5 4\n",
            " 4 4 6 1 5 5 5 3 1 1 5 3 4 6 1 5 3 5 4 4 4 4 2 5 6 5 6 5 5 2 1 4 2 3 4 1 2\n",
            " 2 4 6 2 3 5 5 6 2 2 3 6 1 3 3 1 5 2 3 1 5 3 4 2 6 2 2 3 6 6 4 3 6 1 4 4 1\n",
            " 5 4 2 2 6 4 4 1 3 6 5 5 4 5 4 1 6 5 6 6 4 1 6 5 6 2 5 5 6 5 3 6 2 6 3 3 4\n",
            " 5 3 2 4 6 4 2 2 2 4 3 2 2 1 1 3 5 5 2 5 5 5 2 2 2 5 2 6 6 1 6 6 5 3 3 5 2\n",
            " 1 1 3 3 4 1 1 3 4 6 4 3 4 4 4 3 4 4 6 2 2 5 6 6 1 5 5 5 3 1 2 2 4 3 6 4 4\n",
            " 1 1 1 6 2 3 5 6 3 1 6 4 2 5 6 2 2 1 2 3 2 6 1 3 1 3 4 5 6 6 1 3 1 6 4 1 5\n",
            " 5 4 6 4 3 4 1 2 5 6 1 2 4 4 4 1 2 4 1 2 2 6 4 2 2 2 5 6 3 1 1 2 4 4 6 6 1\n",
            " 2 4 2 4 3 5 5 5 1 5 4 3 1 3 1 3 1 4 6 2 4 4 3 1 6 4 3 1 4 3 2 4 6 2 4 3 4\n",
            " 5 6 6 3 5 4 6 3 6 2 2 2 5 2 3 2 4 1 1 1 3 3 3 3 5 2 4 6 1 3 5 1 6 4 6 3 1\n",
            " 4]\n",
            "3.536\n",
            "3.536\n"
          ],
          "name": "stdout"
        }
      ]
    },
    {
      "cell_type": "markdown",
      "metadata": {
        "id": "dietary-skating"
      },
      "source": [
        "## Activity 8: Compute the Mode\n",
        "\n",
        "You are given a list of numbers of arbitrary length, `data`. How would you write a Python function to compute the *mode* of `data`?\n",
        "\n",
        "The definition of the mode is the *most commonly occurring value* or feature across our data.\n",
        "\n",
        "**Hint**: think about how you would solve this problem without code. You will probably need to keep track of the number of times each unique element appears in `data`. How might you use a *histogram* to help you achieve this?\n",
        "\n",
        "[TODO] add diagram of a histogram"
      ],
      "id": "dietary-skating"
    },
    {
      "cell_type": "markdown",
      "metadata": {
        "id": "mJCL_PEcSLOD"
      },
      "source": [
        "### Example Input"
      ],
      "id": "mJCL_PEcSLOD"
    },
    {
      "cell_type": "code",
      "metadata": {
        "id": "L1Kr23jtSPom"
      },
      "source": [
        "data = [1, 3, 5, 2, 3, 7, 8, 4, 10, 0, 6, 7, 3, 0, 3, 0, 5, 7, 10, 1, 4, 9, 3]"
      ],
      "id": "L1Kr23jtSPom",
      "execution_count": null,
      "outputs": []
    },
    {
      "cell_type": "markdown",
      "metadata": {
        "id": "0vGyoU3pTBOb"
      },
      "source": [
        "### Solution 1: Histogram via `dict()`\n",
        "\n",
        "In this solution, we use Python's built-in `dict()`, a data type that allows us to map each unique value in the `data`, to its corresponding number of occurences. Thus, creating a histogram!\n"
      ],
      "id": "0vGyoU3pTBOb"
    },
    {
      "cell_type": "code",
      "metadata": {
        "id": "alternative-daily"
      },
      "source": [
        "def compute_mode_1(dataset):\n",
        "  # A: init the dictionary\n",
        "  histogram = {}\n",
        "  # B: count the occurrences of each unique value\n",
        "  for num in dataset:\n",
        "      if num not in histogram:\n",
        "          histogram[num] = 1\n",
        "      else:\n",
        "          histogram[num] += 1\n",
        "  return (\n",
        "      # C: find the highest count, then return the corresponding value\n",
        "      max(histogram, key=histogram.get)\n",
        "    )"
      ],
      "id": "alternative-daily",
      "execution_count": null,
      "outputs": []
    },
    {
      "cell_type": "markdown",
      "metadata": {
        "id": "YNHYPguLaewT"
      },
      "source": [
        "#### Test Out Solution 1\n",
        "\n",
        "In case you have any doubts about the answer, you can verify by modifying the `compute_mode_1` function to return the entire histogram itself, rather than the mode.\n",
        "\n",
        "If everything is working correctly, then the `histogram` should show the following key-value pairs:\n",
        "```\n",
        "{\n",
        "  1: 2, \n",
        "  3: 5,  # <--- 3 is the mode!\n",
        "  5: 2, \n",
        "  2: 1, \n",
        "  7: 3, \n",
        "  8: 1, \n",
        "  4: 2, \n",
        "  10: 2, \n",
        "  0: 3, \n",
        "  6: 1, \n",
        "  9: 1\n",
        "}\n",
        "```"
      ],
      "id": "YNHYPguLaewT"
    },
    {
      "cell_type": "markdown",
      "metadata": {
        "id": "zX9FRnzndtpB"
      },
      "source": [
        "#### Test Out Solution 1"
      ],
      "id": "zX9FRnzndtpB"
    },
    {
      "cell_type": "code",
      "metadata": {
        "colab": {
          "base_uri": "https://localhost:8080/"
        },
        "id": "-oFQ1Bmsai4U",
        "outputId": "03ee181e-b61d-40c9-ab31-1a71df69dac4"
      },
      "source": [
        "print(compute_mode_1(data))"
      ],
      "id": "-oFQ1Bmsai4U",
      "execution_count": null,
      "outputs": [
        {
          "output_type": "stream",
          "text": [
            "3\n"
          ],
          "name": "stdout"
        }
      ]
    },
    {
      "cell_type": "markdown",
      "metadata": {
        "id": "28BJ_7PZbhEy"
      },
      "source": [
        "### Solution 2: Using a `Counter`\n",
        "\n",
        "\n",
        "TODO: add explanation\n",
        "\n",
        "[Python documentation](https://docs.python.org/3/library/collections.html#collections.Counter.most_common)\n"
      ],
      "id": "28BJ_7PZbhEy"
    },
    {
      "cell_type": "code",
      "metadata": {
        "id": "V5AGm-fgdOmE"
      },
      "source": [
        "from collections import Counter\n",
        "\n",
        "\n",
        "def compute_mode_2(dataset):\n",
        "  # A: compute the histogram\n",
        "  histogram = Counter(dataset)\n",
        "  # B: get the most frequently occurring value\n",
        "  mode_value, mode_count = histogram.most_common(1)[0]\n",
        "  return mode_value"
      ],
      "id": "V5AGm-fgdOmE",
      "execution_count": null,
      "outputs": []
    },
    {
      "cell_type": "markdown",
      "metadata": {
        "id": "8Ur3f1rUePHp"
      },
      "source": [
        "#### Test Out Solution 2"
      ],
      "id": "8Ur3f1rUePHp"
    },
    {
      "cell_type": "code",
      "metadata": {
        "colab": {
          "base_uri": "https://localhost:8080/"
        },
        "id": "MOOeBdBvd3uk",
        "outputId": "8bdde51c-09a6-4d5b-b7c4-ac9fa0a51e74"
      },
      "source": [
        "print(compute_mode_2(data))"
      ],
      "id": "MOOeBdBvd3uk",
      "execution_count": null,
      "outputs": [
        {
          "output_type": "stream",
          "text": [
            "3\n"
          ],
          "name": "stdout"
        }
      ]
    },
    {
      "cell_type": "markdown",
      "metadata": {
        "id": "blank-assignment"
      },
      "source": [
        "## Activity 9: The Largest Elements\n",
        "\n",
        "You are given a list of numbers, `nums`, and a nonnegative integer, `k`. \n",
        "\n",
        "How would you write Python code to obtain the largest `k` elements from `nums`?\n",
        "\n",
        "**Note**: your function does NOT have to return the largest `k` elements in sorted order."
      ],
      "id": "blank-assignment"
    },
    {
      "cell_type": "markdown",
      "metadata": {
        "id": "fUNzY3G-CFRY"
      },
      "source": [
        "### Example Input\n",
        "\n",
        "TODO: add scoreboard analogy?\n",
        "\n",
        "Example:\n",
        "\n",
        "```\n",
        "Inputs:\n",
        "nums = [5, 1, 3, 6, 8, 2, 4, 7]\n",
        "k = 3\n",
        "\n",
        "Output: [8, 7, 6]\n",
        "\n",
        "Explanation:\n",
        "The output comes from the first 3 values we find in the sorted version of the nums list: [8, 7, 6, 5, 4, 3, 2, 1].\n",
        "```"
      ],
      "id": "fUNzY3G-CFRY"
    },
    {
      "cell_type": "code",
      "metadata": {
        "id": "1eIZF9CtDqqo"
      },
      "source": [
        "nums = [5, 1, 3, 6, 8, 2, 4, 7]\n",
        "k = 3"
      ],
      "id": "1eIZF9CtDqqo",
      "execution_count": null,
      "outputs": []
    },
    {
      "cell_type": "markdown",
      "metadata": {
        "id": "ucKXQwu5DuXm"
      },
      "source": [
        "### Solution 1: Using nested `for` loops"
      ],
      "id": "ucKXQwu5DuXm"
    },
    {
      "cell_type": "code",
      "metadata": {
        "id": "manufactured-calculation"
      },
      "source": [
        "def k_largest_1(nums, k):\n",
        "    for first_index in range(len(nums)):\n",
        "        # locate the (k + 1)-th largest element\n",
        "        is_less_than = []\n",
        "        for other_index in range(len(nums)):\n",
        "          # if the first num < other num, then add a 1\n",
        "          if nums[first_index] < nums[other_index]:\n",
        "                is_less_than.append(1)\n",
        "          # otherwise, add a 0\n",
        "          else:\n",
        "                is_less_than.append(0)\n",
        "        # once found: return the num at every index that's > first num\n",
        "        if sum(is_less_than) == k:\n",
        "            return [\n",
        "                nums[index] for index in range(len(is_less_than)) \n",
        "                if is_less_than[index] == 1\n",
        "            ]"
      ],
      "id": "manufactured-calculation",
      "execution_count": null,
      "outputs": []
    },
    {
      "cell_type": "markdown",
      "metadata": {
        "id": "fgHga8bpD1P1"
      },
      "source": [
        "#### Test Out Solution 1"
      ],
      "id": "fgHga8bpD1P1"
    },
    {
      "cell_type": "code",
      "metadata": {
        "id": "lesser-board",
        "colab": {
          "base_uri": "https://localhost:8080/"
        },
        "outputId": "089f4f2d-7c6b-490f-9ae2-bd5fcf8e2d30"
      },
      "source": [
        "print(k_largest_1(nums, k))"
      ],
      "id": "lesser-board",
      "execution_count": null,
      "outputs": [
        {
          "output_type": "stream",
          "text": [
            "[6, 8, 7]\n"
          ],
          "name": "stdout"
        }
      ]
    },
    {
      "cell_type": "markdown",
      "metadata": {
        "id": "JIRZDPdfICFY"
      },
      "source": [
        "### Solutions 2 and 3: Using Built-in Functions"
      ],
      "id": "JIRZDPdfICFY"
    },
    {
      "cell_type": "code",
      "metadata": {
        "id": "s7lZVxiCIS81"
      },
      "source": [
        "def k_largest_2(nums, k):\n",
        "  '''This function mutates the nums list.'''\n",
        "  nums.sort()\n",
        "  return nums[-k:]\n",
        "\n",
        "\n",
        "def k_largest_3(nums, k):\n",
        "  '''This allocates a new list, so the original nums list in untouched.'''\n",
        "  sorted_nums = sorted(nums)\n",
        "  return sorted_nums[-k:]"
      ],
      "id": "s7lZVxiCIS81",
      "execution_count": null,
      "outputs": []
    },
    {
      "cell_type": "markdown",
      "metadata": {
        "id": "AtIMc0qUJCTM"
      },
      "source": [
        "#### Test Out Solutions 2 and 3\n",
        "\n",
        "Try uncommenting the second line, to verify it prints the same output as the one above!"
      ],
      "id": "AtIMc0qUJCTM"
    },
    {
      "cell_type": "code",
      "metadata": {
        "colab": {
          "base_uri": "https://localhost:8080/"
        },
        "id": "63ZpRUz_JSEt",
        "outputId": "08baf24f-f888-4757-9685-08a9ff633de4"
      },
      "source": [
        "print(k_largest_2(nums, k))\n",
        "# print(k_largest_3(nums, k))"
      ],
      "id": "63ZpRUz_JSEt",
      "execution_count": null,
      "outputs": [
        {
          "output_type": "stream",
          "text": [
            "[6, 7, 8]\n"
          ],
          "name": "stdout"
        }
      ]
    },
    {
      "cell_type": "markdown",
      "metadata": {
        "id": "NZRHBbdwJupK"
      },
      "source": [
        "### Solution 4: Using a `heapq`\n",
        "\n",
        "Note that for larger values of `k`, it is more efficient to use the built-in sorting function.\n",
        "\n",
        "[Python documentation](https://docs.python.org/3/library/heapq.html#heapq.nlargest)"
      ],
      "id": "NZRHBbdwJupK"
    },
    {
      "cell_type": "code",
      "metadata": {
        "id": "NVXFyr4mJ0Rn"
      },
      "source": [
        "import heapq\n",
        "\n",
        "def k_largest_4(nums, k):\n",
        "  return heapq.nlargest(k, nums)"
      ],
      "id": "NVXFyr4mJ0Rn",
      "execution_count": null,
      "outputs": []
    },
    {
      "cell_type": "markdown",
      "metadata": {
        "id": "ro_2C9G3Kveh"
      },
      "source": [
        "#### Test Out Solution 4 "
      ],
      "id": "ro_2C9G3Kveh"
    },
    {
      "cell_type": "code",
      "metadata": {
        "colab": {
          "base_uri": "https://localhost:8080/"
        },
        "id": "KXK2IeZUKzPk",
        "outputId": "9ed5be70-5538-46ad-976e-3ccaa41140f7"
      },
      "source": [
        "print(k_largest_4(nums, k))"
      ],
      "id": "KXK2IeZUKzPk",
      "execution_count": null,
      "outputs": [
        {
          "output_type": "stream",
          "text": [
            "[8, 7, 6]\n"
          ],
          "name": "stdout"
        }
      ]
    },
    {
      "cell_type": "markdown",
      "metadata": {
        "id": "blind-murray"
      },
      "source": [
        "## Activity 10: Identical Distributions\n",
        "\n",
        "Given two arrays, determine if both arrays contain exactly the same elements in exactly the same amounts.\n",
        "\n"
      ],
      "id": "blind-murray"
    },
    {
      "cell_type": "markdown",
      "metadata": {
        "id": "2nno4BKGUN2D"
      },
      "source": [
        "### Example Inputs\n",
        "\n",
        "1. Input `[1,2,5,4,0]` and `[4,2,5,0,1]`: Yes\n",
        "2. Input `[1,7,1]` and `[7,7,1]`: No"
      ],
      "id": "2nno4BKGUN2D"
    },
    {
      "cell_type": "markdown",
      "metadata": {
        "id": "Vw80xMaIRYF6"
      },
      "source": [
        "### Solution 1: Using `dict`"
      ],
      "id": "Vw80xMaIRYF6"
    },
    {
      "cell_type": "code",
      "metadata": {
        "id": "russian-orange",
        "colab": {
          "base_uri": "https://localhost:8080/"
        },
        "outputId": "6d45b5c3-c97e-465f-dff9-17b54ef212d6"
      },
      "source": [
        "def histogram(nums):\n",
        "    dictionary = {}  # alias for calling dict()\n",
        "    for num in nums:\n",
        "        if num not in dictionary:\n",
        "            dictionary[num] = 1\n",
        "        else:\n",
        "            dictionary[num] += 1\n",
        "    return dictionary\n",
        "\n",
        "print(histogram([3, 8, 4, 8]))"
      ],
      "id": "russian-orange",
      "execution_count": null,
      "outputs": [
        {
          "output_type": "stream",
          "text": [
            "{3: 1, 8: 2, 4: 1}\n"
          ],
          "name": "stdout"
        }
      ]
    },
    {
      "cell_type": "code",
      "metadata": {
        "id": "vertical-passenger"
      },
      "source": [
        "def same_distributions_1(nums1, nums2):\n",
        "    # A: form histograms for both arrays\n",
        "    dist1, dist2 = histogram(nums1), histogram(nums2)\n",
        "    # B: count how many number TYPES are found in both histograms\n",
        "    num_shared_types = 0\n",
        "    for key in dist1.keys():\n",
        "      if key in dist2:\n",
        "        num_shared_types += 1\n",
        "    # C: check if all the number types between the 2 histograms are equal\n",
        "    if len(dist1) == len(dist2) == num_shared_types:\n",
        "      # D: check if each number type appears in the same amount in both lists\n",
        "      num_common_counts = 0\n",
        "      for key in dist1.keys():\n",
        "        if dist1[key] == dist2[key]:\n",
        "          num_common_counts += 1\n",
        "      # E: distributions are equal\n",
        "      if num_shared_types == num_common_counts:\n",
        "        return True\n",
        "    # F: distributions are unequal\n",
        "    return False"
      ],
      "id": "vertical-passenger",
      "execution_count": null,
      "outputs": []
    },
    {
      "cell_type": "markdown",
      "metadata": {
        "id": "wNHDxiovR0av"
      },
      "source": [
        "#### Test Out Solution 1"
      ],
      "id": "wNHDxiovR0av"
    },
    {
      "cell_type": "code",
      "metadata": {
        "id": "potential-nepal",
        "colab": {
          "base_uri": "https://localhost:8080/"
        },
        "outputId": "87cebccf-fd70-40a7-9751-50aaa484d219"
      },
      "source": [
        "print(same_distributions_1([1,2,5,4,0], [4,2,5,0,1]))"
      ],
      "id": "potential-nepal",
      "execution_count": null,
      "outputs": [
        {
          "output_type": "stream",
          "text": [
            "True\n"
          ],
          "name": "stdout"
        }
      ]
    },
    {
      "cell_type": "code",
      "metadata": {
        "id": "suitable-bottle",
        "colab": {
          "base_uri": "https://localhost:8080/"
        },
        "outputId": "1a0a936b-6578-493e-f1d8-43ab9acba92b"
      },
      "source": [
        "print(same_distributions_1([1,7,1], [7,7,1]))"
      ],
      "id": "suitable-bottle",
      "execution_count": null,
      "outputs": [
        {
          "output_type": "stream",
          "text": [
            "False\n"
          ],
          "name": "stdout"
        }
      ]
    },
    {
      "cell_type": "markdown",
      "metadata": {
        "id": "ePizaZEJR4nR"
      },
      "source": [
        "### Solution 2: Using `Counter`"
      ],
      "id": "ePizaZEJR4nR"
    },
    {
      "cell_type": "code",
      "metadata": {
        "id": "eWXSjBFfR8aO"
      },
      "source": [
        "from collections import Counter\n",
        "\n",
        "def same_distribution_2(nums1, nums2):\n",
        "  # A: make the distribution\n",
        "  dist1 = Counter(nums1)\n",
        "  dist2 = Counter(nums2) \n",
        "  # B: see how much they overlap\n",
        "  dist1.subtract(dist2)\n",
        "  # C: return the answer\n",
        "  remaining = list(dist1.elements())\n",
        "  return remaining == []"
      ],
      "id": "eWXSjBFfR8aO",
      "execution_count": null,
      "outputs": []
    },
    {
      "cell_type": "markdown",
      "metadata": {
        "id": "BbTN08FeScmu"
      },
      "source": [
        "#### Test Out Solution 2"
      ],
      "id": "BbTN08FeScmu"
    },
    {
      "cell_type": "code",
      "metadata": {
        "colab": {
          "base_uri": "https://localhost:8080/"
        },
        "id": "pQZ8nQRdSkTc",
        "outputId": "c26f5feb-b820-4016-e89a-1e1316346c6c"
      },
      "source": [
        "print(same_distribution_2([1,2,5,4,0], [4,2,5,0,1]))"
      ],
      "id": "pQZ8nQRdSkTc",
      "execution_count": null,
      "outputs": [
        {
          "output_type": "stream",
          "text": [
            "True\n"
          ],
          "name": "stdout"
        }
      ]
    },
    {
      "cell_type": "code",
      "metadata": {
        "colab": {
          "base_uri": "https://localhost:8080/"
        },
        "id": "WI3wsi63Sevh",
        "outputId": "10fc43ef-2493-4f03-f699-6666ea9c3e4a"
      },
      "source": [
        "print(same_distribution_2([1,7,1], [7,7,1]))"
      ],
      "id": "WI3wsi63Sevh",
      "execution_count": null,
      "outputs": [
        {
          "output_type": "stream",
          "text": [
            "False\n"
          ],
          "name": "stdout"
        }
      ]
    },
    {
      "cell_type": "markdown",
      "metadata": {
        "id": "ready-inclusion"
      },
      "source": [
        "## Activity 11: Reverse a List\n",
        "\n",
        "You are given a list, `ls`. How would you write Python code to reverse the elements in `ls`?"
      ],
      "id": "ready-inclusion"
    },
    {
      "cell_type": "markdown",
      "metadata": {
        "id": "KWraJ-vM2MZK"
      },
      "source": [
        "### Example Input"
      ],
      "id": "KWraJ-vM2MZK"
    },
    {
      "cell_type": "code",
      "metadata": {
        "id": "Q3XvE1YJ2OSc"
      },
      "source": [
        "ls = [1, 2, 3, 4, 5, 6, 7, 8, 9, 10]"
      ],
      "id": "Q3XvE1YJ2OSc",
      "execution_count": null,
      "outputs": []
    },
    {
      "cell_type": "markdown",
      "metadata": {
        "id": "eeT9v29We3A9"
      },
      "source": [
        "### Solution 1: Traversing the List in Reverse"
      ],
      "id": "eeT9v29We3A9"
    },
    {
      "cell_type": "code",
      "metadata": {
        "id": "metric-moderator"
      },
      "source": [
        "def reverse_list_1(ls):\n",
        "    N = len(ls)\n",
        "    reverse_ls = []\n",
        "    for i in range(N):\n",
        "        reverse_ls.append(ls[N - (i+1)])\n",
        "    return reverse_ls"
      ],
      "id": "metric-moderator",
      "execution_count": null,
      "outputs": []
    },
    {
      "cell_type": "markdown",
      "metadata": {
        "id": "y74LolBI2Yk-"
      },
      "source": [
        "#### Test Out Solution 1"
      ],
      "id": "y74LolBI2Yk-"
    },
    {
      "cell_type": "code",
      "metadata": {
        "id": "difficult-perspective",
        "colab": {
          "base_uri": "https://localhost:8080/"
        },
        "outputId": "cd960357-1e56-4f4f-906c-f2a776b9f0a4"
      },
      "source": [
        "print(reverse_list_1(ls))"
      ],
      "id": "difficult-perspective",
      "execution_count": null,
      "outputs": [
        {
          "output_type": "stream",
          "text": [
            "[10, 9, 8, 7, 6, 5, 4, 3, 2, 1]\n"
          ],
          "name": "stdout"
        }
      ]
    },
    {
      "cell_type": "markdown",
      "metadata": {
        "id": "pMasESZTe_q4"
      },
      "source": [
        "### Solution 2: Using List Splicing\n",
        "\n",
        "TODO: add explanation? `[start:stop:step_size]`"
      ],
      "id": "pMasESZTe_q4"
    },
    {
      "cell_type": "code",
      "metadata": {
        "id": "meaningful-damage"
      },
      "source": [
        "def reverse_list_2(ls):\n",
        "  return ls[::-1]"
      ],
      "id": "meaningful-damage",
      "execution_count": null,
      "outputs": []
    },
    {
      "cell_type": "markdown",
      "metadata": {
        "id": "7aMw7qlJ2VEJ"
      },
      "source": [
        "#### Test Out Solution 2"
      ],
      "id": "7aMw7qlJ2VEJ"
    },
    {
      "cell_type": "code",
      "metadata": {
        "colab": {
          "base_uri": "https://localhost:8080/"
        },
        "id": "5lC_hTFz2Xl9",
        "outputId": "5fa664b6-bf0d-4386-83e3-946a4e9a74b9"
      },
      "source": [
        "print(reverse_list_2(ls))"
      ],
      "id": "5lC_hTFz2Xl9",
      "execution_count": null,
      "outputs": [
        {
          "output_type": "stream",
          "text": [
            "[10, 9, 8, 7, 6, 5, 4, 3, 2, 1]\n"
          ],
          "name": "stdout"
        }
      ]
    },
    {
      "cell_type": "markdown",
      "metadata": {
        "id": "RM7dt531zO8T"
      },
      "source": [
        "### Solutions 3 and 4: Using Built-in Functions\n",
        "\n",
        "Just like with `list.sort()` and `sorted()`, the Python language comes with built-in functions that can reverse a list, either by mutating the original or creating a new one:"
      ],
      "id": "RM7dt531zO8T"
    },
    {
      "cell_type": "code",
      "metadata": {
        "id": "P6fWdLFVzkQV"
      },
      "source": [
        "def reverse_list_3(ls):\n",
        "  ls.reverse()\n",
        "  return ls\n",
        "\n",
        "\n",
        "def reverse_list_4(ls):\n",
        "  reverse_list = [elem for elem in reversed(ls)]\n",
        "  return reverse_list"
      ],
      "id": "P6fWdLFVzkQV",
      "execution_count": null,
      "outputs": []
    },
    {
      "cell_type": "markdown",
      "metadata": {
        "id": "_wBXCsOu2dty"
      },
      "source": [
        "#### Test Out Solutions 3 and 4\n",
        "\n",
        "Try uncommenting the second line, to verify it prints the same output as the one above!"
      ],
      "id": "_wBXCsOu2dty"
    },
    {
      "cell_type": "code",
      "metadata": {
        "colab": {
          "base_uri": "https://localhost:8080/"
        },
        "id": "ZTGbJVwp2hQq",
        "outputId": "4acdc9a7-307d-41ad-cfaf-a686f7ff46db"
      },
      "source": [
        "print(reverse_list_3(ls))\n",
        "# print(reverse_list_4(ls))"
      ],
      "id": "ZTGbJVwp2hQq",
      "execution_count": null,
      "outputs": [
        {
          "output_type": "stream",
          "text": [
            "[10, 9, 8, 7, 6, 5, 4, 3, 2, 1]\n"
          ],
          "name": "stdout"
        }
      ]
    },
    {
      "cell_type": "markdown",
      "metadata": {
        "id": "alternate-trust"
      },
      "source": [
        "## Activity 12: Two-Sum\n",
        "\n",
        "Milad: \"Find pairs in a list such that their sum is equal to a given number\"\n",
        "\n",
        "Clarifications of the Problem\n",
        "1. is it okay to return duplicate pairs, if those numbers appear more than once?\n",
        "2. is it to okay to \"reuse\" the same element in more than one pair?\n",
        "\n",
        "TODO: add cells for \"Example Input\", Tests, and explanations of each algorithm"
      ],
      "id": "alternate-trust"
    },
    {
      "cell_type": "markdown",
      "metadata": {
        "id": "p2ClMXZ241fa"
      },
      "source": [
        "### Solution 1: Try Every Possible Pair"
      ],
      "id": "p2ClMXZ241fa"
    },
    {
      "cell_type": "code",
      "metadata": {
        "id": "guided-kuwait",
        "colab": {
          "base_uri": "https://localhost:8080/"
        },
        "outputId": "b0ca61b8-afde-47f7-b8a9-8184253692da"
      },
      "source": [
        "def find_sum_pairs_1(target_sum, nums):\n",
        "    # A: init a list to hold pairs we find\n",
        "    pairs = []\n",
        "    for i in range(len(nums)):\n",
        "        # B: try to combine this number with every other\n",
        "        for j in range(i+1, len(nums)):\n",
        "            num1, num2 = nums[i], nums[j]\n",
        "            # C: form a pair, if possible\n",
        "            if num1 + num2 == target_sum:\n",
        "                pairs.append([num1, num2])\n",
        "    # D: return the pairs\n",
        "    return pairs\n",
        "  \n",
        "print(find_sum_pairs(7, [3, 5, 2, -4, 8, 11]))"
      ],
      "id": "guided-kuwait",
      "execution_count": null,
      "outputs": [
        {
          "output_type": "stream",
          "text": [
            "[[5, 2], [-4, 11]]\n"
          ],
          "name": "stdout"
        }
      ]
    },
    {
      "cell_type": "markdown",
      "metadata": {
        "id": "x30O4qx84-eZ"
      },
      "source": [
        "### Solution 2: Use a `set()` to Store Elements"
      ],
      "id": "x30O4qx84-eZ"
    },
    {
      "cell_type": "code",
      "metadata": {
        "colab": {
          "base_uri": "https://localhost:8080/"
        },
        "id": "TLb7wYxS5Ujg",
        "outputId": "438ad8cc-d61e-4ef3-cf5f-e5a342a37636"
      },
      "source": [
        "def find_sum_pairs_2(target_sum, nums):\n",
        "    # A: init a list to hold pairs we find\n",
        "    pairs = []\n",
        "    previously_seen = set()\n",
        "    for num in nums:\n",
        "      diff = target - nums\n",
        "      # B: form a pair if possible\n",
        "      if diff in previously_seen:\n",
        "        pairs.append([num, diff])\n",
        "      # C: always add this number, and move on\n",
        "      previously_seen.add(num)\n",
        "    # D: return the pairs\n",
        "    return pairs\n",
        "  \n",
        "print(find_sum_pairs(7, [3, 5, 2, -4, 8, 11]))"
      ],
      "id": "TLb7wYxS5Ujg",
      "execution_count": null,
      "outputs": [
        {
          "output_type": "stream",
          "text": [
            "[[5, 2], [-4, 11]]\n"
          ],
          "name": "stdout"
        }
      ]
    },
    {
      "cell_type": "markdown",
      "metadata": {
        "id": "concrete-pastor"
      },
      "source": [
        "## Activity 13: Largest Number of Patients\n",
        "\n",
        "- We know the entering time and exit time of patients in a medical center. \n",
        "- What is the maximum number of patients present in that medical center?\n",
        "- As an example, consider the following lists as entering time and exit time for 4 patients:\n",
        "\n",
        "    - `entering_time = [1, 3, 2, 5]`\n",
        "\n",
        "    - `exit_time = [4, 5, 7, 10]`\n",
        "\n",
        "- These two lists are ordered based on patients\n",
        "- Hint: For simplicity, define 1 hour as the time interval\n",
        "\n",
        "<img src=\"https://i.postimg.cc/0Qn610f5/Amazon-interview.png\" alt=\"Largest Number of Patients\" width=\"500px\" height=\"255px\"></img>\n",
        "\n",
        "TODO: add explanation for above image"
      ],
      "id": "concrete-pastor"
    },
    {
      "cell_type": "markdown",
      "metadata": {
        "id": "j4XlH0YCUgd-"
      },
      "source": [
        "### Solution 1: Naive Approach"
      ],
      "id": "j4XlH0YCUgd-"
    },
    {
      "cell_type": "code",
      "metadata": {
        "id": "first-hacker",
        "colab": {
          "base_uri": "https://localhost:8080/"
        },
        "outputId": "8e3f240e-c890-4270-fcbc-284b38e82079"
      },
      "source": [
        "def find_max_num_patients_1(start, end, time_interval=1): \n",
        "    # A: store the amount of patients in the hospital at all time intervals\n",
        "    num_patients = []\n",
        "    # B: find out how many patients were in, at each time interval\n",
        "    for time in range(min(start), max(end) + 1, time_interval):\n",
        "        # C: count up the num of patients at this time\n",
        "        patient_count = 0\n",
        "        for start_hr, end_hr in zip(start, end):\n",
        "            # when our time falls within the stay of this patient, increment\n",
        "            if time in range(start_hr, end_hr + 1, time_interval):\n",
        "                patient_count += 1\n",
        "        # D: store the total # of patients in the hospital at this time\n",
        "        num_patients.append(patient_count)\n",
        "    # E: return the global maximum for the # of patients, across time intervals\n",
        "    return num_patients, max(num_patients), len(num_patients)\n",
        "\n",
        "print(find_max_num_patient([1, 3, 2, 5], [4, 5, 7, 10]))"
      ],
      "id": "first-hacker",
      "execution_count": 4,
      "outputs": [
        {
          "output_type": "stream",
          "text": [
            "([1, 2, 3, 3, 3, 2, 2, 1, 1, 1], 3, 10)\n"
          ],
          "name": "stdout"
        }
      ]
    },
    {
      "cell_type": "markdown",
      "metadata": {
        "id": "HoP-aTCjUfvK"
      },
      "source": [
        "### Solution 2: Using the Net Change in Hospital Population\n",
        "\n",
        "TODO: explain the algorithm (intutition + complexity analysis) in greater detail? - linearithmic approach\n",
        "\n",
        "TODO: explain while this algorithm is faster and may use less memory in a lot of cases, the solution above does offer more detailed info as output?"
      ],
      "id": "HoP-aTCjUfvK"
    },
    {
      "cell_type": "code",
      "metadata": {
        "colab": {
          "base_uri": "https://localhost:8080/"
        },
        "id": "vtujB3xpTzAW",
        "outputId": "ce20ba92-1c0c-4df7-aa0c-84d1866441b3"
      },
      "source": [
        "from collections import Counter\n",
        "\n",
        "def find_max_num_patients_2(start, end): \n",
        "    # A: compute the total change in # of patients at each hr, using a dict\n",
        "    pos_changes_in_num_patients = Counter(start)\n",
        "    neg_changes_in_num_patients = Counter(end)\n",
        "    # B: combine the pos and neg changes into 1 overall tally\n",
        "    pos_changes_in_num_patients.subtract(neg_changes_in_num_patients)\n",
        "    net_changes_in_num_patients = sorted(pos_changes_in_num_patients.items())\n",
        "    # C: track the overall num_patients over the course of time\n",
        "    max_patient_count = current_patients = 0 \n",
        "    for time, change in net_changes_in_num_patients:\n",
        "      current_patients += change\n",
        "      # D: update the max_num of patients as appropiate\n",
        "      if current_patients > max_patient_count:\n",
        "        max_patient_count = current_patients\n",
        "    # E: does the answer come out the same as before\n",
        "    return max_patient_count\n",
        "\n",
        "print(find_max_num_patients_2([1, 3, 2, 5], [4, 5, 7, 10]))"
      ],
      "id": "vtujB3xpTzAW",
      "execution_count": 17,
      "outputs": [
        {
          "output_type": "stream",
          "text": [
            "3\n"
          ],
          "name": "stdout"
        }
      ]
    },
    {
      "cell_type": "markdown",
      "metadata": {
        "id": "WiMtw6xoeOx9"
      },
      "source": [
        "### Solution 3: Using a List to Track Population Changes\n",
        "\n",
        "TODO: explain the algorithm (intutition + complexity analysis) in greater detail? - linear approach, but can be slower than #2 if there are many hrs of the day when the num_patients is constant\n",
        "\n",
        "- the key: this algorithm AVOIDS sorting"
      ],
      "id": "WiMtw6xoeOx9"
    },
    {
      "cell_type": "code",
      "metadata": {
        "colab": {
          "base_uri": "https://localhost:8080/"
        },
        "id": "CSstcxCQewSl",
        "outputId": "7fcca3e7-f4d5-4b57-c582-6423c43e3e66"
      },
      "source": [
        "def find_max_num_patients_3(start, end, time_interval=1): \n",
        "    # A: compute all the times when the num_patients can change\n",
        "    earliest_enter = min(start)\n",
        "    latest_exit = max(end)\n",
        "    net_changes_in_num_patients = [\n",
        "      0 for _ in range(earliest_enter, latest_exit + 1, time_interval)\n",
        "    ]\n",
        "    # B: combine the pos changes at each hr\n",
        "    for pos_change in start:\n",
        "      index = pos_change - earliest_enter\n",
        "      net_changes_in_num_patients[index] += 1\n",
        "    # C: do the same for all the decreases in num_patients\n",
        "    for neg_change in end:\n",
        "      index = neg_change - earliest_enter\n",
        "      net_changes_in_num_patients[index] -= 1\n",
        "    # D: track the overall num_patients over the course of time \n",
        "    max_patient_count = current_patients = 0 \n",
        "    for change in net_changes_in_num_patients:\n",
        "      current_patients += change\n",
        "      # E: update the max_num of patients as appropiate\n",
        "      if current_patients > max_patient_count:\n",
        "        max_patient_count = current_patients\n",
        "    # F: does the answer come out the same as before\n",
        "    return max_patient_count\n",
        "\n",
        "print(find_max_num_patients_3([1, 3, 2, 5], [4, 5, 7, 10]))"
      ],
      "id": "CSstcxCQewSl",
      "execution_count": 19,
      "outputs": [
        {
          "output_type": "stream",
          "text": [
            "3\n"
          ],
          "name": "stdout"
        }
      ]
    },
    {
      "cell_type": "markdown",
      "metadata": {
        "id": "nonprofit-sigma"
      },
      "source": [
        "## Activity 14: Partition a List\n",
        "\n",
        "TODO: rephrase \"For a given list and number of partition (n), partition (divide) list to n parts\"?\n",
        "\n",
        "TODO: should the reader assume we have to return a `list` data type?"
      ],
      "id": "nonprofit-sigma"
    },
    {
      "cell_type": "markdown",
      "metadata": {
        "id": "ehYbEi7sCXI5"
      },
      "source": [
        "### Solution 1: Using List Splicing"
      ],
      "id": "ehYbEi7sCXI5"
    },
    {
      "cell_type": "code",
      "metadata": {
        "id": "cathedral-maple",
        "colab": {
          "base_uri": "https://localhost:8080/"
        },
        "outputId": "41c8b6f5-f938-4cbf-d03a-9682a766a6bc"
      },
      "source": [
        "def partition_1(nums, n_parts):\n",
        "    # A: compute how long each part will be \n",
        "    length_part = len(nums) // n_parts\n",
        "    # B: partition the list\n",
        "    return [\n",
        "        nums[start:start+length_part]  # form each part using list splicing\n",
        "        for start in range(0, len(nums), length_part) \n",
        "    ]\n",
        "\n",
        "\n",
        "L = [1, 2, 3, 4, 5, 6, 7, 8, 9, 10]\n",
        "print(partition_1(L, 2))"
      ],
      "id": "cathedral-maple",
      "execution_count": 21,
      "outputs": [
        {
          "output_type": "stream",
          "text": [
            "[[1, 2, 3, 4, 5], [6, 7, 8, 9, 10]]\n"
          ],
          "name": "stdout"
        }
      ]
    },
    {
      "cell_type": "markdown",
      "metadata": {
        "id": "8mdGKMp5CjAE"
      },
      "source": [
        "### Solution 2: Using NumPy"
      ],
      "id": "8mdGKMp5CjAE"
    },
    {
      "cell_type": "code",
      "metadata": {
        "colab": {
          "base_uri": "https://localhost:8080/"
        },
        "id": "cpqBscYECoYx",
        "outputId": "b9e75009-4c68-4283-f522-a25124565531"
      },
      "source": [
        "import numpy as np\n",
        "\n",
        "def partition_2(nums, n_parts):\n",
        "    # A: compute the length of each part\n",
        "    length_part = len(nums) // n_parts\n",
        "    # B: form the parts - aka create a matrix\n",
        "    reshaped_array = np.reshape(nums, (n_parts, length_part))\n",
        "    # C: convert from NumPy array to a list\n",
        "    return [list(part) for part in reshaped_array]\n",
        "\n",
        "\n",
        "L = [1, 2, 3, 4, 5, 6, 7, 8, 9, 10]\n",
        "print(partition_2(L, 2))"
      ],
      "id": "cpqBscYECoYx",
      "execution_count": 12,
      "outputs": [
        {
          "output_type": "stream",
          "text": [
            "[[1, 2, 3, 4, 5], [6, 7, 8, 9, 10]]\n"
          ],
          "name": "stdout"
        }
      ]
    },
    {
      "cell_type": "markdown",
      "metadata": {
        "id": "LabFumFcFr_r"
      },
      "source": [
        "Alternatively, you can also just let NumPy infer how many elements go in each partition of the list, simply by passing `-1` in place of `length_part` in step B above."
      ],
      "id": "LabFumFcFr_r"
    },
    {
      "cell_type": "markdown",
      "metadata": {
        "id": "outer-commons"
      },
      "source": [
        "## Activity 15: Filter a Matrix\n",
        "\n",
        "\"A matrix is given and a threshold is given\"\n",
        "\n",
        "- Write a function that returns the row index and column index of an element if element > threshold\n",
        "- TODO: include that we want the element value as well?\n",
        "- Ignore the diagonal element in the matrix. As an example for the below matrix and threshold 0.5:"
      ],
      "id": "outer-commons"
    },
    {
      "cell_type": "code",
      "metadata": {
        "id": "religious-cooking"
      },
      "source": [
        "matx = [[1.   , 0.273, 0.195, 0.89 , 0.216, 0.134, 0.064, 0.944, 0.235],\n",
        "       [0.273, 1.   , 0.236, 0.273, 0.143, 0.321, 0.084, 0.29 , 0.309],\n",
        "       [0.195, 0.236, 1.   , 0.195, 0.97 , 0.14 , 0.133, 0.206, 0.123],\n",
        "       [0.89 , 0.273, 0.195, 1.   , 0.272, 0.134, 0.064, 0.828, 0.235],\n",
        "       [0.216, 0.143, 0.97 , 0.272, 1.   , 0.137, 0.13 , 0.229, 0.06 ],\n",
        "       [0.134, 0.321, 0.14 , 0.134, 0.137, 1.   , 0.373, 0.142, 0.   ],\n",
        "       [0.064, 0.084, 0.133, 0.064, 0.13 , 0.373, 1.   , 0.067, 0.305],\n",
        "       [0.944, 0.29 , 0.206, 0.828, 0.229, 0.142, 0.067, 1.   , 0.249],\n",
        "       [0.235, 0.309, 0.123, 0.235, 0.06 , 0.   , 0.305, 0.249, 1.   ]]"
      ],
      "id": "religious-cooking",
      "execution_count": 13,
      "outputs": []
    },
    {
      "cell_type": "code",
      "metadata": {
        "id": "distributed-emission"
      },
      "source": [
        "def index_cosine_matrix(cosine_matrix, threshold=0.5):\n",
        "    for index_row, row in enumerate(cosine_matrix):\n",
        "        for index_element, element in enumerate(row):\n",
        "            if (element > threshold) and (index_element != index_row):\n",
        "                print((element, index_row, index_element)) "
      ],
      "id": "distributed-emission",
      "execution_count": 14,
      "outputs": []
    },
    {
      "cell_type": "code",
      "metadata": {
        "id": "hired-nickel",
        "colab": {
          "base_uri": "https://localhost:8080/"
        },
        "outputId": "6b55814b-9a44-4d11-d7a5-a64387080ad7"
      },
      "source": [
        "index_cosine_matrix(matx)"
      ],
      "id": "hired-nickel",
      "execution_count": 15,
      "outputs": [
        {
          "output_type": "stream",
          "text": [
            "(0.89, 0, 3)\n",
            "(0.944, 0, 7)\n",
            "(0.97, 2, 4)\n",
            "(0.89, 3, 0)\n",
            "(0.828, 3, 7)\n",
            "(0.97, 4, 2)\n",
            "(0.944, 7, 0)\n",
            "(0.828, 7, 3)\n"
          ],
          "name": "stdout"
        }
      ]
    },
    {
      "cell_type": "markdown",
      "metadata": {
        "id": "featured-utilization"
      },
      "source": [
        "## Activity: Write Custom Function to Compute Histogram distribution for a Numerical Array\n",
        "\n",
        "- You can use numpy\n",
        "- Your function takes two arguments: 1- list 2- number of bins\n",
        "- Your function would return a dictionary with $i$th-interval (as keys) and how many of elements in list are in the $i$th-interval (as values)\n",
        "- Sudo code for Histogram:\n",
        "    - Obtain the minimum element of the list\n",
        "    - Obtain the maximum element of the list\n",
        "    - Obtain the interval length\n",
        "    - Count how many elements in the list is in first interval, how many elements in the list is in the second interval, ..."
      ],
      "id": "featured-utilization"
    },
    {
      "cell_type": "code",
      "metadata": {
        "id": "surprising-kitchen"
      },
      "source": [
        "import pandas as pd\n",
        "import numpy as np\n",
        "\n",
        "df = pd.read_csv('titanic.csv')"
      ],
      "id": "surprising-kitchen",
      "execution_count": null,
      "outputs": []
    },
    {
      "cell_type": "code",
      "metadata": {
        "id": "annoying-while",
        "outputId": "16948ba5-8460-44a1-935b-3e8d7d5f0e59"
      },
      "source": [
        "# histogram distribution function\n",
        "def custom_histogram_distribution(ls, number_of_bins):\n",
        "    hist_ls_dict = dict()\n",
        "    min_ls = np.min(ls)\n",
        "    max_ls = np.max(ls)\n",
        "    # interval length\n",
        "    I = (max_ls - min_ls) / number_of_bins\n",
        "    for i_interval in range(number_of_bins):\n",
        "        hist_ls_dict[i_interval]= np.sum(((min_ls + i_interval*I) <=ls) & (ls <= (min_ls + (i_interval+1) *I)))      \n",
        "    return hist_ls_dict\n",
        "        \n",
        "print(custom_histogram_distribution(df['Age'].dropna().values, 16))"
      ],
      "id": "annoying-while",
      "execution_count": null,
      "outputs": [
        {
          "output_type": "stream",
          "text": [
            "{0: 44, 1: 20, 2: 19, 3: 96, 4: 122, 5: 108, 6: 88, 7: 67, 8: 47, 9: 39, 10: 24, 11: 18, 12: 14, 13: 3, 14: 4, 15: 1}\n"
          ],
          "name": "stdout"
        }
      ]
    },
    {
      "cell_type": "code",
      "metadata": {
        "id": "endangered-hampton",
        "outputId": "71df8309-9d1e-43e3-d9a9-9dece87c26c8"
      },
      "source": [
        "print(custom_histogram_distribution(df['Age'].dropna().values, 5))"
      ],
      "id": "endangered-hampton",
      "execution_count": null,
      "outputs": [
        {
          "output_type": "stream",
          "text": [
            "{0: 100, 1: 346, 2: 188, 3: 69, 4: 11}\n"
          ],
          "name": "stdout"
        }
      ]
    },
    {
      "cell_type": "code",
      "metadata": {
        "id": "discrete-authorization",
        "outputId": "e54eddbb-4d1b-48b1-bf07-4e84f497654c"
      },
      "source": [
        "import matplotlib.pyplot as plt\n",
        "\n",
        "hist_dict = custom_histogram_distribution(df['Age'].dropna().values, 16)\n",
        "plt.bar(hist_dict.keys(), hist_dict.values())"
      ],
      "id": "discrete-authorization",
      "execution_count": null,
      "outputs": [
        {
          "output_type": "execute_result",
          "data": {
            "text/plain": [
              "<BarContainer object of 16 artists>"
            ]
          },
          "metadata": {
            "tags": []
          },
          "execution_count": 86
        },
        {
          "output_type": "display_data",
          "data": {
            "image/png": "[encoded data removed]",
            "text/plain": [
              "<Figure size 432x288 with 1 Axes>"
            ]
          },
          "metadata": {
            "tags": []
          }
        }
      ]
    },
    {
      "cell_type": "code",
      "metadata": {
        "id": "owned-sleep",
        "outputId": "25747f50-7207-4741-923d-421fc878022c"
      },
      "source": [
        "import matplotlib.pyplot as plt\n",
        "\n",
        "hist_dict = custom_histogram_distribution(df['Age'].dropna().values, 5)\n",
        "plt.bar(hist_dict.keys(), hist_dict.values())"
      ],
      "id": "owned-sleep",
      "execution_count": null,
      "outputs": [
        {
          "output_type": "execute_result",
          "data": {
            "text/plain": [
              "<BarContainer object of 5 artists>"
            ]
          },
          "metadata": {
            "tags": []
          },
          "execution_count": 87
        },
        {
          "output_type": "display_data",
          "data": {
            "image/png": "[encoded data removed]",
            "text/plain": [
              "<Figure size 432x288 with 1 Axes>"
            ]
          },
          "metadata": {
            "tags": []
          }
        }
      ]
    },
    {
      "cell_type": "code",
      "metadata": {
        "id": "empirical-debate"
      },
      "source": [
        ""
      ],
      "id": "empirical-debate",
      "execution_count": null,
      "outputs": []
    }
  ]
}