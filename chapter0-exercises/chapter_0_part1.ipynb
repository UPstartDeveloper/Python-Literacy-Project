{
  "nbformat": 4,
  "nbformat_minor": 5,
  "metadata": {
    "kernelspec": {
      "name": "python392jvsc74a57bd0aee8b7b246df8f9039afb4144a1f6fd8d2ca17a180786b69acc140d282b71a49",
      "display_name": "Python 3.9.2 64-bit"
    },
    "language_info": {
      "codemirror_mode": {
        "name": "ipython",
        "version": 3
      },
      "file_extension": ".py",
      "mimetype": "text/x-python",
      "name": "python",
      "nbconvert_exporter": "python",
      "pygments_lexer": "ipython3",
      "version": "3.9.2"
    },
    "metadata": {
      "interpreter": {
        "hash": "aee8b7b246df8f9039afb4144a1f6fd8d2ca17a180786b69acc140d282b71a49"
      }
    },
    "colab": {
      "name": "chapter_0_part1.ipynb",
      "provenance": [],
      "toc_visible": true,
      "include_colab_link": true
    }
  },
  "cells": [
    {
      "cell_type": "markdown",
      "metadata": {
        "id": "view-in-github",
        "colab_type": "text"
      },
      "source": [
        "<a href=\"https://colab.research.google.com/github/UPstartDeveloper/Python-Literacy-Project/blob/main/chapter0-exercises/chapter_0_part1.ipynb\" target=\"_parent\"><img src=\"https://colab.research.google.com/assets/colab-badge.svg\" alt=\"Open In Colab\"/></a>"
      ]
    },
    {
      "cell_type": "markdown",
      "metadata": {
        "id": "hfiknnCN421M"
      },
      "source": [
        "## Message to Google Colab Users\n",
        "\n",
        "If working within Google Colab, please run the cell below in order to use any files stored in your Google Drive, to help you along as you complete the exercises."
      ],
      "id": "hfiknnCN421M"
    },
    {
      "cell_type": "code",
      "metadata": {
        "colab": {
          "base_uri": "https://localhost:8080/"
        },
        "id": "ma84o0_24mcQ",
        "outputId": "0a8ab2ec-9fcf-4eb6-89a2-e8dbe05f26b5"
      },
      "source": [
        "from google.colab import drive\n",
        "drive.mount('/content/drive')"
      ],
      "id": "ma84o0_24mcQ",
      "execution_count": 1,
      "outputs": [
        {
          "output_type": "stream",
          "text": [
            "Mounted at /content/drive\n"
          ],
          "name": "stdout"
        }
      ]
    },
    {
      "cell_type": "markdown",
      "metadata": {
        "id": "k97TZ0J54cZ_"
      },
      "source": [
        "## Version Information\n",
        "\n",
        "We strongly recommend you to use Python 3 throughout this book. Versions of Python 2.x, although they are deprecated, may work in this chapter since most of the exercises rely on built-in functions. We will show you to check your version number below."
      ],
      "id": "k97TZ0J54cZ_"
    },
    {
      "cell_type": "code",
      "metadata": {
        "id": "DYxtfmnM4caC"
      },
      "source": [
        "# Python ≥3.5 is required\n",
        "import sys\n",
        "assert sys.version_info >= (3, 5)"
      ],
      "id": "DYxtfmnM4caC",
      "execution_count": 8,
      "outputs": []
    },
    {
      "cell_type": "code",
      "metadata": {
        "colab": {
          "base_uri": "https://localhost:8080/"
        },
        "id": "LltlEAsf5w9y",
        "outputId": "58d12d72-5e67-4c37-a714-08db7378c1d3"
      },
      "source": [
        "# Alternatively, you can just print the Python version\n",
        "print(sys.version)"
      ],
      "id": "LltlEAsf5w9y",
      "execution_count": 9,
      "outputs": [
        {
          "output_type": "stream",
          "text": [
            "3.7.10 (default, May  3 2021, 02:48:31) \n",
            "[GCC 7.5.0]\n"
          ],
          "name": "stdout"
        }
      ]
    },
    {
      "cell_type": "markdown",
      "metadata": {
        "id": "dress-automation"
      },
      "source": [
        "## Activity 1: Find the Maximum Element\n",
        "You are given a `list` of numbers, `nums`. How would you write Python code to find the largest element in this list?\n",
        "\n",
        "*Note:* in our solution, we initialize the `max_element` to `float(\"-inf\")`. This just represents the lowest numerical value that can be stored in a Python variable."
      ],
      "id": "dress-automation"
    },
    {
      "cell_type": "markdown",
      "metadata": {
        "id": "k15ScsYL4caD"
      },
      "source": [
        "### Example Input"
      ],
      "id": "k15ScsYL4caD"
    },
    {
      "cell_type": "code",
      "metadata": {
        "id": "_1SQVWH64caD"
      },
      "source": [
        "nums1 = [10, 3, 4, 20, 12]"
      ],
      "id": "_1SQVWH64caD",
      "execution_count": null,
      "outputs": []
    },
    {
      "cell_type": "markdown",
      "metadata": {
        "id": "F0aWl7zH4caD"
      },
      "source": [
        "### Solution 1: Using Custom Code"
      ],
      "id": "F0aWl7zH4caD"
    },
    {
      "cell_type": "code",
      "metadata": {
        "id": "cultural-taste"
      },
      "source": [
        "def find_max_1(nums):\n",
        "    max_element = float(\"-inf\") \n",
        "    for element in nums:\n",
        "        if element > max_element:\n",
        "            max_element = element\n",
        "    return max_element"
      ],
      "id": "cultural-taste",
      "execution_count": null,
      "outputs": []
    },
    {
      "cell_type": "markdown",
      "metadata": {
        "id": "6II7cwTs4caE"
      },
      "source": [
        "#### Test Out Solution 1"
      ],
      "id": "6II7cwTs4caE"
    },
    {
      "cell_type": "code",
      "metadata": {
        "colab": {
          "base_uri": "https://localhost:8080/"
        },
        "id": "spare-medicare",
        "outputId": "16796626-6e5d-45c4-f120-db23878cf9ae"
      },
      "source": [
        "print(find_max_1(nums1))"
      ],
      "id": "spare-medicare",
      "execution_count": null,
      "outputs": [
        {
          "output_type": "stream",
          "text": [
            "20\n"
          ],
          "name": "stdout"
        }
      ]
    },
    {
      "cell_type": "markdown",
      "metadata": {
        "id": "KDQOQRCg4caF"
      },
      "source": [
        "### Solution 2: Using `max()`\n",
        "\n",
        "Say hello to our first built-in Python function!\n",
        "\n",
        "`max()` will return the largest value in finds in any input `list`. Alternatively, you could also pass in several values to the function all at once, and achieve the same result.\n",
        "\n",
        "i.e. `max([x, y, z])` gives the same result as calling `max(x, y, z)`.\n",
        "\n",
        "Read more about `max()` in the [Python 3 documentation](https://docs.python.org/3/library/functions.html#max)."
      ],
      "id": "KDQOQRCg4caF"
    },
    {
      "cell_type": "markdown",
      "metadata": {
        "id": "otLqm9IK4caF"
      },
      "source": [
        "#### Test Out Solution 2"
      ],
      "id": "otLqm9IK4caF"
    },
    {
      "cell_type": "code",
      "metadata": {
        "colab": {
          "base_uri": "https://localhost:8080/"
        },
        "id": "0xLmBE8P4caF",
        "outputId": "06249fcb-07e5-4322-9992-c4805e856352"
      },
      "source": [
        "# does this output the same value as above?\n",
        "print(max(nums1))"
      ],
      "id": "0xLmBE8P4caF",
      "execution_count": null,
      "outputs": [
        {
          "output_type": "stream",
          "text": [
            "20\n"
          ],
          "name": "stdout"
        }
      ]
    },
    {
      "cell_type": "markdown",
      "metadata": {
        "id": "monetary-mediterranean"
      },
      "source": [
        "## Activity 2: Index of Maximum Element\n",
        "\n",
        "You are given a `list` of numbers, `nums`. How would you write Python code to find the index of the largest element in the list?\n",
        "\n",
        "`Note`: if there are no elements in `nums`, then please return -1. Also, if the largest value appears more than once in `nums`, then return the index of where it first appears."
      ],
      "id": "monetary-mediterranean"
    },
    {
      "cell_type": "markdown",
      "metadata": {
        "id": "Dl59SjxP4caG"
      },
      "source": [
        "### Example Input"
      ],
      "id": "Dl59SjxP4caG"
    },
    {
      "cell_type": "code",
      "metadata": {
        "id": "PzLMzVaV4caG"
      },
      "source": [
        "nums2 = [10, 3, 4, 20, 12]"
      ],
      "id": "PzLMzVaV4caG",
      "execution_count": null,
      "outputs": []
    },
    {
      "cell_type": "markdown",
      "metadata": {
        "id": "khlxG6lc4caG"
      },
      "source": [
        "### Solution 1: `for` loop using `range()`"
      ],
      "id": "khlxG6lc4caG"
    },
    {
      "cell_type": "code",
      "metadata": {
        "id": "cpURsZ384caH"
      },
      "source": [
        "def find_max_index_1(nums):\n",
        "    max_element = float(\"-inf\")\n",
        "    max_element_index = -1\n",
        "    for index in range(len(nums)):\n",
        "        element = nums[index]\n",
        "        if element > max_element:\n",
        "            max_element = element\n",
        "            max_element_index = index\n",
        "    return max_element_index"
      ],
      "id": "cpURsZ384caH",
      "execution_count": null,
      "outputs": []
    },
    {
      "cell_type": "markdown",
      "metadata": {
        "id": "cIoo3w4A4caH"
      },
      "source": [
        "#### Test Out Solution 1"
      ],
      "id": "cIoo3w4A4caH"
    },
    {
      "cell_type": "code",
      "metadata": {
        "colab": {
          "base_uri": "https://localhost:8080/"
        },
        "id": "m5k8LczG4caH",
        "outputId": "762fa6a5-9018-4426-8f10-2c64dc0c5377"
      },
      "source": [
        "print(find_max_index_1(nums2))"
      ],
      "id": "m5k8LczG4caH",
      "execution_count": null,
      "outputs": [
        {
          "output_type": "stream",
          "text": [
            "3\n"
          ],
          "name": "stdout"
        }
      ]
    },
    {
      "cell_type": "markdown",
      "metadata": {
        "id": "Wm_J5dPU4caH"
      },
      "source": [
        "### Solution 2: `for` loop using `enumerate()`"
      ],
      "id": "Wm_J5dPU4caH"
    },
    {
      "cell_type": "code",
      "metadata": {
        "id": "transparent-spoke"
      },
      "source": [
        "def find_max_index_2(nums):\n",
        "    max_element_index = -1\n",
        "    max_element = float(\"-inf\")\n",
        "    for index, element in enumerate(nums):\n",
        "        if element > max_element:\n",
        "            max_element = element\n",
        "            max_element_index = index\n",
        "    return max_element_index"
      ],
      "id": "transparent-spoke",
      "execution_count": null,
      "outputs": []
    },
    {
      "cell_type": "code",
      "metadata": {
        "colab": {
          "base_uri": "https://localhost:8080/"
        },
        "id": "8iNNurgV4caI",
        "outputId": "497c3280-4712-4b61-97df-8aaabc6888d1"
      },
      "source": [
        "print(find_max_index_2(nums2))"
      ],
      "id": "8iNNurgV4caI",
      "execution_count": null,
      "outputs": [
        {
          "output_type": "stream",
          "text": [
            "3\n"
          ],
          "name": "stdout"
        }
      ]
    },
    {
      "cell_type": "markdown",
      "metadata": {
        "id": "MaC-FSOY4caI"
      },
      "source": [
        "### Solution 3: Using `max()` and `index()`"
      ],
      "id": "MaC-FSOY4caI"
    },
    {
      "cell_type": "code",
      "metadata": {
        "id": "l7p69fD54caI"
      },
      "source": [
        "def find_max_index_3(nums):\n",
        "    # A: empty list\n",
        "    if nums is None or len(nums) == 0:\n",
        "        return -1\n",
        "    # B: all other lists\n",
        "    max_element = max(nums)\n",
        "    max_element_index = nums.index(max_element)\n",
        "    return max_element_index"
      ],
      "id": "l7p69fD54caI",
      "execution_count": null,
      "outputs": []
    },
    {
      "cell_type": "markdown",
      "metadata": {
        "id": "QFPqBNWy4caI"
      },
      "source": [
        "#### Test Solution 3"
      ],
      "id": "QFPqBNWy4caI"
    },
    {
      "cell_type": "code",
      "metadata": {
        "colab": {
          "base_uri": "https://localhost:8080/"
        },
        "id": "GsbnE2B-4caI",
        "outputId": "3b16d181-17bb-4f16-db62-938721d20d07"
      },
      "source": [
        "print(find_max_index_3(nums2))"
      ],
      "id": "GsbnE2B-4caI",
      "execution_count": null,
      "outputs": [
        {
          "output_type": "stream",
          "text": [
            "3\n"
          ],
          "name": "stdout"
        }
      ]
    },
    {
      "cell_type": "markdown",
      "metadata": {
        "id": "eastern-windsor"
      },
      "source": [
        "## Activity 3: Product of Array\n",
        "\n",
        "You are given a `list` of multiple numbers, `nums`. How would you write Python code to compute the product of all the elements in `nums`?"
      ],
      "id": "eastern-windsor"
    },
    {
      "cell_type": "markdown",
      "metadata": {
        "id": "NcN6fNQx4caJ"
      },
      "source": [
        "### Example Input"
      ],
      "id": "NcN6fNQx4caJ"
    },
    {
      "cell_type": "code",
      "metadata": {
        "id": "rdDLWAz64caJ"
      },
      "source": [
        "nums3 = [10, 3, 4, 20, 12]"
      ],
      "id": "rdDLWAz64caJ",
      "execution_count": null,
      "outputs": []
    },
    {
      "cell_type": "markdown",
      "metadata": {
        "id": "RxNCDZF-4caJ"
      },
      "source": [
        "### Solution 1: Using a `for` loop"
      ],
      "id": "RxNCDZF-4caJ"
    },
    {
      "cell_type": "code",
      "metadata": {
        "id": "strange-worry"
      },
      "source": [
        "def product_of(nums):\n",
        "    prod = 1\n",
        "    for num in nums:\n",
        "        prod = prod * num \n",
        "    return prod"
      ],
      "id": "strange-worry",
      "execution_count": null,
      "outputs": []
    },
    {
      "cell_type": "markdown",
      "metadata": {
        "id": "s6J4D92E4caK"
      },
      "source": [
        "#### Test Out Solution 1"
      ],
      "id": "s6J4D92E4caK"
    },
    {
      "cell_type": "code",
      "metadata": {
        "colab": {
          "base_uri": "https://localhost:8080/"
        },
        "id": "opening-stuff",
        "outputId": "a942cb9c-134c-4527-ee88-e8bf0f575901"
      },
      "source": [
        "print(product_of(nums3))"
      ],
      "id": "opening-stuff",
      "execution_count": null,
      "outputs": [
        {
          "output_type": "stream",
          "text": [
            "28800\n"
          ],
          "name": "stdout"
        }
      ]
    },
    {
      "cell_type": "markdown",
      "metadata": {
        "id": "wPVvNJET4caK"
      },
      "source": [
        "### Solution 2: Using `math.prod`\n",
        "\n",
        "The `math` module is one of the most useful in the Python Standard Library, specifically for mathematical operations. \n",
        "\n",
        "The `math.prod()` was introduced in Python 3.8, and it can also be used to accomplish this task. You may read more of the details about this function as you wish [in the documentation](https://docs.python.org/3/library/math.html#math.prod)."
      ],
      "id": "wPVvNJET4caK"
    },
    {
      "cell_type": "code",
      "metadata": {
        "colab": {
          "base_uri": "https://localhost:8080/",
          "height": 232
        },
        "id": "g926FtKb4caK",
        "outputId": "cf4469a7-2712-424c-fb31-5c104e977441"
      },
      "source": [
        "# A: first, import the math module\n",
        "import math\n",
        "\n",
        "# B: then ensure Python version is >=3.8\n",
        "assert sys.version_info >= (3, 8)\n",
        "\n",
        "# C: if all is well, return the product\n",
        "result = math.prod(nums3)\n"
      ],
      "id": "g926FtKb4caK",
      "execution_count": null,
      "outputs": [
        {
          "output_type": "error",
          "ename": "AssertionError",
          "evalue": "ignored",
          "traceback": [
            "\u001b[0;31m---------------------------------------------------------------------------\u001b[0m",
            "\u001b[0;31mAssertionError\u001b[0m                            Traceback (most recent call last)",
            "\u001b[0;32m<ipython-input-18-264d4190135d>\u001b[0m in \u001b[0;36m<module>\u001b[0;34m()\u001b[0m\n\u001b[1;32m      3\u001b[0m \u001b[0;34m\u001b[0m\u001b[0m\n\u001b[1;32m      4\u001b[0m \u001b[0;31m# B: then ensure Python version is >=3.8\u001b[0m\u001b[0;34m\u001b[0m\u001b[0;34m\u001b[0m\u001b[0;34m\u001b[0m\u001b[0m\n\u001b[0;32m----> 5\u001b[0;31m \u001b[0;32massert\u001b[0m \u001b[0msys\u001b[0m\u001b[0;34m.\u001b[0m\u001b[0mversion_info\u001b[0m \u001b[0;34m>=\u001b[0m \u001b[0;34m(\u001b[0m\u001b[0;36m3\u001b[0m\u001b[0;34m,\u001b[0m \u001b[0;36m8\u001b[0m\u001b[0;34m)\u001b[0m\u001b[0;34m\u001b[0m\u001b[0;34m\u001b[0m\u001b[0m\n\u001b[0m\u001b[1;32m      6\u001b[0m \u001b[0;34m\u001b[0m\u001b[0m\n\u001b[1;32m      7\u001b[0m \u001b[0;31m# C: if all is well, return the product\u001b[0m\u001b[0;34m\u001b[0m\u001b[0;34m\u001b[0m\u001b[0;34m\u001b[0m\u001b[0m\n",
            "\u001b[0;31mAssertionError\u001b[0m: "
          ]
        }
      ]
    },
    {
      "cell_type": "markdown",
      "metadata": {
        "id": "XOcMw0nO4caK"
      },
      "source": [
        "#### Test Out Solution 2"
      ],
      "id": "XOcMw0nO4caK"
    },
    {
      "cell_type": "code",
      "metadata": {
        "id": "TPdpsoGT4caL",
        "outputId": "746d680e-63c8-4e9d-bc61-233ed18bef1d"
      },
      "source": [
        "print(result)"
      ],
      "id": "TPdpsoGT4caL",
      "execution_count": null,
      "outputs": [
        {
          "output_type": "stream",
          "text": [
            "28800\n"
          ],
          "name": "stdout"
        }
      ]
    },
    {
      "cell_type": "markdown",
      "metadata": {
        "id": "myXT-BEp4caL"
      },
      "source": [
        "### Solution 3: Using `reduce()`\n",
        "\n",
        "The `reduce()` function is another handy tool. This function is typically used to take a given array of numbers and decompose them down into a singular value. This is done by applying a given helper function repeatedly to the values in the array, over and over again, until they are *reduced* to a single value.\n",
        "\n",
        "But how does `reduce()` do this, you may ask? Let's take an example to make it clearer: consider you have a Python `list` that contains `[1, 2, 3, 4, 5]`, and a function called `multiply()` that computes the product of two values. If we passed both of these to the `reduce()` function, it would return the product of all the elements, `120`. Essentially, it computes the result of `((((1*2)*3)*4)*5)`.\n",
        "\n",
        "For your understanding, this process is visualized in the following diagram:\n",
        "\n",
        "<img src=\"https://i.postimg.cc/0NS1zDpn/how-reduce-works.png\" alt=\"How reduce() works\" height=\"225px\" width=\"300px\"></img>\n",
        "\n",
        "The Python code for this is implemented below:"
      ],
      "id": "myXT-BEp4caL"
    },
    {
      "cell_type": "code",
      "metadata": {
        "id": "O5-Q_seo4caL"
      },
      "source": [
        "# A: first, import reduce()\n",
        "from functools import reduce\n",
        "\n",
        "# B: next, define the helper function\n",
        "def multiply(num1, num2):\n",
        "    return num1 * num2\n",
        "\n",
        "# C: then, compute the product\n",
        "product = reduce(multiply, nums3)"
      ],
      "id": "O5-Q_seo4caL",
      "execution_count": null,
      "outputs": []
    },
    {
      "cell_type": "markdown",
      "metadata": {
        "id": "i6DlG23I4caM"
      },
      "source": [
        "#### Test Out Solution 3"
      ],
      "id": "i6DlG23I4caM"
    },
    {
      "cell_type": "code",
      "metadata": {
        "id": "6qLYkmTY4caM",
        "colab": {
          "base_uri": "https://localhost:8080/"
        },
        "outputId": "6ec33a5d-ef62-4bac-d747-bc7ccb050200"
      },
      "source": [
        "print(product)"
      ],
      "id": "6qLYkmTY4caM",
      "execution_count": null,
      "outputs": [
        {
          "output_type": "stream",
          "text": [
            "28800\n"
          ],
          "name": "stdout"
        }
      ]
    },
    {
      "cell_type": "markdown",
      "metadata": {
        "id": "female-alabama"
      },
      "source": [
        "## Activity 4: Is in Range\n",
        "\n",
        "Given a number `num`, how would you write Python code to check whether it falls in between a `lower_bound` number and an `upper_bound` number?\n",
        "\n",
        "*Note*: for this activity, the range of values between `lower_bound` and `upper_bound` is **inclusive** of the `lower_bound`, and **non-inclusive** of the `upper_bound`."
      ],
      "id": "female-alabama"
    },
    {
      "cell_type": "markdown",
      "metadata": {
        "id": "shNS0YAD4caM"
      },
      "source": [
        "### Example Inputs\n",
        "\n",
        "For example, if we are given `5` as our `num` and ask our function whether or not it falls in between a `lower_bound` of `3` and an `upper_bound` of `9`, then we would expect it to return `True`.\n",
        "\n",
        "However, if we use the same `num` and `upper_bound`, but change the `lower_bound` from `3` to `7`, we would now expect the function to return `False`."
      ],
      "id": "shNS0YAD4caM"
    },
    {
      "cell_type": "code",
      "metadata": {
        "id": "f-ZRamLF4caM"
      },
      "source": [
        "# these tuples order the args according to (lower_bound, upper_bound, num)\n",
        "true_example = (3, 9, 5)\n",
        "false_example = (7, 9, 5)\n",
        "\n",
        "\n",
        "def test_output(function, inputs):\n",
        "    '''Displays whether the function works as expected for the given input.'''\n",
        "    # A: unpack the input tuple into the corresponding args\n",
        "    lower_bound, upper_bound, num = inputs\n",
        "    # B: compute the result, use whatever function is passed in\n",
        "    output = function(lower_bound, upper_bound, num)\n",
        "    # C: display the result (Python 3.x required for format strings)\n",
        "    print(f\"{num} is in between {lower_bound} and {upper_bound}: {output}\")"
      ],
      "id": "f-ZRamLF4caM",
      "execution_count": null,
      "outputs": []
    },
    {
      "cell_type": "markdown",
      "metadata": {
        "id": "uzSU3KeA4caN"
      },
      "source": [
        "### Solution 1: Using the built-in `range()` function"
      ],
      "id": "uzSU3KeA4caN"
    },
    {
      "cell_type": "code",
      "metadata": {
        "id": "common-service"
      },
      "source": [
        "def is_in_range_1(lower_bound, upper_bound, num):\n",
        "    for element in range(lower_bound, upper_bound):\n",
        "        if element == num:\n",
        "            return True\n",
        "    return False"
      ],
      "id": "common-service",
      "execution_count": null,
      "outputs": []
    },
    {
      "cell_type": "markdown",
      "metadata": {
        "id": "ueJWr4it4caN"
      },
      "source": [
        "#### Test Out Solution 1"
      ],
      "id": "ueJWr4it4caN"
    },
    {
      "cell_type": "code",
      "metadata": {
        "id": "existing-lobby",
        "colab": {
          "base_uri": "https://localhost:8080/"
        },
        "outputId": "c4eaddfb-4d71-4fa4-8a75-dcd6ea11fa71"
      },
      "source": [
        "test_output(is_in_range_1, true_example)\n",
        "test_output(is_in_range_1, false_example)"
      ],
      "id": "existing-lobby",
      "execution_count": null,
      "outputs": [
        {
          "output_type": "stream",
          "text": [
            "5 is in between 3 and 9: True\n",
            "5 is in between 7 and 9: False\n"
          ],
          "name": "stdout"
        }
      ]
    },
    {
      "cell_type": "markdown",
      "metadata": {
        "id": "DgTfQtBx4caO"
      },
      "source": [
        "### Solution 2: Using `lambda`\n",
        "\n",
        "While solving this problem, you may have realized we don't necessarily need to iterate through all the numbers in the range `[lower_bound, upper_bound)`. Rather, we can merely use the comparision operators found in Python. With that in mind, your solution to this activity may have looked something like the following:\n",
        "\n",
        "```\n",
        "def is_in_range(lower_bound, upper_bound, num):\n",
        "    # in the range\n",
        "    if lower_bound <= num < upper_bound:\n",
        "        return True\n",
        "    # outside of the range\n",
        "    return False\n",
        "```\n",
        "\n",
        "This solution works fantastically. Nonetheless, the question you may ask now is: why do we have to dedicate an entire function to doing something with such simple logic?\n",
        "\n",
        "The creators of Python thought the same way, and that is part of why we have the `lambda` keyword. The `lambda` keyword is an especially useful tool for simplifying our code. It essentially allows us to define a function in a single line, and omit the `return` keyword as well. You may read more in the [Python documentation](https://docs.python.org/3/reference/expressions.html#lambda) as you wish."
      ],
      "id": "DgTfQtBx4caO"
    },
    {
      "cell_type": "code",
      "metadata": {
        "id": "biological-frank"
      },
      "source": [
        "is_in_range_2 = lambda lb, ub, num: lb <= num < ub"
      ],
      "id": "biological-frank",
      "execution_count": null,
      "outputs": []
    },
    {
      "cell_type": "markdown",
      "metadata": {
        "id": "M5vSmdJL4caO"
      },
      "source": [
        "#### Test Out Solution 2"
      ],
      "id": "M5vSmdJL4caO"
    },
    {
      "cell_type": "code",
      "metadata": {
        "id": "1G7ypkDn4caO",
        "colab": {
          "base_uri": "https://localhost:8080/"
        },
        "outputId": "bdcbc2aa-7da9-4188-bc42-75fcded62f30"
      },
      "source": [
        "test_output(is_in_range_2, true_example)\n",
        "test_output(is_in_range_2, false_example)"
      ],
      "id": "1G7ypkDn4caO",
      "execution_count": null,
      "outputs": [
        {
          "output_type": "stream",
          "text": [
            "5 is in between 3 and 9: True\n",
            "5 is in between 7 and 9: False\n"
          ],
          "name": "stdout"
        }
      ]
    },
    {
      "cell_type": "markdown",
      "metadata": {
        "id": "expanded-monkey"
      },
      "source": [
        "## Activity 5: Element-Wise Sum\n",
        "\n",
        "You are given two lists of numbers, `nums1` and `nums2`. How would you write Python code to compute their *element-wise sum*?\n",
        "\n",
        "You may assume that both `nums1` and `nums2` are not empty, and contain the same number of elements.\n"
      ],
      "id": "expanded-monkey"
    },
    {
      "cell_type": "markdown",
      "metadata": {
        "id": "fUr1eWUi7_Uo"
      },
      "source": [
        "### Example Input\n",
        "\n",
        "For example, if we are asked to compute the element-wise sum of `[1, 2, 3]` and `[10, 15, 20]`, then we would expect to eventually come up with `[11, 17, 23]`.\n",
        "\n",
        "This is because in an element-wise sum, we add the elements from both arrays that are at corresponding indices, and place their sum in that same index in a new array.\n",
        "\n",
        "For your understanding, this process is diagrammed below:\n",
        "```\n",
        "Index:       0   1   2  \n",
        "nums1:     [ 1,  2,  3]\n",
        "nums2:  +  [10, 15, 20]\n",
        "_______________________\n",
        "output:    [11, 17, 23]\n",
        "```"
      ],
      "id": "fUr1eWUi7_Uo"
    },
    {
      "cell_type": "code",
      "metadata": {
        "id": "l1accOkS9O5N"
      },
      "source": [
        "nums1 = [1, 2, 3]\n",
        "nums2 = [10, 15, 20]"
      ],
      "id": "l1accOkS9O5N",
      "execution_count": 10,
      "outputs": []
    },
    {
      "cell_type": "markdown",
      "metadata": {
        "id": "fH6nJNH29fyg"
      },
      "source": [
        "### Solution 1: Using a `for` loop\n",
        "Notice how we keep track of the `index` as we iterate over both arrays:"
      ],
      "id": "fH6nJNH29fyg"
    },
    {
      "cell_type": "code",
      "metadata": {
        "id": "FLsum4Ac-EuZ"
      },
      "source": [
        "def element_wise_sum_1(nums1, nums2):\n",
        "  # A: init the output list\n",
        "  summed_elems = [0 for _ in range(len(nums1))]\n",
        "  # B: iterate over both input lists\n",
        "  for index in range(len(nums1)):\n",
        "    # C: place the next sum needed in the output list\n",
        "    elem_sum = nums1[index] + nums2[index]\n",
        "    summed_elems[index] = elem_sum\n",
        "  # D: return the output\n",
        "  return summed_elems"
      ],
      "id": "FLsum4Ac-EuZ",
      "execution_count": 11,
      "outputs": []
    },
    {
      "cell_type": "markdown",
      "metadata": {
        "id": "iIQmeOYM_j9M"
      },
      "source": [
        "#### Test Out Solution 1"
      ],
      "id": "iIQmeOYM_j9M"
    },
    {
      "cell_type": "code",
      "metadata": {
        "colab": {
          "base_uri": "https://localhost:8080/"
        },
        "id": "yrUOA73E_nCr",
        "outputId": "37279789-2bd1-4410-fe8f-e59c6d487f34"
      },
      "source": [
        "print(element_wise_sum_1(nums1, nums2))"
      ],
      "id": "yrUOA73E_nCr",
      "execution_count": 12,
      "outputs": [
        {
          "output_type": "stream",
          "text": [
            "[11, 17, 23]\n"
          ],
          "name": "stdout"
        }
      ]
    },
    {
      "cell_type": "markdown",
      "metadata": {
        "id": "tcQe2UmO9VCS"
      },
      "source": [
        "### Solution 2: Using `zip()`\n",
        "\n",
        "While the solution above works, it is also somewhat *too* straightforward. \n",
        "\n",
        "To elaborate, what do you suppose might happen if we were instead asked to compute the element-wise sum of more than just 2 lists? How about 3? Or 10? Or 50?\n",
        "\n",
        "In particular, line 7 of the `element_wise_sum_1` function may in fact end up looking something like the following:\n",
        "\n",
        "```\n",
        "elem_sum = nums1[index] + nums2[index] + nums3[index] + nums4[index] + nums5[index] + nums6[index]+ nums7[index]...\n",
        "```\n",
        "\n",
        "Why is this so bad? In Data Science, it is not uncommon to have to manipulate many different arrays all at once. Therefore, if we have to keep track of an `index` variable ourselves, it can often create more room for errors in our code.\n",
        "\n",
        "This is where Python's built-in `zip()` function can become immensely useful. For our purposes, it will basically combine our arrays into a single matrix - forming an array that is the same length as `nums1` or `nums2` before; and which contains an array for all the elements found at that index in the aforementioned `nums1` and `nums2`. Observe how this works in the diagram below:\n",
        "```\n",
        "How zip(nums1, nums2) Works:\n",
        "index  |   nums1  |     num2   |        out \n",
        "  0    |     1 -------> 10 -------->  (1, 10)\n",
        "  1    |     2 -------> 15 -------->  (2, 15)\n",
        "  2    |     3 -------> 20 -------->  (3, 20)\n",
        "       |          |            |   \n",
        "```\n",
        "\n",
        "Essentially, by using `zip()` we take out the need for tracking the `index` ourselves, and can thereby compute the element-wise sum using a more straightforward `for` loop, nested in a *list comprehension*."
      ],
      "id": "tcQe2UmO9VCS"
    },
    {
      "cell_type": "code",
      "metadata": {
        "id": "prompt-rescue"
      },
      "source": [
        "def element_wise_sum_2(nums1, nums2):\n",
        "    '''Sums 2 different arrays element-wise, by first creating a 2D matrix.'''\n",
        "    summed_elems = [\n",
        "         sum(index_elems)  # summing two elements from the same index \n",
        "         for index_elems in zip(nums1, nums2)  # iterating over the matrix rows \n",
        "    ]\n",
        "    return summed_elems"
      ],
      "id": "prompt-rescue",
      "execution_count": 13,
      "outputs": []
    },
    {
      "cell_type": "markdown",
      "metadata": {
        "id": "0paCBn5EzBVM"
      },
      "source": [
        "You may read more about `zip()` on the [Python documentation](https://docs.python.org/3/library/functions.html#zip) as you please."
      ],
      "id": "0paCBn5EzBVM"
    },
    {
      "cell_type": "markdown",
      "metadata": {
        "id": "tW096DDc27OA"
      },
      "source": [
        "#### Test Out Solution 2"
      ],
      "id": "tW096DDc27OA"
    },
    {
      "cell_type": "code",
      "metadata": {
        "id": "civil-accordance",
        "colab": {
          "base_uri": "https://localhost:8080/"
        },
        "outputId": "708a299d-6186-44d6-b44f-ed9bb0744862"
      },
      "source": [
        "print(element_wise_sum_2(nums1, nums2))"
      ],
      "id": "civil-accordance",
      "execution_count": 14,
      "outputs": [
        {
          "output_type": "stream",
          "text": [
            "[11, 17, 23]\n"
          ],
          "name": "stdout"
        }
      ]
    },
    {
      "cell_type": "markdown",
      "metadata": {
        "id": "aDhpzaXK3nVH"
      },
      "source": [
        "### Solution 3: Using `map()`\n",
        "\n",
        "As a final alternative, we can use another built-in function in Python called `map()`. It is yet another effective tool to make iterative problems easy - its function signature goes as follows:\n",
        "\n",
        "```\n",
        "map(function, iterable, ...)\n",
        "```\n",
        "In a nutshell, what `map()` does is apply the given `function` to every element in the given `iterable` (for our purposes, you can suppose this is our array of numbers), and produces the transformed elements in a new array.\n",
        "\n",
        "**But what does this have to do with our solution, you may ask?**\n",
        "\n",
        "The `map()` function is can also accept *multiple arrays* as inputs. It does this through *parallel iteration*, a process by which it will now apply the given `function` to *every element located at a given index* across all the arrays. Just like before, the `function` will then output its result into our output array.\n",
        "\n",
        "**Note**: to make `map()` work, the input arrays **must** be of the same length; as well, the number of parameters for the `function` must be equal to the number of arrays passed in, so that all the inputs are, well... *mapped* properly to the outputs.\n",
        "\n",
        "You may read more about the `map()` function in the [Python documentation](https://docs.python.org/3/library/functions.html#map) as you wish."
      ],
      "id": "aDhpzaXK3nVH"
    },
    {
      "cell_type": "code",
      "metadata": {
        "id": "QC7SMlmn8huV"
      },
      "source": [
        "# A: first, import the function we can use to add 2 elems\n",
        "from operator import add\n",
        "\n",
        "# B: iterate over the two arrays in parallel, to compute the element-wise sum\n",
        "element_wise_sum_3 = list(map(add, nums1, nums2))"
      ],
      "id": "QC7SMlmn8huV",
      "execution_count": 15,
      "outputs": []
    },
    {
      "cell_type": "markdown",
      "metadata": {
        "id": "QBnN0VD09Ksn"
      },
      "source": [
        "#### Test Out Solution 3"
      ],
      "id": "QBnN0VD09Ksn"
    },
    {
      "cell_type": "code",
      "metadata": {
        "colab": {
          "base_uri": "https://localhost:8080/"
        },
        "id": "PDvfPT1m9NDL",
        "outputId": "f881888e-ebae-486f-e29f-40a845a02914"
      },
      "source": [
        "print(element_wise_sum_3)"
      ],
      "id": "PDvfPT1m9NDL",
      "execution_count": 16,
      "outputs": [
        {
          "output_type": "stream",
          "text": [
            "[11, 17, 23]\n"
          ],
          "name": "stdout"
        }
      ]
    },
    {
      "cell_type": "markdown",
      "metadata": {
        "id": "military-magnet"
      },
      "source": [
        "## Activity 6: Squared Array\n",
        "\n",
        "You are given an array of numbers, `nums`. How would implement a function in Python to compute the square of each number in `nums`?\n",
        "\n",
        "Please return the ouput in a new array."
      ],
      "id": "military-magnet"
    },
    {
      "cell_type": "markdown",
      "metadata": {
        "id": "BBoIVXruBjtF"
      },
      "source": [
        "### Example Input"
      ],
      "id": "BBoIVXruBjtF"
    },
    {
      "cell_type": "code",
      "metadata": {
        "id": "dJQkJkR7BmE8"
      },
      "source": [
        "nums = [1, 2, 3]"
      ],
      "id": "dJQkJkR7BmE8",
      "execution_count": 17,
      "outputs": []
    },
    {
      "cell_type": "markdown",
      "metadata": {
        "id": "jAHzs517BqLi"
      },
      "source": [
        "### Solution 1: Using a List Comprehension"
      ],
      "id": "jAHzs517BqLi"
    },
    {
      "cell_type": "code",
      "metadata": {
        "id": "potential-fields"
      },
      "source": [
        "def square_elements(nums):\n",
        "    return [num**2 for num in nums]"
      ],
      "id": "potential-fields",
      "execution_count": 18,
      "outputs": []
    },
    {
      "cell_type": "markdown",
      "metadata": {
        "id": "qrHofN9nBv9X"
      },
      "source": [
        "#### Test Out Solution 1"
      ],
      "id": "qrHofN9nBv9X"
    },
    {
      "cell_type": "code",
      "metadata": {
        "id": "theoretical-houston",
        "colab": {
          "base_uri": "https://localhost:8080/"
        },
        "outputId": "f26cd87d-b595-4679-e958-868e5a06ec76"
      },
      "source": [
        "print(square_elements(nums))"
      ],
      "id": "theoretical-houston",
      "execution_count": 19,
      "outputs": [
        {
          "output_type": "stream",
          "text": [
            "[1, 4, 9]\n"
          ],
          "name": "stdout"
        }
      ]
    },
    {
      "cell_type": "markdown",
      "metadata": {
        "id": "descending-orbit"
      },
      "source": [
        "## Activity: Compute the expected value of a fair dice\n",
        "\n",
        "By Definition, the expected value of random events (a random variable) like rolling a dice is computed as: \n",
        "\n",
        "$E(X) = \\sum_{i=1}^{6}i * P(dice = i)$\n",
        "\n",
        "<img src=\"dice.jpg\" width=\"100\" height=\"100\">\n",
        "\n",
        "1- For a fair dice,\n",
        "\n",
        "- compute the probability that when roll the dice then 1 apprears (P(dice = 1)), \n",
        "- compute the probability that when roll the dice then 2 apprears (P(dice = 2)), \n",
        "    - .\n",
        "    - .\n",
        "    - .\n",
        "- compute the probability that when roll the dice then 6 apprears (P(dice = 6))\n",
        "\n",
        "2- Compute $E(X)$ of dice from the above steps."
      ],
      "id": "descending-orbit"
    },
    {
      "cell_type": "markdown",
      "metadata": {
        "id": "referenced-excess"
      },
      "source": [
        "### Answer:\n",
        "\n",
        "The expected value for a fair dice is:\n",
        "\n",
        "$E(X) = (1*1/6) + (2*1/6) + (3*1/6)+ (4*1/6) + (5*1/6) + (6*1/6)$\n",
        "\n",
        "$E(X) = 3.5$"
      ],
      "id": "referenced-excess"
    },
    {
      "cell_type": "code",
      "metadata": {
        "id": "headed-michael",
        "outputId": "1ee87937-13ff-4253-ee5a-8966f98d2aaa"
      },
      "source": [
        "# We can show that E(X) is the mean of the following dice random variable\n",
        "import numpy as np\n",
        "# lets roll the dice 1000 times \n",
        "dice = np.random.randint(low=1.0, high=7.0, size=1000)\n",
        "print(dice)\n",
        "# Compute the mean of dice list\n",
        "print(np.mean(dice))\n",
        "print(sum(dice)/len(dice))"
      ],
      "id": "headed-michael",
      "execution_count": null,
      "outputs": [
        {
          "output_type": "stream",
          "text": [
            "[6 4 5 6 5 1 5 1 4 6 2 5 6 2 5 5 5 3 1 6 5 6 2 6 6 1 5 6 5 1 5 1 2 4 4 1 4\n",
            " 2 5 1 5 5 4 6 6 4 2 5 6 6 1 5 3 4 1 2 6 2 2 1 2 1 3 4 4 5 2 6 1 3 1 6 5 4\n",
            " 2 2 6 2 4 3 3 3 5 6 6 6 6 5 5 2 6 6 2 4 4 6 4 4 5 2 2 6 2 1 1 5 6 4 4 2 6\n",
            " 3 6 5 2 3 1 5 1 5 3 1 2 1 6 6 3 6 3 4 3 2 4 4 1 1 6 3 4 5 6 4 4 5 3 1 4 2\n",
            " 2 6 6 2 5 3 5 5 5 4 2 4 3 1 3 1 3 6 6 3 6 1 4 4 4 6 1 1 6 4 4 4 4 2 2 3 4\n",
            " 6 5 1 4 6 2 6 1 3 5 1 2 2 4 2 3 1 5 5 5 4 4 3 1 4 2 4 2 2 3 2 6 1 5 6 3 5\n",
            " 5 6 4 4 5 6 4 6 3 2 5 4 4 4 2 6 3 5 3 6 1 5 4 1 5 5 3 3 3 4 4 3 5 3 2 1 1\n",
            " 2 1 1 2 2 4 6 5 6 4 6 2 4 6 2 3 2 2 6 3 3 2 1 5 2 5 5 2 2 2 6 5 4 1 4 1 4\n",
            " 3 5 4 4 1 6 3 3 3 3 6 1 3 1 2 5 2 4 3 2 3 6 5 4 2 3 5 2 3 4 4 3 5 3 4 3 1\n",
            " 6 1 2 4 5 3 4 2 6 4 6 5 5 1 5 4 1 4 3 3 2 2 1 6 5 6 6 1 4 5 2 1 1 3 1 1 1\n",
            " 2 6 3 6 5 6 2 2 3 3 2 3 6 5 5 1 3 5 3 2 3 4 5 1 5 1 5 4 2 4 1 5 3 6 2 3 6\n",
            " 3 4 6 3 5 2 2 1 2 1 3 4 4 5 6 4 4 2 3 2 2 5 4 5 4 6 5 1 2 6 4 1 5 1 2 3 4\n",
            " 3 5 3 2 6 6 3 3 4 2 3 6 5 2 2 4 4 3 2 4 3 5 3 2 5 3 1 4 3 6 4 4 2 5 2 4 5\n",
            " 6 3 2 2 6 4 6 6 1 4 2 3 1 1 1 3 1 3 1 6 3 1 5 4 4 4 4 1 5 5 2 4 2 5 5 5 5\n",
            " 4 4 6 4 1 4 1 5 2 2 1 1 5 3 4 1 1 1 1 5 3 5 4 5 5 5 3 4 2 4 6 4 3 6 1 1 4\n",
            " 4 1 2 3 6 6 6 2 2 3 2 2 3 2 1 4 5 5 5 3 1 5 5 2 3 5 1 2 2 1 2 6 5 6 4 6 3\n",
            " 6 6 1 4 3 6 1 3 1 3 4 6 1 4 2 2 4 1 2 2 2 3 2 6 4 5 4 4 5 4 5 6 3 3 3 5 1\n",
            " 4 5 4 4 3 1 3 6 1 6 2 6 6 5 1 1 2 1 6 6 1 6 6 1 5 2 3 4 2 4 3 4 1 4 5 6 5\n",
            " 5 5 1 3 4 1 2 3 6 1 1 2 6 5 4 5 5 1 5 5 6 2 4 4 2 5 5 3 6 1 4 5 4 1 5 6 3\n",
            " 1 5 5 3 5 5 3 1 3 6 5 1 6 1 1 3 4 4 6 4 6 2 4 3 3 2 3 1 6 6 2 4 4 5 6 4 4\n",
            " 6 3 5 5 2 1 1 5 2 4 6 5 1 5 5 6 2 5 5 3 2 3 2 6 3 3 5 2 1 4 3 6 4 5 1 4 3\n",
            " 4 4 5 5 3 2 1 5 6 5 3 1 4 1 4 2 6 1 3 4 6 6 6 6 3 6 3 3 3 3 5 6 1 4 1 5 1\n",
            " 4 1 1 3 1 2 3 3 3 5 3 5 6 2 4 2 1 5 6 3 2 6 1 4 1 6 6 6 6 2 4 4 1 5 5 2 4\n",
            " 2 1 2 2 6 5 3 6 5 3 1 4 1 1 3 5 2 2 2 2 4 2 2 1 6 2 2 5 2 5 6 5 5 5 3 6 3\n",
            " 6 3 3 1 1 1 1 4 5 1 6 2 1 5 5 3 2 1 1 1 3 2 1 3 6 4 2 3 2 3 6 3 3 2 2 2 5\n",
            " 1 1 1 3 5 6 6 6 3 4 4 1 4 5 3 1 6 1 1 5 3 1 2 6 3 1 3 3 2 1 5 6 4 2 2 1 5\n",
            " 1 6 6 3 1 6 5 3 4 4 6 1 1 5 6 4 3 2 4 1 3 6 1 4 4 5 2 6 1 3 4 3 4 4 6 4 1\n",
            " 3]\n",
            "3.503\n",
            "3.503\n"
          ],
          "name": "stdout"
        }
      ]
    },
    {
      "cell_type": "markdown",
      "metadata": {
        "id": "dietary-skating"
      },
      "source": [
        "## Activity:  Write a function to compute the mode from an arbitrary list\n",
        "\n",
        "- Hint: The mode is the most commonly occurring value or feature across our data."
      ],
      "id": "dietary-skating"
    },
    {
      "cell_type": "code",
      "metadata": {
        "id": "alternative-daily",
        "outputId": "adc60cad-7bd8-4ee8-e8de-1755ff098be9"
      },
      "source": [
        "data = [1, 3, 5, 2, 3, 7, 8, 4, 10, 0, 6, 7, 3, 0, 3, 0, 5, 7, 10, 1, 4, 9, 3]\n",
        "\n",
        "def compute_mode(dataset):\n",
        "    # Histogram Dictionary\n",
        "    histogram_dic = {}\n",
        "    for i in dataset:\n",
        "        if i not in histogram_dic:\n",
        "            histogram_dic[i] = 1\n",
        "        else:\n",
        "            histogram_dic[i] += 1\n",
        "    return (histogram_dic, max(histogram_dic, key=histogram_dic.get))\n",
        "\n",
        "print(compute_mode(data))"
      ],
      "id": "alternative-daily",
      "execution_count": null,
      "outputs": [
        {
          "output_type": "stream",
          "text": [
            "({1: 2, 3: 5, 5: 2, 2: 1, 7: 3, 8: 1, 4: 2, 10: 2, 0: 3, 6: 1, 9: 1}, 3)\n"
          ],
          "name": "stdout"
        }
      ]
    },
    {
      "cell_type": "markdown",
      "metadata": {
        "id": "blank-assignment"
      },
      "source": [
        "## Activity: Obtain the k largests elements in a given list"
      ],
      "id": "blank-assignment"
    },
    {
      "cell_type": "code",
      "metadata": {
        "id": "manufactured-calculation"
      },
      "source": [
        "def k_largest(ls, k):\n",
        "    for i in range(len(ls)):\n",
        "        temp = []\n",
        "        for j in range(len(ls)):\n",
        "                temp.append(ls[i]<ls[j])\n",
        "        if sum(temp) == k:\n",
        "            return [ls[s] for s in range(len(temp)) if temp[s] == True]"
      ],
      "id": "manufactured-calculation",
      "execution_count": null,
      "outputs": []
    },
    {
      "cell_type": "code",
      "metadata": {
        "id": "lesser-board",
        "outputId": "1ffe7232-3f86-4cda-f6fb-8f3c5a32dba3"
      },
      "source": [
        "print(k_largest([5, 1, 3, 6, 8, 2, 4, 7], 3))"
      ],
      "id": "lesser-board",
      "execution_count": null,
      "outputs": [
        {
          "output_type": "stream",
          "text": [
            "[6, 8, 7]\n"
          ],
          "name": "stdout"
        }
      ]
    },
    {
      "cell_type": "markdown",
      "metadata": {
        "id": "blind-murray"
      },
      "source": [
        "## Activity: Given two arrays, determine if both arrays contain exactly the same elements with the same repetition\n",
        " \n",
        "- Input [1,2,5,4,0] and [4,2,5,0,1] -> Yes\n",
        "- Input [1,7,1] and [7,7,1] -> No\n"
      ],
      "id": "blind-murray"
    },
    {
      "cell_type": "code",
      "metadata": {
        "id": "russian-orange",
        "outputId": "c5cd6383-3d05-4c08-f9a9-cce1e7a1ecc0"
      },
      "source": [
        "def histogram(ls):\n",
        "    dictionary = {}\n",
        "    for i in ls:\n",
        "        if i not in dictionary:\n",
        "            dictionary[i] = 1\n",
        "        else:\n",
        "            dictionary[i] += 1\n",
        "    return dictionary\n",
        "\n",
        "print(histogram([3, 8, 4, 8]))"
      ],
      "id": "russian-orange",
      "execution_count": null,
      "outputs": [
        {
          "output_type": "stream",
          "text": [
            "{3: 1, 8: 2, 4: 1}\n"
          ],
          "name": "stdout"
        }
      ]
    },
    {
      "cell_type": "code",
      "metadata": {
        "id": "vertical-passenger"
      },
      "source": [
        "def same_lists(ls1,ls2):\n",
        "    c1 = 0\n",
        "    c2 = 0\n",
        "    for key in histogram(ls1).keys():\n",
        "        if key in histogram(ls2).keys():\n",
        "            c1 += 1\n",
        "    for value in histogram(ls1).values():\n",
        "        if value in histogram(ls1).values():\n",
        "            c2 += 1\n",
        "    return c1 == c2 == len(ls1) == len(ls2)"
      ],
      "id": "vertical-passenger",
      "execution_count": null,
      "outputs": []
    },
    {
      "cell_type": "code",
      "metadata": {
        "id": "potential-nepal",
        "outputId": "444c5ec1-a6ca-4711-943e-efe229c47878"
      },
      "source": [
        "print(same_lists([1,2,5,4,0], [4,2,5,0,1]))"
      ],
      "id": "potential-nepal",
      "execution_count": null,
      "outputs": [
        {
          "output_type": "stream",
          "text": [
            "True\n"
          ],
          "name": "stdout"
        }
      ]
    },
    {
      "cell_type": "code",
      "metadata": {
        "id": "suitable-bottle",
        "outputId": "14626644-356f-480a-b45c-08d71299c2c6"
      },
      "source": [
        "print(same_lists([1,7,1], [7,7,1]))"
      ],
      "id": "suitable-bottle",
      "execution_count": null,
      "outputs": [
        {
          "output_type": "stream",
          "text": [
            "False\n"
          ],
          "name": "stdout"
        }
      ]
    },
    {
      "cell_type": "markdown",
      "metadata": {
        "id": "ready-inclusion"
      },
      "source": [
        "## Activity: Reverse the elements of a list"
      ],
      "id": "ready-inclusion"
    },
    {
      "cell_type": "code",
      "metadata": {
        "id": "metric-moderator"
      },
      "source": [
        "def reverse_f(ls):\n",
        "    N = len(ls)\n",
        "    reverse_ls = []\n",
        "    for i in range(N):\n",
        "        reverse_ls.append(ls[N - (i+1)])\n",
        "    return reverse_ls"
      ],
      "id": "metric-moderator",
      "execution_count": null,
      "outputs": []
    },
    {
      "cell_type": "code",
      "metadata": {
        "id": "difficult-perspective",
        "outputId": "3d80c0c0-4812-4859-877c-4c3f13693db0"
      },
      "source": [
        "print(reverse_f([1, 2, 3, 4, 5, 6, 7, 8, 9, 10]))"
      ],
      "id": "difficult-perspective",
      "execution_count": null,
      "outputs": [
        {
          "output_type": "stream",
          "text": [
            "[10, 9, 8, 7, 6, 5, 4, 3, 2, 1]\n"
          ],
          "name": "stdout"
        }
      ]
    },
    {
      "cell_type": "code",
      "metadata": {
        "id": "meaningful-damage",
        "outputId": "92787b42-6eaf-4acb-9e08-2ed2b9a3c9f2"
      },
      "source": [
        "## easier way for above task\n",
        "ls = [1, 2, 3, 4, 5, 6, 7, 8, 9, 10]\n",
        "print(ls[::-1])"
      ],
      "id": "meaningful-damage",
      "execution_count": null,
      "outputs": [
        {
          "output_type": "stream",
          "text": [
            "[10, 9, 8, 7, 6, 5, 4, 3, 2, 1]\n"
          ],
          "name": "stdout"
        }
      ]
    },
    {
      "cell_type": "markdown",
      "metadata": {
        "id": "alternate-trust"
      },
      "source": [
        "## Activity: Find pairs in a list such that their sum is equal to a given number"
      ],
      "id": "alternate-trust"
    },
    {
      "cell_type": "code",
      "metadata": {
        "id": "guided-kuwait",
        "outputId": "675f2a55-27c0-4b63-8fe7-d65215e676d4"
      },
      "source": [
        "def find_sum_pairs(S, lst):\n",
        "    l = []\n",
        "    for i in range(len(lst)):\n",
        "        for j in range(i+1, len(lst)):\n",
        "            if lst[i]+lst[j] == S:\n",
        "                l.append([lst[i], lst[j]])\n",
        "    return l\n",
        "  \n",
        "print(find_sum_pairs(7, [3, 5, 2, -4, 8, 11]))"
      ],
      "id": "guided-kuwait",
      "execution_count": null,
      "outputs": [
        {
          "output_type": "stream",
          "text": [
            "[[5, 2], [-4, 11]]\n"
          ],
          "name": "stdout"
        }
      ]
    },
    {
      "cell_type": "markdown",
      "metadata": {
        "id": "concrete-pastor"
      },
      "source": [
        "## Amazon interview Question:\n",
        "\n",
        "- We know the entering time and exit time of patients in a medical center. \n",
        "- What is the maximum number of patients present in that medical center?\n",
        "- As an example, consider the following lists as entering time and exit time for 4 patients:\n",
        "\n",
        "    - `entering_time = [1, 3, 2, 5]`\n",
        "\n",
        "    - `exit_time = [4, 5, 7, 10]`\n",
        "\n",
        "- These two lists are ordered based on patients\n",
        "- Hint: For simplicity, define 1 hour as the time interval"
      ],
      "id": "concrete-pastor"
    },
    {
      "cell_type": "code",
      "metadata": {
        "id": "first-hacker",
        "outputId": "035e0fd8-70f8-421e-9fe0-cd6fc548c471"
      },
      "source": [
        "def find_max_num_patient(start, end):\n",
        "    time_interval = 1 \n",
        "    ls = []\n",
        "    for time in range(min(start), max(end) + 1, time_interval):\n",
        "        counter = 0\n",
        "        for i,j in zip(start, end):\n",
        "            if time in range(i, j + 1, time_interval):\n",
        "                counter += 1\n",
        "        ls.append(counter)\n",
        "    return ls, max(ls), len(ls)\n",
        "\n",
        "print(find_max_num_patient([1, 3, 2, 5], [4, 5, 7, 10]))"
      ],
      "id": "first-hacker",
      "execution_count": null,
      "outputs": [
        {
          "output_type": "stream",
          "text": [
            "([1, 2, 3, 3, 3, 2, 2, 1, 1, 1], 3, 10)\n"
          ],
          "name": "stdout"
        }
      ]
    },
    {
      "cell_type": "markdown",
      "metadata": {
        "id": "nonprofit-sigma"
      },
      "source": [
        "## Activity: For a given list and number of partition (n), partition (divide) list to n parts"
      ],
      "id": "nonprofit-sigma"
    },
    {
      "cell_type": "code",
      "metadata": {
        "id": "cathedral-maple",
        "outputId": "513a4aa7-9fca-4414-fb7d-ec427a091c5e"
      },
      "source": [
        "def partion_ls(ls, n_part):\n",
        "    c = len(ls)//n_part\n",
        "    return [ls[i:i+c] for i in range(0, len(ls), c)]\n",
        "\n",
        "L = [1, 2, 3, 4, 5, 6, 7, 8, 9, 10]\n",
        "print(partion_ls(L, 2))"
      ],
      "id": "cathedral-maple",
      "execution_count": null,
      "outputs": [
        {
          "output_type": "stream",
          "text": [
            "[[1, 2, 3, 4, 5], [6, 7, 8, 9, 10]]\n"
          ],
          "name": "stdout"
        }
      ]
    },
    {
      "cell_type": "markdown",
      "metadata": {
        "id": "outer-commons"
      },
      "source": [
        "## Activity: A matrix is given and a threshold is given\n",
        "\n",
        "- Write a function that returns the row index and column index of an element if element > threshold\n",
        "- Ignore the diagonal element in the matrix. As an example for the below matrix and threshold 0.5:"
      ],
      "id": "outer-commons"
    },
    {
      "cell_type": "code",
      "metadata": {
        "id": "religious-cooking"
      },
      "source": [
        "matx = [[1.   , 0.273, 0.195, 0.89 , 0.216, 0.134, 0.064, 0.944, 0.235],\n",
        "       [0.273, 1.   , 0.236, 0.273, 0.143, 0.321, 0.084, 0.29 , 0.309],\n",
        "       [0.195, 0.236, 1.   , 0.195, 0.97 , 0.14 , 0.133, 0.206, 0.123],\n",
        "       [0.89 , 0.273, 0.195, 1.   , 0.272, 0.134, 0.064, 0.828, 0.235],\n",
        "       [0.216, 0.143, 0.97 , 0.272, 1.   , 0.137, 0.13 , 0.229, 0.06 ],\n",
        "       [0.134, 0.321, 0.14 , 0.134, 0.137, 1.   , 0.373, 0.142, 0.   ],\n",
        "       [0.064, 0.084, 0.133, 0.064, 0.13 , 0.373, 1.   , 0.067, 0.305],\n",
        "       [0.944, 0.29 , 0.206, 0.828, 0.229, 0.142, 0.067, 1.   , 0.249],\n",
        "       [0.235, 0.309, 0.123, 0.235, 0.06 , 0.   , 0.305, 0.249, 1.   ]]"
      ],
      "id": "religious-cooking",
      "execution_count": null,
      "outputs": []
    },
    {
      "cell_type": "code",
      "metadata": {
        "id": "distributed-emission"
      },
      "source": [
        "def index_cosine_matrix(cosine_matrix):\n",
        "    for index_row, row in enumerate(cosine_matrix):\n",
        "        for index_element, element in enumerate(row):\n",
        "            if (element > 0.5) and (index_element != index_row):\n",
        "                print((element, index_row, index_element)) "
      ],
      "id": "distributed-emission",
      "execution_count": null,
      "outputs": []
    },
    {
      "cell_type": "code",
      "metadata": {
        "id": "hired-nickel",
        "outputId": "c6e9edee-f002-4fcb-cc82-0c1cdbeece83"
      },
      "source": [
        "index_cosine_matrix(matx)"
      ],
      "id": "hired-nickel",
      "execution_count": null,
      "outputs": [
        {
          "output_type": "stream",
          "text": [
            "(0.89, 0, 3)\n",
            "(0.944, 0, 7)\n",
            "(0.97, 2, 4)\n",
            "(0.89, 3, 0)\n",
            "(0.828, 3, 7)\n",
            "(0.97, 4, 2)\n",
            "(0.944, 7, 0)\n",
            "(0.828, 7, 3)\n"
          ],
          "name": "stdout"
        }
      ]
    },
    {
      "cell_type": "markdown",
      "metadata": {
        "id": "featured-utilization"
      },
      "source": [
        "## Activity: Write Custom Function to Compute Histogram distribution for a Numerical Array\n",
        "\n",
        "- You can use numpy\n",
        "- Your function takes two arguments: 1- list 2- number of bins\n",
        "- Your function would return a dictionary with $i$th-interval (as keys) and how many of elements in list are in the $i$th-interval (as values)\n",
        "- Sudo code for Histogram:\n",
        "    - Obtain the minimum element of the list\n",
        "    - Obtain the maximum element of the list\n",
        "    - Obtain the interval length\n",
        "    - Count how many elements in the list is in first interval, how many elements in the list is in the second interval, ..."
      ],
      "id": "featured-utilization"
    },
    {
      "cell_type": "code",
      "metadata": {
        "id": "surprising-kitchen"
      },
      "source": [
        "import pandas as pd\n",
        "import numpy as np\n",
        "\n",
        "df = pd.read_csv('titanic.csv')"
      ],
      "id": "surprising-kitchen",
      "execution_count": null,
      "outputs": []
    },
    {
      "cell_type": "code",
      "metadata": {
        "id": "annoying-while",
        "outputId": "16948ba5-8460-44a1-935b-3e8d7d5f0e59"
      },
      "source": [
        "# histogram distribution function\n",
        "def custom_histogram_distribution(ls, number_of_bins):\n",
        "    hist_ls_dict = dict()\n",
        "    min_ls = np.min(ls)\n",
        "    max_ls = np.max(ls)\n",
        "    # interval length\n",
        "    I = (max_ls - min_ls) / number_of_bins\n",
        "    for i_interval in range(number_of_bins):\n",
        "        hist_ls_dict[i_interval]= np.sum(((min_ls + i_interval*I) <=ls) & (ls <= (min_ls + (i_interval+1) *I)))      \n",
        "    return hist_ls_dict\n",
        "        \n",
        "print(custom_histogram_distribution(df['Age'].dropna().values, 16))"
      ],
      "id": "annoying-while",
      "execution_count": null,
      "outputs": [
        {
          "output_type": "stream",
          "text": [
            "{0: 44, 1: 20, 2: 19, 3: 96, 4: 122, 5: 108, 6: 88, 7: 67, 8: 47, 9: 39, 10: 24, 11: 18, 12: 14, 13: 3, 14: 4, 15: 1}\n"
          ],
          "name": "stdout"
        }
      ]
    },
    {
      "cell_type": "code",
      "metadata": {
        "id": "endangered-hampton",
        "outputId": "71df8309-9d1e-43e3-d9a9-9dece87c26c8"
      },
      "source": [
        "print(custom_histogram_distribution(df['Age'].dropna().values, 5))"
      ],
      "id": "endangered-hampton",
      "execution_count": null,
      "outputs": [
        {
          "output_type": "stream",
          "text": [
            "{0: 100, 1: 346, 2: 188, 3: 69, 4: 11}\n"
          ],
          "name": "stdout"
        }
      ]
    },
    {
      "cell_type": "code",
      "metadata": {
        "id": "discrete-authorization",
        "outputId": "e54eddbb-4d1b-48b1-bf07-4e84f497654c"
      },
      "source": [
        "import matplotlib.pyplot as plt\n",
        "\n",
        "hist_dict = custom_histogram_distribution(df['Age'].dropna().values, 16)\n",
        "plt.bar(hist_dict.keys(), hist_dict.values())"
      ],
      "id": "discrete-authorization",
      "execution_count": null,
      "outputs": [
        {
          "output_type": "execute_result",
          "data": {
            "text/plain": [
              "<BarContainer object of 16 artists>"
            ]
          },
          "metadata": {
            "tags": []
          },
          "execution_count": 86
        },
        {
          "output_type": "display_data",
          "data": {
            "image/png": "[encoded data removed]",
            "text/plain": [
              "<Figure size 432x288 with 1 Axes>"
            ]
          },
          "metadata": {
            "tags": []
          }
        }
      ]
    },
    {
      "cell_type": "code",
      "metadata": {
        "id": "owned-sleep",
        "outputId": "25747f50-7207-4741-923d-421fc878022c"
      },
      "source": [
        "import matplotlib.pyplot as plt\n",
        "\n",
        "hist_dict = custom_histogram_distribution(df['Age'].dropna().values, 5)\n",
        "plt.bar(hist_dict.keys(), hist_dict.values())"
      ],
      "id": "owned-sleep",
      "execution_count": null,
      "outputs": [
        {
          "output_type": "execute_result",
          "data": {
            "text/plain": [
              "<BarContainer object of 5 artists>"
            ]
          },
          "metadata": {
            "tags": []
          },
          "execution_count": 87
        },
        {
          "output_type": "display_data",
          "data": {
            "image/png": "[encoded data removed]",
            "text/plain": [
              "<Figure size 432x288 with 1 Axes>"
            ]
          },
          "metadata": {
            "tags": []
          }
        }
      ]
    },
    {
      "cell_type": "code",
      "metadata": {
        "id": "empirical-debate"
      },
      "source": [
        ""
      ],
      "id": "empirical-debate",
      "execution_count": null,
      "outputs": []
    }
  ]
}