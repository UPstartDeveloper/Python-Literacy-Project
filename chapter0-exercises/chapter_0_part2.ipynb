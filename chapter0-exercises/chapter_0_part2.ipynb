{
 "cells": [
  {
   "cell_type": "markdown",
   "id": "painted-boutique",
   "metadata": {},
   "source": [
    "## Activity: We have a coin. The probability of getting Head is P(H) = a and probability of getting Tail is P(T) = 1 - a.\n",
    "\n",
    "- We toss this coin three times. What is the probability that we get two heads?\n",
    "\n",
    "- Calculate this probability by hand\n",
    "\n",
    "- Write a code that shows you are correct. Your function should take two input arguments: \n",
    "    - Given probability of Head \n",
    "    - Given number of trials\n",
    "    \n",
    "- For the coding part, we examine the coin flip for 1000 trials, each trial is tossing the coin 3 times.\n",
    "    - Then only count (C) if the result for each trial be HHT or HTH or THH. Therefore, C/1000 is the answer\n",
    "\n",
    "- Hint: For code part, we can generate events with given probability as follows:"
   ]
  },
  {
   "cell_type": "code",
   "execution_count": 1,
   "id": "english-federation",
   "metadata": {},
   "outputs": [
    {
     "name": "stdout",
     "output_type": "stream",
     "text": [
      "['H']\n",
      "['H']\n",
      "['T']\n",
      "['T']\n",
      "['T']\n",
      "['T']\n",
      "['H']\n",
      "['T']\n",
      "['T']\n",
      "['T']\n"
     ]
    }
   ],
   "source": [
    "from random import choices\n",
    "\n",
    "event = ['H', 'T']\n",
    "weights = [0.3, 0.7]\n",
    "for _ in range(10):\n",
    "    print(choices(event, weights))"
   ]
  },
  {
   "cell_type": "code",
   "execution_count": 4,
   "id": "academic-bankruptcy",
   "metadata": {},
   "outputs": [
    {
     "name": "stdout",
     "output_type": "stream",
     "text": [
      "0.4331\n",
      "0.43200000000000005\n"
     ]
    }
   ],
   "source": [
    "def compute_proba(probability_head, trial):\n",
    "    event = ['H', 'T']\n",
    "    weights = [probability_head, 1 - probability_head]\n",
    "    C = 0\n",
    "    for _ in range(trial):\n",
    "        rv = [choices(event, weights)[0], choices(event, weights)[0], choices(event, weights)[0]]\n",
    "        if rv in [['H', 'H', 'T'], ['H', 'T', 'H'], ['T', 'H', 'H']]:\n",
    "            C += 1\n",
    "    return C/trial\n",
    "\n",
    "N = 10000\n",
    "a = 0.6    \n",
    "print(compute_proba(a, N))\n",
    "print(3*(a**2)*(1-a))"
   ]
  },
  {
   "cell_type": "markdown",
   "id": "global-butler",
   "metadata": {},
   "source": [
    "## Activity: Remove duplicates from a given list\n",
    "\n",
    "- We can implement this in at least 5 different ways"
   ]
  },
  {
   "cell_type": "code",
   "execution_count": 95,
   "id": "answering-smooth",
   "metadata": {},
   "outputs": [],
   "source": [
    "l = [2, 3, 2, 4, 1, 2]"
   ]
  },
  {
   "cell_type": "code",
   "execution_count": 96,
   "id": "brilliant-exploration",
   "metadata": {},
   "outputs": [
    {
     "name": "stdout",
     "output_type": "stream",
     "text": [
      "{1, 2, 3, 4}\n"
     ]
    }
   ],
   "source": [
    "# Solution 1:\n",
    "def remove_deplicate_set(ls):\n",
    "    return set(ls)\n",
    "\n",
    "print(remove_deplicate_set(l))"
   ]
  },
  {
   "cell_type": "code",
   "execution_count": 97,
   "id": "nutritional-pixel",
   "metadata": {},
   "outputs": [
    {
     "name": "stdout",
     "output_type": "stream",
     "text": [
      "[2, 3, 4, 1]\n"
     ]
    }
   ],
   "source": [
    "# Solution 2:\n",
    "def remove_duplicate(ls):\n",
    "    lst = []\n",
    "    for i in ls:\n",
    "        if i not in lst:\n",
    "            lst.append(i)\n",
    "    return lst\n",
    "\n",
    "print(remove_duplicate(l))"
   ]
  },
  {
   "cell_type": "code",
   "execution_count": 98,
   "id": "textile-invitation",
   "metadata": {},
   "outputs": [
    {
     "name": "stdout",
     "output_type": "stream",
     "text": [
      "[3, 4, 1, 2]\n"
     ]
    }
   ],
   "source": [
    "# Solution 3:\n",
    "def remove_duplicate_comprehension(ls):\n",
    "    # because in the body of the function, we are changing the values of the ls\n",
    "    # let's have a copy of it, then the input list (ls) would be unchanges after using this function\n",
    "    ls = ls.copy()\n",
    "    for i in range(len(ls)):\n",
    "        if ls[i] in ls[i+1:]:\n",
    "            ls[i] = 0  \n",
    "    return [i for i in ls if i != 0]\n",
    "\n",
    "print(remove_duplicate_comprehension(l))"
   ]
  },
  {
   "cell_type": "code",
   "execution_count": 99,
   "id": "tribal-choir",
   "metadata": {},
   "outputs": [
    {
     "name": "stdout",
     "output_type": "stream",
     "text": [
      "[3, 4, 1, 2]\n"
     ]
    }
   ],
   "source": [
    "# Solution 4\n",
    "def remove_duplicate_efficient(ls):\n",
    "    # because in the body of the function, we are changing the values of the ls\n",
    "    # let's have a copy of it, then the input list (ls) would be unchanges after using this function\n",
    "    ls = ls.copy()\n",
    "    m = len(ls)\n",
    "    s = 0\n",
    "    i = 0\n",
    "    while s != m:\n",
    "        s += 1\n",
    "        if ls[i] in ls[i+1:]:\n",
    "            del ls[i]\n",
    "        else:\n",
    "            i += 1\n",
    "    return ls\n",
    "\n",
    "print(remove_duplicate_efficient(l))"
   ]
  },
  {
   "cell_type": "code",
   "execution_count": 100,
   "id": "dangerous-wallpaper",
   "metadata": {},
   "outputs": [
    {
     "name": "stdout",
     "output_type": "stream",
     "text": [
      "{1, 2, 3, 4}\n"
     ]
    }
   ],
   "source": [
    "# Solution 5:\n",
    "from functools import reduce\n",
    "\n",
    "def remove_duplicate_map_reduce(ls):\n",
    "    map_ls_to_set = map(lambda x:{x}, ls)\n",
    "    return reduce(lambda x, y: x.union(y), map_ls_to_set)\n",
    "\n",
    "print(remove_duplicate_map_reduce([2, 3, 2, 4, 1, 2]))"
   ]
  },
  {
   "cell_type": "markdown",
   "id": "billion-property",
   "metadata": {},
   "source": [
    "## Activity: Combine dictionaries\n",
    "- d1 = {'a':10, 'b':20, 'c':30}\n",
    "- d2 = {'b': 40, 'd':50}\n",
    "- return d = {'a': 10, 'b': [20, 40], 'c': 50, 'd': 50}"
   ]
  },
  {
   "cell_type": "code",
   "execution_count": 163,
   "id": "sized-congo",
   "metadata": {},
   "outputs": [
    {
     "name": "stdout",
     "output_type": "stream",
     "text": [
      "{'a': 10, 'b': [20, 40], 'c': 30, 'd': 50}\n"
     ]
    }
   ],
   "source": [
    "def combine_dicts(d1, d2):\n",
    "    d = d1.copy()\n",
    "    for key_d2,value_d2 in d2.items():\n",
    "        if key_d2 in d:\n",
    "            ls = d[key_d2]\n",
    "            d[key_d2] = [ls, value_d2]\n",
    "        else:\n",
    "            d[key_d2] = value_d2\n",
    "    return d\n",
    "\n",
    "d1 = {'a':10, 'b':20, 'c':30}\n",
    "d2 = {'b': 40, 'd':50}\n",
    "print(combine_dicts(d1, d2))"
   ]
  },
  {
   "cell_type": "markdown",
   "id": "equal-shock",
   "metadata": {},
   "source": [
    "## Activity: Flatten the given matrix"
   ]
  },
  {
   "cell_type": "code",
   "execution_count": 120,
   "id": "soviet-accused",
   "metadata": {},
   "outputs": [
    {
     "name": "stdout",
     "output_type": "stream",
     "text": [
      "[8, 2, 3, 9, 1, 9, 5, 4, 1]\n"
     ]
    }
   ],
   "source": [
    "matrix = [[8, 2, 3], [9, 1, 9], [5, 4, 1]]\n",
    "\n",
    "def flatten(matx):\n",
    "    ls = []\n",
    "    for row in matrix:\n",
    "        for element in row:\n",
    "            ls.append(element)\n",
    "    return ls\n",
    "\n",
    "print(flatten(matrix))"
   ]
  },
  {
   "cell_type": "markdown",
   "id": "radio-pencil",
   "metadata": {},
   "source": [
    "## Activity: Obtain the trace of a given squared matrix"
   ]
  },
  {
   "cell_type": "code",
   "execution_count": 121,
   "id": "violent-tactics",
   "metadata": {},
   "outputs": [
    {
     "name": "stdout",
     "output_type": "stream",
     "text": [
      "10\n"
     ]
    }
   ],
   "source": [
    "def trace(matx):\n",
    "    c = 0\n",
    "    for index_row, row in enumerate(matrix):\n",
    "        c += matrix[index_row][index_row]\n",
    "    return c\n",
    "\n",
    "print(trace(matrix))   "
   ]
  },
  {
   "cell_type": "markdown",
   "id": "thick-demonstration",
   "metadata": {},
   "source": [
    "## Activity: Obtain the transpose of a given matrix"
   ]
  },
  {
   "cell_type": "code",
   "execution_count": 122,
   "id": "musical-industry",
   "metadata": {},
   "outputs": [
    {
     "name": "stdout",
     "output_type": "stream",
     "text": [
      "[[8, 9, 5], [2, 1, 4], [3, 9, 1]]\n"
     ]
    }
   ],
   "source": [
    "def transpose(matx):\n",
    "    t_m = [[] for _ in range(len(matx[0]))]\n",
    "    # Do not use this: t_m = [[]]*len(matx[0])\n",
    "    for i in range(len(matx[0])):\n",
    "        for row in matrix:\n",
    "            t_m[i].append(row[i])\n",
    "    return t_m\n",
    "\n",
    "print(transpose(matrix))"
   ]
  },
  {
   "cell_type": "markdown",
   "id": "surgical-rubber",
   "metadata": {},
   "source": [
    "## Activity:\n",
    "\n",
    "- The following list of tuples are given, create a dictionary while keys would be the section a person works and values would be list of persons in that section"
   ]
  },
  {
   "cell_type": "code",
   "execution_count": 125,
   "id": "lesbian-medicaid",
   "metadata": {},
   "outputs": [
    {
     "name": "stdout",
     "output_type": "stream",
     "text": [
      "{'Sales': ['John Doe', 'Martin Smith'], 'Accounting': ['Jane Doe'], 'Marketing': ['Elizabeth Smith', 'Elizabeth Smith', 'Adam Doe', 'Adam Doe', 'Adam Doe']}\n"
     ]
    }
   ],
   "source": [
    "dep = [('Sales', 'John Doe'),\n",
    "       ('Sales', 'Martin Smith'),\n",
    "       ('Accounting', 'Jane Doe'),\n",
    "       ('Marketing', 'Elizabeth Smith'),\n",
    "       ('Marketing', 'Elizabeth Smith'),\n",
    "       ('Marketing', 'Adam Doe'),\n",
    "       ('Marketing', 'Adam Doe'),\n",
    "       ('Marketing', 'Adam Doe')]\n",
    "\n",
    "d = {}\n",
    "for department, employee in dep:\n",
    "    if department in d:\n",
    "        # define temporary variable ls as list\n",
    "        ls = d[department]\n",
    "        ls.append(employee)\n",
    "        d[department] = ls\n",
    "    else:\n",
    "        d[department] = [employee]\n",
    "        \n",
    "print(d)"
   ]
  },
  {
   "cell_type": "code",
   "execution_count": 126,
   "id": "stuck-mercury",
   "metadata": {},
   "outputs": [
    {
     "name": "stdout",
     "output_type": "stream",
     "text": [
      "defaultdict(<class 'list'>, {'Sales': ['John Doe', 'Martin Smith'], 'Accounting': ['Jane Doe'], 'Marketing': ['Elizabeth Smith', 'Elizabeth Smith', 'Adam Doe', 'Adam Doe', 'Adam Doe']})\n"
     ]
    }
   ],
   "source": [
    "## Better way:\n",
    "from collections import defaultdict\n",
    "\n",
    "dep = [('Sales', 'John Doe'),\n",
    "       ('Sales', 'Martin Smith'),\n",
    "       ('Accounting', 'Jane Doe'),\n",
    "       ('Marketing', 'Elizabeth Smith'),\n",
    "       ('Marketing', 'Elizabeth Smith'),\n",
    "       ('Marketing', 'Adam Doe'),\n",
    "       ('Marketing', 'Adam Doe'),\n",
    "       ('Marketing', 'Adam Doe')]\n",
    "\n",
    "dep_dd = defaultdict(list)\n",
    "for department, employee in dep:\n",
    "    dep_dd[department].append(employee)\n",
    "print(dep_dd)"
   ]
  },
  {
   "cell_type": "markdown",
   "id": "thirty-configuration",
   "metadata": {},
   "source": [
    "### Use Set as the value (then there would be no duplicated names)"
   ]
  },
  {
   "cell_type": "code",
   "execution_count": 151,
   "id": "operational-buddy",
   "metadata": {},
   "outputs": [
    {
     "name": "stdout",
     "output_type": "stream",
     "text": [
      "{'Sales': {'John Doe', 'Martin Smith'}, 'Accounting': {'Jane Doe'}, 'Marketing': {'Adam Doe', 'Elizabeth Smith'}}\n"
     ]
    }
   ],
   "source": [
    "dep = [('Sales', 'John Doe'),\n",
    "       ('Sales', 'Martin Smith'),\n",
    "       ('Accounting', 'Jane Doe'),\n",
    "       ('Marketing', 'Elizabeth Smith'),\n",
    "       ('Marketing', 'Elizabeth Smith'),\n",
    "       ('Marketing', 'Adam Doe'),\n",
    "       ('Marketing', 'Adam Doe'),\n",
    "       ('Marketing', 'Adam Doe')]\n",
    "\n",
    "d = {}\n",
    "for department, employee in dep:\n",
    "    if department in d:\n",
    "        # define temporary variable set_ as set\n",
    "        set_ = d[department]\n",
    "        set_.add(employee)\n",
    "        d[department] = set_\n",
    "    else:\n",
    "        d[department] = {employee}\n",
    "        \n",
    "print(d)"
   ]
  },
  {
   "cell_type": "markdown",
   "id": "wicked-roberts",
   "metadata": {},
   "source": [
    "### If the values want to be Set instead of list, using defaultdict"
   ]
  },
  {
   "cell_type": "code",
   "execution_count": 152,
   "id": "departmental-timeline",
   "metadata": {},
   "outputs": [
    {
     "name": "stdout",
     "output_type": "stream",
     "text": [
      "defaultdict(<class 'set'>, {'Sales': {'John Doe', 'Martin Smith'}, 'Accounting': {'Jane Doe'}, 'Marketing': {'Adam Doe', 'Elizabeth Smith'}})\n"
     ]
    }
   ],
   "source": [
    "dep = [('Sales', 'John Doe'),\n",
    "       ('Sales', 'Martin Smith'),\n",
    "       ('Accounting', 'Jane Doe'),\n",
    "       ('Marketing', 'Elizabeth Smith'),\n",
    "       ('Marketing', 'Elizabeth Smith'),\n",
    "       ('Marketing', 'Adam Doe'),\n",
    "       ('Marketing', 'Adam Doe'),\n",
    "       ('Marketing', 'Adam Doe')]\n",
    "\n",
    "dep_dd = defaultdict(set)\n",
    "for department, employee in dep:\n",
    "    dep_dd[department].add(employee)\n",
    "print(dep_dd)"
   ]
  },
  {
   "cell_type": "markdown",
   "id": "super-kinase",
   "metadata": {},
   "source": [
    "## Activity: Implement fibonacci sequence for a given number\n",
    "\n",
    "- We can Implement fibonacci in the following ways:\n",
    "    - Recursive\n",
    "    - Using Dictionary\n",
    "    - Using list\n",
    "    - Using generator"
   ]
  },
  {
   "cell_type": "code",
   "execution_count": 130,
   "id": "intimate-bridge",
   "metadata": {},
   "outputs": [
    {
     "name": "stdout",
     "output_type": "stream",
     "text": [
      "6765\n"
     ]
    }
   ],
   "source": [
    "def fib_recursive(n):\n",
    "    if n == 0:\n",
    "        return 0\n",
    "    elif n == 1:\n",
    "        return 1\n",
    "    else:\n",
    "        return fib_recursive(n - 1) + fib_recursive(n - 2)\n",
    "\n",
    "print(fib_recursive(20))"
   ]
  },
  {
   "cell_type": "code",
   "execution_count": 131,
   "id": "figured-despite",
   "metadata": {},
   "outputs": [
    {
     "name": "stdout",
     "output_type": "stream",
     "text": [
      "6765\n"
     ]
    }
   ],
   "source": [
    "def fib_dictionary(n):\n",
    "    dic_fib = {0:0, 1:1}\n",
    "    for i in range(2, n + 1):\n",
    "        dic_fib[i] = dic_fib[i - 1] + dic_fib[i - 2]\n",
    "    return dic_fib[n]\n",
    "\n",
    "print(fib_dictionary(20))"
   ]
  },
  {
   "cell_type": "code",
   "execution_count": 132,
   "id": "smooth-bullet",
   "metadata": {},
   "outputs": [
    {
     "name": "stdout",
     "output_type": "stream",
     "text": [
      "6765\n"
     ]
    }
   ],
   "source": [
    "def fib_ls(n):\n",
    "    y = [0, 1] \n",
    "    for _ in range(2, n + 1):\n",
    "        new_fib_value = sum(y[-2:])\n",
    "        y.append(new_fib_value)\n",
    "    return y[-1] # last element of y\n",
    "\n",
    "print(fib_ls(20))"
   ]
  },
  {
   "cell_type": "code",
   "execution_count": 133,
   "id": "brilliant-cooking",
   "metadata": {},
   "outputs": [
    {
     "name": "stdout",
     "output_type": "stream",
     "text": [
      "0\n",
      "1\n",
      "1\n",
      "2\n",
      "3\n",
      "5\n",
      "8\n",
      "13\n",
      "21\n",
      "34\n",
      "55\n",
      "89\n",
      "144\n",
      "233\n",
      "377\n",
      "610\n",
      "987\n",
      "1597\n",
      "2584\n",
      "4181\n",
      "6765\n"
     ]
    }
   ],
   "source": [
    "def fib_generator(n):\n",
    "    a, b = 0, 1\n",
    "    for _ in range(1, n + 2):\n",
    "        yield a\n",
    "        a, b = b, a + b\n",
    "        \n",
    "for i in fib_generator(20):\n",
    "    print(i)"
   ]
  },
  {
   "cell_type": "markdown",
   "id": "oriental-integral",
   "metadata": {},
   "source": [
    "## Activity: f-string\n",
    "\n",
    "Two lists of names and ages are given. Write down a for loop that print: Hello + {name}, you are {age} year-old"
   ]
  },
  {
   "cell_type": "code",
   "execution_count": 136,
   "id": "impossible-royal",
   "metadata": {},
   "outputs": [
    {
     "name": "stdout",
     "output_type": "stream",
     "text": [
      "Hello Khiem, you are 24 year-old\n",
      "Hello Alex, you are 25 year-old\n",
      "Hello Mike, you are 26 year-old\n"
     ]
    }
   ],
   "source": [
    "names = [\"Khiem\", \"Alex\", \"Mike\"]\n",
    "ages = [24, 25, 26]\n",
    "\n",
    "for name, age in zip(names, ages):\n",
    "    print(f\"Hello {name}, you are {age} year-old\")\n",
    "    # the following is correct too\n",
    "    #print(\"Hello {}, you are {} year-old\".format(name, age))"
   ]
  },
  {
   "cell_type": "markdown",
   "id": "sustainable-brunswick",
   "metadata": {},
   "source": [
    "## Activity: A list of strings is given, a word is given too\n",
    "\n",
    "- Write a Python code that inserts the word between the list elements and combine them as one single string\n",
    "\n",
    "- Example: string1 = ['Milad', 'Amir', 'Toutounchian'] is given, 'Test' is given two. Your code should return MiladTestAmirTestToutounchian"
   ]
  },
  {
   "cell_type": "code",
   "execution_count": 137,
   "id": "hollow-passing",
   "metadata": {},
   "outputs": [],
   "source": [
    "string1 = ['Milad', 'Amir', 'Toutounchian']"
   ]
  },
  {
   "cell_type": "code",
   "execution_count": 138,
   "id": "antique-estonia",
   "metadata": {},
   "outputs": [
    {
     "name": "stdout",
     "output_type": "stream",
     "text": [
      "MiladTestAmirTestToutounchian\n"
     ]
    }
   ],
   "source": [
    "given_word = 'Test'\n",
    "S = ''\n",
    "for n, string in enumerate(string1):\n",
    "    if n != (len(string1) - 1):\n",
    "        S = S + string + given_word\n",
    "    else:\n",
    "        S = S + string\n",
    "\n",
    "print(S)"
   ]
  },
  {
   "cell_type": "code",
   "execution_count": 139,
   "id": "automotive-entrepreneur",
   "metadata": {},
   "outputs": [
    {
     "name": "stdout",
     "output_type": "stream",
     "text": [
      "MiladTestAmirTestToutounchian\n"
     ]
    }
   ],
   "source": [
    "## easier way in Python\n",
    "print(given_word.join(string1))"
   ]
  },
  {
   "cell_type": "markdown",
   "id": "hourly-burst",
   "metadata": {},
   "source": [
    "## Activity:\n",
    "\n",
    "Then combine ages and names lists to create a dictionary while the keys are the names and the values are the corresponding ages"
   ]
  },
  {
   "cell_type": "code",
   "execution_count": 140,
   "id": "lined-reservation",
   "metadata": {},
   "outputs": [
    {
     "name": "stdout",
     "output_type": "stream",
     "text": [
      "{'Jessica': '15', 'Daniel': '27', 'Edward': '67', 'Oscar': '102'}\n"
     ]
    }
   ],
   "source": [
    "ages = ['15', '27', '67', '102']\n",
    "names = ['Jessica', 'Daniel', 'Edward', 'Oscar']\n",
    "d = {}\n",
    "for age,name in zip(ages, names):\n",
    "    d[name] = age\n",
    "print(d)"
   ]
  },
  {
   "cell_type": "markdown",
   "id": "subsequent-blend",
   "metadata": {},
   "source": [
    "## Activity: Given an array of strings, group anagrams together\n",
    "- For example, given the following array:\n",
    "\n",
    "[ 'eat', 'ate', 'apt', 'pat', 'tea', 'now' ] Return:  [ ['eat', 'ate', 'tea'], ['apt', 'pat'], ['now'] ]"
   ]
  },
  {
   "cell_type": "code",
   "execution_count": 147,
   "id": "outdoor-terrain",
   "metadata": {},
   "outputs": [
    {
     "name": "stdout",
     "output_type": "stream",
     "text": [
      "[['eat', 'ate', 'tea'], ['apt', 'pat'], ['now']]\n"
     ]
    }
   ],
   "source": [
    "## O(N^2) solution\n",
    "import itertools\n",
    "\n",
    "def anagram(ls):\n",
    "    return_ls = [[] for _ in range(len(ls))]\n",
    "    for i in range(len(ls)):\n",
    "        for j in range(i, len(ls)):\n",
    "            if set(ls[i]) == set(ls[j]):\n",
    "                if ls[j] not in list(itertools.chain(*return_ls)):\n",
    "                    return_ls[i].append(ls[j])\n",
    "    return [element for element in return_ls if element != []]\n",
    "\n",
    "print(anagram(['eat', 'ate', 'apt', 'pat', 'tea', 'now']))"
   ]
  },
  {
   "cell_type": "code",
   "execution_count": 148,
   "id": "southern-article",
   "metadata": {},
   "outputs": [
    {
     "name": "stdout",
     "output_type": "stream",
     "text": [
      "[['eat', 'ate', 'tea'], ['apt', 'pat'], ['now']]\n"
     ]
    }
   ],
   "source": [
    "# O(N) solution\n",
    "import collections\n",
    "\n",
    "def groupWords(strs):\n",
    "    mp = collections.defaultdict(list)\n",
    "    for w in strs:\n",
    "        key = [0] * 26\n",
    "        for ch in w:\n",
    "            key[ord(ch) - ord('a')] += 1\n",
    "        mp[tuple(key)].append(w)\n",
    "    return list(mp.values())\n",
    "\n",
    "print(groupWords(['eat', 'ate', 'apt', 'pat', 'tea', 'now']))"
   ]
  },
  {
   "cell_type": "markdown",
   "id": "available-northwest",
   "metadata": {},
   "source": [
    "## Activity: Salary increase\n",
    "\n",
    "- A person works in a company. His/her base salary is $115K. The salary increase rate is 3% yearly in the company.\n",
    "- Write a function that returns his/her salary amount during next 10 years.\n",
    "- Input arguments for your function would be `base_salary`, `rate` and `years`"
   ]
  },
  {
   "cell_type": "code",
   "execution_count": 160,
   "id": "suspected-cleaning",
   "metadata": {},
   "outputs": [
    {
     "name": "stdout",
     "output_type": "stream",
     "text": [
      "[118.45, 122.0, 125.66, 129.43, 133.32, 137.32, 141.44, 145.68, 150.05, 154.55]\n"
     ]
    }
   ],
   "source": [
    "def salary_increase(base_salary, rate, years):\n",
    "    S = base_salary\n",
    "    salary_ls = []\n",
    "    for i in range(years):\n",
    "        S = (1 + rate)*S\n",
    "        salary_ls.append(round(S, 2))\n",
    "    return salary_ls\n",
    "\n",
    "print(salary_increase(115, 0.03, 10))"
   ]
  },
  {
   "cell_type": "markdown",
   "id": "cognitive-toolbox",
   "metadata": {},
   "source": [
    "## Activity: Compound function\n",
    "\n",
    "- For a given function (f), starting point (a0) and number of iteration (m), write a function that calculates f(a0), f(f(a0)), ..., f(f(f(...f(a0)))))"
   ]
  },
  {
   "cell_type": "code",
   "execution_count": 204,
   "id": "rubber-terry",
   "metadata": {},
   "outputs": [
    {
     "name": "stdout",
     "output_type": "stream",
     "text": [
      "[1.5, 1.41666667, 1.41421569, 1.41421356]\n"
     ]
    }
   ],
   "source": [
    "f= lambda x: (x+n/x)/2\n",
    "n = 2\n",
    "a0 = 1.0\n",
    "m = 4\n",
    "# This implementation is not good as it is hard-coded\n",
    "print([round(x, 8) for x in (f(a0), f(f(a0)), f(f(f(a0))), f(f(f(f(a0)))))])"
   ]
  },
  {
   "cell_type": "code",
   "execution_count": 205,
   "id": "informational-cuisine",
   "metadata": {},
   "outputs": [
    {
     "name": "stdout",
     "output_type": "stream",
     "text": [
      "1.5\n",
      "1.41666667\n",
      "1.41421569\n",
      "1.41421356\n"
     ]
    }
   ],
   "source": [
    "def repeat(f, a, m):\n",
    "    for _ in range(m):\n",
    "        a = f(a)  \n",
    "        yield a\n",
    "    \n",
    "for i in repeat(f, 1, 4):\n",
    "    print(round(i, 8))"
   ]
  },
  {
   "cell_type": "markdown",
   "id": "close-trinity",
   "metadata": {},
   "source": [
    "### Note: the above compound iteration will converge to $\\sqrt{n}$ "
   ]
  },
  {
   "cell_type": "code",
   "execution_count": 203,
   "id": "freelance-skiing",
   "metadata": {},
   "outputs": [
    {
     "data": {
      "text/plain": [
       "1.4142135623730951"
      ]
     },
     "execution_count": 203,
     "metadata": {},
     "output_type": "execute_result"
    }
   ],
   "source": [
    "# Note: the above coumpound iteration will converge to np.sqrt(n) \n",
    "import numpy as np\n",
    "np.sqrt(n)"
   ]
  }
 ],
 "metadata": {
  "kernelspec": {
   "display_name": "Python 3",
   "language": "python",
   "name": "python3"
  },
  "language_info": {
   "codemirror_mode": {
    "name": "ipython",
    "version": 3
   },
   "file_extension": ".py",
   "mimetype": "text/x-python",
   "name": "python",
   "nbconvert_exporter": "python",
   "pygments_lexer": "ipython3",
   "version": "3.6.5"
  }
 },
 "nbformat": 4,
 "nbformat_minor": 5
}
