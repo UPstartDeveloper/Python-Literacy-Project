{
  "nbformat": 4,
  "nbformat_minor": 5,
  "metadata": {
    "kernelspec": {
      "display_name": "Python 3",
      "language": "python",
      "name": "python3"
    },
    "language_info": {
      "codemirror_mode": {
        "name": "ipython",
        "version": 3
      },
      "file_extension": ".py",
      "mimetype": "text/x-python",
      "name": "python",
      "nbconvert_exporter": "python",
      "pygments_lexer": "ipython3",
      "version": "3.6.5"
    },
    "colab": {
      "name": "chapter_0_part2.ipynb",
      "provenance": [],
      "collapsed_sections": [
        "close-trinity"
      ],
      "toc_visible": true,
      "include_colab_link": true
    }
  },
  "cells": [
    {
      "cell_type": "markdown",
      "metadata": {
        "id": "view-in-github",
        "colab_type": "text"
      },
      "source": [
        "<a href=\"https://colab.research.google.com/github/UPstartDeveloper/Python-Literacy-Project/blob/main/chapter0-exercises/chapter_0_part2.ipynb\" target=\"_parent\"><img src=\"https://colab.research.google.com/assets/colab-badge.svg\" alt=\"Open In Colab\"/></a>"
      ]
    },
    {
      "cell_type": "markdown",
      "metadata": {
        "id": "painted-boutique"
      },
      "source": [
        "## Activity 17: Modelling a Fair Coin\n",
        "\n",
        "Let's say your friend gives you a fair coin. \n",
        "\n",
        "Let $P(H)$ = a, the probability of getting heads when you flip the coin. Of course, this also makes the probability of getting tails, $P(T)$, equal to 1 - a.\n",
        "\n",
        "Now, say we toss this coin three times. What is the probability that we get heads on two out of the three flips?\n",
        "\n",
        "Calculate this value by hand, and then please write Python code to verify your answer on 1,000 coin flips (hint: use the `random` module)!\n",
        "\n"
      ],
      "id": "painted-boutique"
    },
    {
      "cell_type": "markdown",
      "metadata": {
        "id": "GEgcbkprcQnM"
      },
      "source": [
        "### The Mathematical Solution\n",
        "\n",
        "Let's start by breaking down the probabilities of 1 coin flip. As you may already know, this only has 2 outcomes, each of which are equally likely: heads or tails.\n",
        "\n",
        "To give a visual, observe the following diagram which shows the possible outcomes for 1 random coin toss:\n",
        "\n",
        "<img src=\"https://i.postimg.cc/FznFdxdm/Screen-Shot-2021-05-31-at-3-59-29-PM.png\" alt=\"1 random coin toss\" height=\"225px\" width=\"350px\">\n",
        "\n",
        "So how many ways can we have 2 heads on 3 of the coin flips?\n",
        "\n",
        "As more and more flips happen, we will continue to have either heads or tails. Essentially, this means our original diagram can be expanded, and to show all the possibile results we could have:\n",
        "\n",
        "<img src=\"https://i.postimg.cc/G3vZ4KDj/Screen-Shot-2021-05-31-at-4-10-13-PM.png\" alt=\"3 random coin tosses\" height=\"225px\" width=\"355px\">\n",
        "\n",
        "As you can see, there are 8 total permutations of what 3 faces our coin will land on. As well, there are 3 in particular which have 2 heads: HHT, HTH, and THH (try to spot them in the diagram above, in case you are not convinced)!\n",
        "\n",
        "Since all of the 8 permutations are equally likely to occur, we can then conclude our probability is `3/8`, or 0.375."
      ],
      "id": "GEgcbkprcQnM"
    },
    {
      "cell_type": "markdown",
      "metadata": {
        "id": "sN8IlbOFcVOj"
      },
      "source": [
        "### The Python Solution\n",
        "\n",
        "To model this experiment in code, one approach we can take is:\n",
        "\n",
        "```\n",
        "Pseudocode for Modelling a Fair Coin\n",
        "1. Examine the results of 1000 trials, where each trial is defined tossing the coin 3 times.\n",
        "2. Then, we can keep track of an integer called `occurences` to record the number of trials in which we have one of our desired permutations (i.e. either HHT, HTH, or THH).\n",
        "3. Finally, we can compute the answer by dividing the number of trials where our desired outcome occurred, by the total number of trials: `occurences/1000`.\n",
        "```\n",
        "Before actually writing this function though, you may still have several questions. For example, how are we supposed to generate random events in Python?"
      ],
      "id": "sN8IlbOFcVOj"
    },
    {
      "cell_type": "markdown",
      "metadata": {
        "id": "YoPPT-ZzgydJ"
      },
      "source": [
        "#### Mini-Lesson: How to Simulate Random Events in Python\n",
        "\n",
        "The following code snippet provides a straightforward process you can follow for modelling probability. For more on the `random.choices` function, you may read more on the [Python documentation](https://docs.python.org/3/library/random.html?highlight=random#random.choices) as you wish."
      ],
      "id": "YoPPT-ZzgydJ"
    },
    {
      "cell_type": "code",
      "metadata": {
        "colab": {
          "base_uri": "https://localhost:8080/"
        },
        "id": "english-federation",
        "outputId": "cc8243fd-5a2d-4e39-8f87-5f587f338ad8"
      },
      "source": [
        "from random import choices\n",
        "\n",
        "# A: first, define the possible outcomes that can occur\n",
        "event = ['H', 'T'] \n",
        "# B: then, define their respective probabilities\n",
        "weights = [0.3, 0.7]  \n",
        "# C: run the simulation!\n",
        "for _ in range(10):  \n",
        "    # D: print the results, to verify it follows our assigned probabilities\n",
        "    print(choices(event, weights))"
      ],
      "id": "english-federation",
      "execution_count": null,
      "outputs": [
        {
          "output_type": "stream",
          "text": [
            "['T']\n",
            "['H']\n",
            "['T']\n",
            "['T']\n",
            "['T']\n",
            "['T']\n",
            "['T']\n",
            "['T']\n",
            "['H']\n",
            "['H']\n"
          ],
          "name": "stdout"
        }
      ]
    },
    {
      "cell_type": "markdown",
      "metadata": {
        "id": "89D-ZjmTgvym"
      },
      "source": [
        "#### Code Implementation\n",
        "\n",
        "From above, we know modelling a random event needs 3 parameters:\n",
        "1. The possible events that can happen\n",
        "2. The probabilities of each of those events\n",
        "3. The number of trials to simulate\n",
        "\n",
        "For this solution, let's leave out 1, since we already know this is for a fair coin.\n",
        "\n",
        "Therefore, our function only needs to take in the remaining two input arguments: \n",
        "1. The probability of landing on heads (since we can already compute the $P(T)$ with that information),\n",
        "2. And the number of trials to run.\n",
        "    \n",
        "Using the pseudocode above and what we now know about the `random` module, we can therefore implement something like the code below to see if our mathematical answer is truly correct:"
      ],
      "id": "89D-ZjmTgvym"
    },
    {
      "cell_type": "code",
      "metadata": {
        "id": "academic-bankruptcy"
      },
      "source": [
        "def compute_proba(probability_heads, trials):\n",
        "    # A: set the parameters of the random event\n",
        "    events = ['H', 'T']\n",
        "    weights = [probability_heads, 1 - probability_heads]\n",
        "    # B: count how many times the desired outcome occurs\n",
        "    occurences = 0\n",
        "    for _ in range(trials):\n",
        "        # C: check the results after 1 trial\n",
        "        trial_results = [\n",
        "          choices(events, weights)[0],  # 1st coin flip\n",
        "          choices(events, weights)[0],  # 2nd coin flip\n",
        "          choices(events, weights)[0]   # 3rd coin flip\n",
        "        ]\n",
        "        if trial_results.count(\"H\") == 2:\n",
        "            occurences += 1\n",
        "    # D: return the probability\n",
        "    return (occurences / trials)\n"
      ],
      "id": "academic-bankruptcy",
      "execution_count": null,
      "outputs": []
    },
    {
      "cell_type": "markdown",
      "metadata": {
        "id": "9BXSOLuTkT5D"
      },
      "source": [
        "#### Test Out the Python Solution"
      ],
      "id": "9BXSOLuTkT5D"
    },
    {
      "cell_type": "code",
      "metadata": {
        "colab": {
          "base_uri": "https://localhost:8080/"
        },
        "id": "QY52_-8-kXo7",
        "outputId": "1a751a16-7886-4eaa-c969-aa8dab978a98"
      },
      "source": [
        "a = 0.5 # the probability of landing on heads \n",
        "num_trials = 1000\n",
        "print(compute_proba(a, num_trials))  # computed probability after 1,000 trials\n",
        "print(3*(a**2)*(1-a)) # expected probability - does it match with the above?"
      ],
      "id": "QY52_-8-kXo7",
      "execution_count": null,
      "outputs": [
        {
          "output_type": "stream",
          "text": [
            "0.369\n",
            "0.375\n"
          ],
          "name": "stdout"
        }
      ]
    },
    {
      "cell_type": "markdown",
      "metadata": {
        "id": "global-butler"
      },
      "source": [
        "## Activity 18: Remove Duplicates \n",
        "\n",
        "You are given a list of numbers, `nums`. How would you implement Python code to return only the unique values from `nums`?\n",
        "\n",
        "**Note**: Here are some assumptions that may help you on this problem:\n",
        "  1. You can return the unique numbers using any data type in Python.\n",
        "  2. They can be in any order\n",
        "  3. But, the input list itself is *immutable* - meaning, it must remain unchanged\n",
        "  "
      ],
      "id": "global-butler"
    },
    {
      "cell_type": "markdown",
      "metadata": {
        "id": "QeyXrLx1l2gf"
      },
      "source": [
        "### Example Input"
      ],
      "id": "QeyXrLx1l2gf"
    },
    {
      "cell_type": "code",
      "metadata": {
        "id": "answering-smooth"
      },
      "source": [
        "nums = [2, 3, 2, 4, 1, 2]"
      ],
      "id": "answering-smooth",
      "execution_count": null,
      "outputs": []
    },
    {
      "cell_type": "markdown",
      "metadata": {
        "id": "p1IuXHyBl5Es"
      },
      "source": [
        "### Solution 1: Using a `set`"
      ],
      "id": "p1IuXHyBl5Es"
    },
    {
      "cell_type": "code",
      "metadata": {
        "id": "brilliant-exploration"
      },
      "source": [
        "def remove_duplicates_1(nums):\n",
        "    return set(nums)"
      ],
      "id": "brilliant-exploration",
      "execution_count": null,
      "outputs": []
    },
    {
      "cell_type": "markdown",
      "metadata": {
        "id": "N287YCezmBlL"
      },
      "source": [
        "#### Test Out Solution 1"
      ],
      "id": "N287YCezmBlL"
    },
    {
      "cell_type": "code",
      "metadata": {
        "colab": {
          "base_uri": "https://localhost:8080/"
        },
        "id": "y9rWcRY8mEFg",
        "outputId": "9ff99fcf-a2f5-491b-b341-6e99f7fe61c4"
      },
      "source": [
        "print(remove_duplicates_1(nums))"
      ],
      "id": "y9rWcRY8mEFg",
      "execution_count": null,
      "outputs": [
        {
          "output_type": "stream",
          "text": [
            "{1, 2, 3, 4}\n"
          ],
          "name": "stdout"
        }
      ]
    },
    {
      "cell_type": "markdown",
      "metadata": {
        "id": "rn27IDPlmFP2"
      },
      "source": [
        "### Solution 2: Using a `for` loop"
      ],
      "id": "rn27IDPlmFP2"
    },
    {
      "cell_type": "code",
      "metadata": {
        "id": "nutritional-pixel"
      },
      "source": [
        "def remove_duplicates_2(nums):\n",
        "    no_duplicates = []\n",
        "    for num in nums:\n",
        "        if num not in no_duplicates:\n",
        "            no_duplicates.append(num)\n",
        "    return no_duplicates"
      ],
      "id": "nutritional-pixel",
      "execution_count": null,
      "outputs": []
    },
    {
      "cell_type": "markdown",
      "metadata": {
        "id": "Q6gb7aZSmOvg"
      },
      "source": [
        "#### Test Out Solution 2"
      ],
      "id": "Q6gb7aZSmOvg"
    },
    {
      "cell_type": "code",
      "metadata": {
        "colab": {
          "base_uri": "https://localhost:8080/"
        },
        "id": "hyWuTXFMmQjj",
        "outputId": "43a7f9cd-689a-45a4-a4a6-e90ea49e7526"
      },
      "source": [
        "print(remove_duplicates_2(nums))"
      ],
      "id": "hyWuTXFMmQjj",
      "execution_count": null,
      "outputs": [
        {
          "output_type": "stream",
          "text": [
            "[2, 3, 4, 1]\n"
          ],
          "name": "stdout"
        }
      ]
    },
    {
      "cell_type": "markdown",
      "metadata": {
        "id": "eBGwM395mRVy"
      },
      "source": [
        "### Solution 3: Using an Auxiliary `list`\n",
        "\n",
        "In this scenario we can mark all the elements we discover are duplicates as `None`, and then make a new list that doesn't include those elements:"
      ],
      "id": "eBGwM395mRVy"
    },
    {
      "cell_type": "code",
      "metadata": {
        "id": "textile-invitation"
      },
      "source": [
        "def remove_duplicates_3(nums):\n",
        "    # A: make a copy of numbers\n",
        "    numbers = nums.copy()\n",
        "    # B: mark the duplicates\n",
        "    for index in range(len(nums)):\n",
        "        # C: if this number appears again, then it's a duplicate\n",
        "        rest_of_list = numbers[index+1:]\n",
        "        if numbers[index] in rest_of_list:\n",
        "            numbers[index] = None\n",
        "    # D: return all non-duplicates\n",
        "    return [num for num in numbers if num is not None]"
      ],
      "id": "textile-invitation",
      "execution_count": null,
      "outputs": []
    },
    {
      "cell_type": "markdown",
      "metadata": {
        "id": "zVfXF2PrnBDX"
      },
      "source": [
        "#### Test Out Solution 3"
      ],
      "id": "zVfXF2PrnBDX"
    },
    {
      "cell_type": "code",
      "metadata": {
        "colab": {
          "base_uri": "https://localhost:8080/"
        },
        "id": "MYWECU0xnDU4",
        "outputId": "a2d3aa13-cb62-4140-8211-e90f83d5dd39"
      },
      "source": [
        "print(remove_duplicates_3(nums))"
      ],
      "id": "MYWECU0xnDU4",
      "execution_count": null,
      "outputs": [
        {
          "output_type": "stream",
          "text": [
            "[3, 4, 1, 2]\n"
          ],
          "name": "stdout"
        }
      ]
    },
    {
      "cell_type": "markdown",
      "metadata": {
        "id": "DjhcUMXvw8sB"
      },
      "source": [
        "### Solution 4: Using the `del` keyword\n",
        "\n",
        "This solution is just like above, except we instead just delete the duplicate values from the list, rsther than making a new one."
      ],
      "id": "DjhcUMXvw8sB"
    },
    {
      "cell_type": "code",
      "metadata": {
        "id": "tribal-choir"
      },
      "source": [
        "def remove_duplicates_4(nums):\n",
        "    # A: make a copy of the input\n",
        "    numbers = nums.copy()\n",
        "    # B: delete the duplicates from the list\n",
        "    original_length = len(numbers)\n",
        "    num_checks = 0\n",
        "    index = 0\n",
        "    while num_checks < original_length:\n",
        "        num_checks += 1\n",
        "        rest_of_list = numbers[index+1:]\n",
        "        # C: duplicate found\n",
        "        if numbers[index] in rest_of_list:\n",
        "            del numbers[index]\n",
        "        # D: duplicate not found, so move on to the next indx\n",
        "        else:\n",
        "            index += 1\n",
        "    # E: return only the non-duplicate numbers\n",
        "    return numbers"
      ],
      "id": "tribal-choir",
      "execution_count": null,
      "outputs": []
    },
    {
      "cell_type": "markdown",
      "metadata": {
        "id": "BZmxLaBJnQBQ"
      },
      "source": [
        "#### Test Out Solution 4"
      ],
      "id": "BZmxLaBJnQBQ"
    },
    {
      "cell_type": "code",
      "metadata": {
        "colab": {
          "base_uri": "https://localhost:8080/"
        },
        "id": "cV9idpAWnTsk",
        "outputId": "a495c642-58df-4132-f6e3-2abcd873d5e4"
      },
      "source": [
        "print(remove_duplicates_4(nums))"
      ],
      "id": "cV9idpAWnTsk",
      "execution_count": null,
      "outputs": [
        {
          "output_type": "stream",
          "text": [
            "[3, 4, 1, 2]\n"
          ],
          "name": "stdout"
        }
      ]
    },
    {
      "cell_type": "markdown",
      "metadata": {
        "id": "FxtITsvA1pJV"
      },
      "source": [
        "### Solution 5: Using Map Reduce\n",
        "\n",
        "In this solution, we'll combine elements of what we've learned previously about the `map` and `reduce` functions, as well as how the `set` data type works. \n",
        "\n",
        "The first step is to make a new list from `nums`, where each individual element goes inside its own `set`. We can do this quickly using the `map` function:\n",
        "```\n",
        "iterable_sets = map(lambda x:{x}, nums)\n",
        "```\n",
        "Then, we can essentially boil down the `nums` list to just its unique elements, by using the `reduce` function.\n",
        "\n",
        "Python provides a [`set.union`](https://docs.python.org/3/library/stdtypes.html#frozenset.union) method: simply put, this allows us to efficiently combine all the unique elements found in two sets together, into one. \n",
        "\n",
        "The `set.union` is the function we will use in our call to `reduce`, so we must first define a function to wrap around it - this can be done easily using the `lambda` keyword: \n",
        "```\n",
        "collect_all_unique = lambda set1, set2: set1.union(set2)\n",
        "```\n",
        "Finally, we can go ahead and call the `reduce` function on our new list, as well as our function:\n",
        "```\n",
        "return reduce(collect_all_unique, iterable_sets)\n",
        "```\n",
        "\n",
        "And voilà! The function you see below is an example of \"Map Reduce\", a programming concept that's very popular in data engineering, and you will probably see more and more as you work with larger datasets."
      ],
      "id": "FxtITsvA1pJV"
    },
    {
      "cell_type": "code",
      "metadata": {
        "id": "dangerous-wallpaper"
      },
      "source": [
        "# Solution 5:\n",
        "from functools import reduce\n",
        "\n",
        "def remove_duplicates_map_reduce(nums):\n",
        "    # A: place each element in nums into a set by itself\n",
        "    iterable_sets = map(lambda x:{x}, nums)\n",
        "    # B: define a function to combine sets - collecting only unique numbers\n",
        "    collect_all_unique = lambda set1, set2: set1.union(set2)\n",
        "    # C: decompose the iterable down into a single set\n",
        "    return reduce(collect_all_unique, iterable_sets)"
      ],
      "id": "dangerous-wallpaper",
      "execution_count": null,
      "outputs": []
    },
    {
      "cell_type": "markdown",
      "metadata": {
        "id": "1AAJE2eQ3bGr"
      },
      "source": [
        "#### Test Out Solution 5"
      ],
      "id": "1AAJE2eQ3bGr"
    },
    {
      "cell_type": "code",
      "metadata": {
        "colab": {
          "base_uri": "https://localhost:8080/"
        },
        "id": "dpu8FmIP3iyC",
        "outputId": "bc061920-9b6b-4ad4-d0c4-fb7f353d5b35"
      },
      "source": [
        "print(remove_duplicates_map_reduce(nums))"
      ],
      "id": "dpu8FmIP3iyC",
      "execution_count": null,
      "outputs": [
        {
          "output_type": "stream",
          "text": [
            "{1, 2, 3, 4}\n"
          ],
          "name": "stdout"
        }
      ]
    },
    {
      "cell_type": "markdown",
      "metadata": {
        "id": "billion-property"
      },
      "source": [
        "## Activity 19: Combine Dictionaries\n",
        "\n",
        "You are given two Python dictionaries, `d1` and `d2`. How would you implement Python code to combine all the key-value pairs from `d1` and `d2` together?\n",
        "\n",
        "**Note**: If there are any keys in the `d2` that are already present in the `d1`, then place the corresponding values together into a list, and make that the new value in the combined dictionary. Also, both the `d1` and `d2` are must not be modified by your solution. "
      ],
      "id": "billion-property"
    },
    {
      "cell_type": "markdown",
      "metadata": {
        "id": "7lbQJPUM4NJL"
      },
      "source": [
        "### Example Inputs\n",
        "\n",
        "```\n",
        "Inputs:\n",
        "d1 = {'a': 10, 'b': 20, 'c': 30}\n",
        "d2 = {'b': 40, 'd': 50}\n",
        "\n",
        "Output:\n",
        "{\n",
        "  'a': 10, \n",
        "  'b': [20, 40], <-- notice how we combined the values for the 'b' key!\n",
        "  'c': 50, \n",
        "  'd': 50\n",
        "}\n",
        "```"
      ],
      "id": "7lbQJPUM4NJL"
    },
    {
      "cell_type": "code",
      "metadata": {
        "id": "Lz8yzKoR4PoY"
      },
      "source": [
        "d1 = {'a':10, 'b':20, 'c':30}\n",
        "d2 = {'b': 40, 'd':50}"
      ],
      "id": "Lz8yzKoR4PoY",
      "execution_count": null,
      "outputs": []
    },
    {
      "cell_type": "markdown",
      "metadata": {
        "id": "uNwt9J814n8r"
      },
      "source": [
        "### Solution Code"
      ],
      "id": "uNwt9J814n8r"
    },
    {
      "cell_type": "code",
      "metadata": {
        "id": "sized-congo"
      },
      "source": [
        "def combine_dicts(d1, d2):\n",
        "    # A: init a third dict\n",
        "    combined = d1.copy()\n",
        "    # B: add the key-value pairs from the second \n",
        "    for key_d2, value_d2 in d2.items():\n",
        "        # C: if an value has already been mapped to this key, include both\n",
        "        if key_d2 in combined:\n",
        "            value_d1 = d1[key_d2]\n",
        "            combined[key_d2] = [value_d1, value_d2]\n",
        "        # D: otherwise, just add the key-value pair\n",
        "        else:\n",
        "            combined[key_d2] = value_d2\n",
        "    # E: return the new dict\n",
        "    return combined"
      ],
      "id": "sized-congo",
      "execution_count": null,
      "outputs": []
    },
    {
      "cell_type": "markdown",
      "metadata": {
        "id": "eoHL1L4j4wok"
      },
      "source": [
        "#### Test Out the Solution"
      ],
      "id": "eoHL1L4j4wok"
    },
    {
      "cell_type": "code",
      "metadata": {
        "colab": {
          "base_uri": "https://localhost:8080/"
        },
        "id": "EyoM8YSe4y9U",
        "outputId": "c60eb247-2f4c-4f29-e4bf-842c727c7627"
      },
      "source": [
        "print(combine_dicts(d1, d2))"
      ],
      "id": "EyoM8YSe4y9U",
      "execution_count": null,
      "outputs": [
        {
          "output_type": "stream",
          "text": [
            "{'a': 10, 'b': [20, 40], 'c': 30, 'd': 50}\n"
          ],
          "name": "stdout"
        }
      ]
    },
    {
      "cell_type": "markdown",
      "metadata": {
        "id": "equal-shock"
      },
      "source": [
        "## Activity 20: Flatten a Matrix\n",
        "\n",
        "You are given a 2D list, `matrix`. How would you write code to flatten `matrix` into a 1-dimensional Python `list`?"
      ],
      "id": "equal-shock"
    },
    {
      "cell_type": "markdown",
      "metadata": {
        "id": "xrXZA4UA5m4d"
      },
      "source": [
        "### Example Input\n",
        "\n",
        "What we mean here by \"flatten a matrix\" is to collect all the elements into a 1D list. \n",
        "\n",
        "In this 1D list, elements should be in the same order as one would see if they were reading the `matrix` row-wise - look at the example below to see this in action:\n",
        "```\n",
        "Input:\n",
        "matrix = [\n",
        "  [8, 2, 3], \n",
        "  [9, 1, 9], \n",
        "  [5, 4, 1]\n",
        "]\n",
        "\n",
        "Output:\n",
        "[8, 2, 3, 9, 1, 9, 5, 4, 1]\n",
        "```"
      ],
      "id": "xrXZA4UA5m4d"
    },
    {
      "cell_type": "code",
      "metadata": {
        "id": "Omktfanw6YOd"
      },
      "source": [
        "matrix = [[8, 2, 3], [9, 1, 9], [5, 4, 1]]"
      ],
      "id": "Omktfanw6YOd",
      "execution_count": null,
      "outputs": []
    },
    {
      "cell_type": "markdown",
      "metadata": {
        "id": "2jZ0J5906Y7I"
      },
      "source": [
        "### Solution 1: Nested `for` loops"
      ],
      "id": "2jZ0J5906Y7I"
    },
    {
      "cell_type": "code",
      "metadata": {
        "id": "soviet-accused"
      },
      "source": [
        "def flatten_1(matrix):\n",
        "    # A: init the 1-dimensional array\n",
        "    ls = []\n",
        "    # B: add all the elements to it row-wise\n",
        "    for row in matrix:\n",
        "        for element in row:\n",
        "            ls.append(element)\n",
        "    # C: return the populated list\n",
        "    return ls"
      ],
      "id": "soviet-accused",
      "execution_count": null,
      "outputs": []
    },
    {
      "cell_type": "markdown",
      "metadata": {
        "id": "_RRS65Lu6iFc"
      },
      "source": [
        "#### Test Out Solution 1"
      ],
      "id": "_RRS65Lu6iFc"
    },
    {
      "cell_type": "code",
      "metadata": {
        "colab": {
          "base_uri": "https://localhost:8080/"
        },
        "id": "FIk4mS7W6kfm",
        "outputId": "60c46ce8-fa73-4304-eb62-8999dacaa590"
      },
      "source": [
        "print(flatten_1(matrix))"
      ],
      "id": "FIk4mS7W6kfm",
      "execution_count": null,
      "outputs": [
        {
          "output_type": "stream",
          "text": [
            "[8, 2, 3, 9, 1, 9, 5, 4, 1]\n"
          ],
          "name": "stdout"
        }
      ]
    },
    {
      "cell_type": "markdown",
      "metadata": {
        "id": "o-kKYzZc7EBl"
      },
      "source": [
        "### Solution 2: `for` loop with `list.extend`\n",
        "\n",
        "Although the above solution works, we can save ourselves a few keystrokes by alternatively using the `list.extend` method, in order to quickly load all the elements from the `row` variable into our 1D list.\n",
        "\n",
        "**Note**: Solution 2 is not necessarily execute faster than Solution 1 - we only mean it is \"quicker\" in that it is easier to write out 1 `for` loop rather than two:"
      ],
      "id": "o-kKYzZc7EBl"
    },
    {
      "cell_type": "code",
      "metadata": {
        "id": "UE1OKdqT5w1Z"
      },
      "source": [
        "def flatten_2(matrix):\n",
        "    # A: init the 1-dimensional array\n",
        "    row_vector = []\n",
        "    # B: like before, add all the elements\n",
        "    for row in matrix:\n",
        "        row_vector.extend(row)\n",
        "    # C: return the populated list\n",
        "    return row_vector"
      ],
      "id": "UE1OKdqT5w1Z",
      "execution_count": null,
      "outputs": []
    },
    {
      "cell_type": "markdown",
      "metadata": {
        "id": "_goCxfe77Phn"
      },
      "source": [
        "#### Test Out Solution 2"
      ],
      "id": "_goCxfe77Phn"
    },
    {
      "cell_type": "code",
      "metadata": {
        "id": "AOGb0HZj7Slm",
        "colab": {
          "base_uri": "https://localhost:8080/"
        },
        "outputId": "b6417184-69f7-4a5a-85f7-4e8cefd1b3fb"
      },
      "source": [
        "print(flatten_2(matrix))"
      ],
      "id": "AOGb0HZj7Slm",
      "execution_count": null,
      "outputs": [
        {
          "output_type": "stream",
          "text": [
            "[8, 2, 3, 9, 1, 9, 5, 4, 1]\n"
          ],
          "name": "stdout"
        }
      ]
    },
    {
      "cell_type": "markdown",
      "metadata": {
        "id": "radio-pencil"
      },
      "source": [
        "## Activity 21: Compute the Trace\n",
        "\n",
        "The *trace of a square matrix* is a concept from linear algebra. According to [Wikipedia](https://en.wikipedia.org/wiki/Trace_%28linear_algebra%29), it is \"defined to be the sum of elements on the main diagonal (from the upper left to the lower right) of $A$.\" Here, the Wikipedia editors simply use $A$ as a variable to represent our square matrix.\n",
        "\n",
        "You are given a 2D list of numbers, `matrix`. Note that `matrix` is guaranteed to have the same number of rows as it has columns, because it is a square. How would you write Python code to compute its trace? "
      ],
      "id": "radio-pencil"
    },
    {
      "cell_type": "markdown",
      "metadata": {
        "id": "EdjPaZBxRoZa"
      },
      "source": [
        "### Example Input"
      ],
      "id": "EdjPaZBxRoZa"
    },
    {
      "cell_type": "code",
      "metadata": {
        "id": "CgdIeZLVRqGA"
      },
      "source": [
        "matrix = [[8, 2, 3], [9, 1, 9], [5, 4, 1]]"
      ],
      "id": "CgdIeZLVRqGA",
      "execution_count": null,
      "outputs": []
    },
    {
      "cell_type": "markdown",
      "metadata": {
        "id": "YsyWOrzbRen0"
      },
      "source": [
        "### Solution: Using `enumerate`"
      ],
      "id": "YsyWOrzbRen0"
    },
    {
      "cell_type": "code",
      "metadata": {
        "id": "violent-tactics"
      },
      "source": [
        "def trace(matrix):\n",
        "    sum_diagonal = 0\n",
        "    for index_row, row in enumerate(matrix):\n",
        "        sum_diagonal += matrix[index_row][index_row]\n",
        "    return sum_diagonal"
      ],
      "id": "violent-tactics",
      "execution_count": null,
      "outputs": []
    },
    {
      "cell_type": "markdown",
      "metadata": {
        "id": "LBBairKbRige"
      },
      "source": [
        "#### Test Out Solution Code"
      ],
      "id": "LBBairKbRige"
    },
    {
      "cell_type": "code",
      "metadata": {
        "colab": {
          "base_uri": "https://localhost:8080/"
        },
        "id": "mT_Y7FSORnFm",
        "outputId": "cd87e58b-1808-4633-9839-ee941d9d715a"
      },
      "source": [
        "print(trace(matrix))   "
      ],
      "id": "mT_Y7FSORnFm",
      "execution_count": null,
      "outputs": [
        {
          "output_type": "stream",
          "text": [
            "10\n"
          ],
          "name": "stdout"
        }
      ]
    },
    {
      "cell_type": "markdown",
      "metadata": {
        "id": "thick-demonstration"
      },
      "source": [
        "## Activity 22: Transpose of a Matrix\n",
        "\n",
        "Another popular matrix operation is to compute the *transpose*. We flip the elements in the matrix over the diagonal producing a new matrix.\n",
        "\n",
        "You are given a 2D list of numbers, `matrix`. How would you write Python code to compute the tranpose of `matrix`?"
      ],
      "id": "thick-demonstration"
    },
    {
      "cell_type": "markdown",
      "metadata": {
        "id": "eKYvopLpX1B7"
      },
      "source": [
        "### Example Input\n",
        "\n",
        "Put another way, the transpose matrix is just what the original `matrix` would be, if you were to read the elements in said `matrix` going up and down vertically, rather than left to right horizontally.\n",
        "\n",
        "Therefore, if we had a matrix like the following:\n",
        "```\n",
        "matrix = [\n",
        "    [8, 2, 3],\n",
        "    [9, 1, 9], \n",
        "    [5, 4, 1]\n",
        "]\n",
        "```\n",
        "Then we would expect its transpose to be the following output:\n",
        "```\n",
        "transposed_matrix = [\n",
        "    [8, 9, 5],  # first column\n",
        "    [2, 1, 4],  # second column\n",
        "    [3, 9, 1]   # third column\n",
        "]\n",
        "```\n"
      ],
      "id": "eKYvopLpX1B7"
    },
    {
      "cell_type": "code",
      "metadata": {
        "id": "7ooH8oluXyzU"
      },
      "source": [
        "matrix = [[8, 2, 3], [9, 1, 9], [5, 4, 1]]"
      ],
      "id": "7ooH8oluXyzU",
      "execution_count": null,
      "outputs": []
    },
    {
      "cell_type": "markdown",
      "metadata": {
        "id": "9lQnNxm-VeaU"
      },
      "source": [
        "### Solution "
      ],
      "id": "9lQnNxm-VeaU"
    },
    {
      "cell_type": "code",
      "metadata": {
        "id": "musical-industry"
      },
      "source": [
        "def transpose(matrix):\n",
        "    # A: init the transpose matrix using the dims of the original\n",
        "    transposed_matrix = [[] for _ in range(len(matrix[0]))] \n",
        "    # B: iterate over each column\n",
        "    for col_index in range(len(matrix[0])):\n",
        "        # C: collect the elements in this column\n",
        "        for row in matrix:\n",
        "            transposed_matrix[col_index].append(row[col_index])\n",
        "    # D: return the transpose of the matrix\n",
        "    return transposed_matrix"
      ],
      "id": "musical-industry",
      "execution_count": null,
      "outputs": []
    },
    {
      "cell_type": "markdown",
      "metadata": {
        "id": "UUcNULKQVg1i"
      },
      "source": [
        "**Note**: in the solution above, it is also possible to implement step A in the following way:\n",
        "\n",
        "```\n",
        "transpose = [[]]*len(matrix[0])\n",
        "```\n",
        "However, using a list comprehension with the `range()` function is the more efficient way to initialize our matrix, and thus is preferred. "
      ],
      "id": "UUcNULKQVg1i"
    },
    {
      "cell_type": "markdown",
      "metadata": {
        "id": "hJGmQfzfXqnR"
      },
      "source": [
        "#### Test Out The Solution"
      ],
      "id": "hJGmQfzfXqnR"
    },
    {
      "cell_type": "code",
      "metadata": {
        "colab": {
          "base_uri": "https://localhost:8080/"
        },
        "id": "B93uZPY0XwrN",
        "outputId": "0fe978d0-7fd5-49a6-8884-e7445957e73d"
      },
      "source": [
        "print(transpose(matrix))"
      ],
      "id": "B93uZPY0XwrN",
      "execution_count": null,
      "outputs": [
        {
          "output_type": "stream",
          "text": [
            "[[8, 9, 5], [2, 1, 4], [3, 9, 1]]\n"
          ],
          "name": "stdout"
        }
      ]
    },
    {
      "cell_type": "markdown",
      "metadata": {
        "id": "surgical-rubber"
      },
      "source": [
        "## Activity 23: Compressing Data\n",
        "\n",
        "You are given a list of tuples, `employees`, which represents a company's records of its employees (see below cell for an example input). Each tuple object contains two strings: the first is for the employee's department (e.g. `'Sales', Marketing, Accounting, etc.`), and the second is for their full name.\n",
        "\n",
        "Some of the records in `employees` share the same department, and some of the names appear more than once. How would you implement Python code to group all the employees in the same department together, and to remove the duplicate names from appearing more than once?\n",
        "\n",
        "*Hint 1: this is a great place to use a `dict`!*\n",
        "\n",
        "*Hint 2: but how would you handle multiple employees being in the same department?*"
      ],
      "id": "surgical-rubber"
    },
    {
      "cell_type": "markdown",
      "metadata": {
        "id": "hXELX0Bigovu"
      },
      "source": [
        "### Example Input"
      ],
      "id": "hXELX0Bigovu"
    },
    {
      "cell_type": "code",
      "metadata": {
        "id": "lesbian-medicaid"
      },
      "source": [
        "employees = [\n",
        "    ('Sales', 'John Doe'),\n",
        "    ('Sales', 'Martin Smith'),\n",
        "    ('Accounting', 'Jane Doe'),\n",
        "    ('Marketing', 'Elizabeth Smith'),\n",
        "    ('Marketing', 'Elizabeth Smith'),\n",
        "    ('Marketing', 'Adam Doe'),\n",
        "    ('Marketing', 'Adam Doe'),\n",
        "    ('Marketing', 'Adam Doe')\n",
        "]"
      ],
      "id": "lesbian-medicaid",
      "execution_count": null,
      "outputs": []
    },
    {
      "cell_type": "markdown",
      "metadata": {
        "id": "4m1DlzaTg7F6"
      },
      "source": [
        "### Solution 1: Using the `dict` type, with `list` values\n",
        "\n",
        "This solution follows a pattern that is probably becoming more and more familiar to you - here it is in pseudocode:\n",
        "```\n",
        "How to Decompress Data in Python using a \"dict\":\n",
        "A: init a new dictionary\n",
        "B: iterate over our data (i.e. key-value pairs):\n",
        "    a: if I haven't seen this key before, map it to a new iterable containing the value\n",
        "    b: if I have seen the key before, then add the value to the iterable (that's already been mapped to this key)\n",
        "C: return the dictionary!\n",
        "```\n",
        "\n",
        "And here is the actual code:"
      ],
      "id": "4m1DlzaTg7F6"
    },
    {
      "cell_type": "code",
      "metadata": {
        "id": "ebfStTIGg_Vc"
      },
      "source": [
        "def compress_data_1(employees):\n",
        "    # A: init a new dictionary\n",
        "    compressed = dict()\n",
        "    # B: iterate over our data (i.e. key-value pairs):\n",
        "    for department, employee in employees:\n",
        "        # a: if I haven't seen this key before, \n",
        "        if department not in compressed:\n",
        "            # map it to a new iterable containing the value\n",
        "            compressed[department] = [employee]\n",
        "        # b: if I have seen the key before,\n",
        "        else:  # department in compressed\n",
        "            # then add the value to the iterable\n",
        "            dept_employees = compressed[department]\n",
        "            if employee not in dept_employees:\n",
        "                dept_employees.append(employee)\n",
        "            # (that's already been mapped to this key)\n",
        "            compressed[department] = dept_employees\n",
        "    # C: return the dictionary!\n",
        "    return compressed"
      ],
      "id": "ebfStTIGg_Vc",
      "execution_count": null,
      "outputs": []
    },
    {
      "cell_type": "markdown",
      "metadata": {
        "id": "HcuSmUHAjmco"
      },
      "source": [
        "#### Test Out Solution 1"
      ],
      "id": "HcuSmUHAjmco"
    },
    {
      "cell_type": "code",
      "metadata": {
        "colab": {
          "base_uri": "https://localhost:8080/"
        },
        "id": "4Y3MRivJjoe-",
        "outputId": "7eeb52f1-c2df-4c73-bffc-07e88daa4b2c"
      },
      "source": [
        "print(compress_data_1(employees))"
      ],
      "id": "4Y3MRivJjoe-",
      "execution_count": null,
      "outputs": [
        {
          "output_type": "stream",
          "text": [
            "{'Sales': ['John Doe', 'Martin Smith'], 'Accounting': ['Jane Doe'], 'Marketing': ['Elizabeth Smith', 'Adam Doe']}\n"
          ],
          "name": "stdout"
        }
      ]
    },
    {
      "cell_type": "markdown",
      "metadata": {
        "id": "dCpEXx1LjuFz"
      },
      "source": [
        "### Solution 2: Using `dict` with `set` values\n",
        "\n",
        "This solution is an alternative to the above. It still follows the same pattern as before; however, rather than using a `list` object to encapsulate the values in our dictionary, we instead use the `set` data type.\n",
        "\n",
        "Note that in this approach, the `set` data type allows us to prevent duplicate names from being added to our new dictionary *much* more efficently than when we were using the `list` data type!"
      ],
      "id": "dCpEXx1LjuFz"
    },
    {
      "cell_type": "code",
      "metadata": {
        "id": "y0CvXkt9k_j7"
      },
      "source": [
        "def compress_data_2(employees):\n",
        "    # A: init a new dictionary\n",
        "    compressed = dict()\n",
        "    # B: iterate over our data (i.e. key-value pairs):\n",
        "    for department, employee in employees:\n",
        "        # a: if I haven't seen this key before, \n",
        "        if department not in compressed:\n",
        "            # map it to a new iterable (in this case, a set) w/ the value\n",
        "            compressed[department] = { employee}\n",
        "        # b: if I have seen the key before,\n",
        "        else:  # department in compressed\n",
        "            # then add the value to the set (auto-checks for duplicates!)\n",
        "            compressed[department].add(employee)\n",
        "    # C: return the dictionary!\n",
        "    return compressed"
      ],
      "id": "y0CvXkt9k_j7",
      "execution_count": null,
      "outputs": []
    },
    {
      "cell_type": "markdown",
      "metadata": {
        "id": "Cb6-pMwEmJzW"
      },
      "source": [
        "#### Test Out Solution 2"
      ],
      "id": "Cb6-pMwEmJzW"
    },
    {
      "cell_type": "code",
      "metadata": {
        "colab": {
          "base_uri": "https://localhost:8080/"
        },
        "id": "FHQa537mmNER",
        "outputId": "1e1ee367-babb-4c12-c3b4-568eabac874a"
      },
      "source": [
        "print(compress_data_2(employees))"
      ],
      "id": "FHQa537mmNER",
      "execution_count": null,
      "outputs": [
        {
          "output_type": "stream",
          "text": [
            "{'Sales': {'Martin Smith', 'John Doe'}, 'Accounting': {'Jane Doe'}, 'Marketing': {'Adam Doe', 'Elizabeth Smith'}}\n"
          ],
          "name": "stdout"
        }
      ]
    },
    {
      "cell_type": "markdown",
      "metadata": {
        "id": "rQUSunhohTN-"
      },
      "source": [
        "### Solution 3: Using `defaultdict`\n",
        "\n",
        "Fortunately, the pattern you have practiced here is so common, the Python development community created a *subclass* of the `dict` data type just to make it easier to implement.\n",
        "\n",
        "To do this, we can simply instantiate an object of the `defaultdict` class, and pass in the name of one of Python's iterable data types as an argument to the constructor, such as `list` or `set`. This basically tells Python what kind of data type we can the values in our `defaultdict` to have. \n",
        "\n",
        "Finally, we can go ahead and pass the key-value pairs to our dictionary, as you can see below.\n",
        "\n",
        "*Note*: the `defaultdict` class can behave very differently, based on which data type you pass to it, (or if you even pass one at all). The data type you pass therefore depends on the behavior you need for your use case. You may read more about these behaviors of `defaultdict` and more, in the [Python documentation](https://docs.python.org/3/library/collections.html#collections.defaultdict)."
      ],
      "id": "rQUSunhohTN-"
    },
    {
      "cell_type": "code",
      "metadata": {
        "id": "stuck-mercury"
      },
      "source": [
        "from collections import defaultdict\n",
        "\n",
        "def compress_data_3(employees):\n",
        "    # A: init a new dictionary\n",
        "    compressed = defaultdict(set)\n",
        "    # B: iterate over our data (i.e. key-value pairs):\n",
        "    for department, employee in employees:\n",
        "        # C: this line will take care of the rest\n",
        "        compressed[department].add(employee)\n",
        "    # D: return the dictionary!\n",
        "    return compressed"
      ],
      "id": "stuck-mercury",
      "execution_count": null,
      "outputs": []
    },
    {
      "cell_type": "markdown",
      "metadata": {
        "id": "xlIkK4sfp_nh"
      },
      "source": [
        "#### Test Out Solution 3\n",
        "\n",
        "This was by far the quickest solution to code - nevertheless, the output will not be exactly the same though:"
      ],
      "id": "xlIkK4sfp_nh"
    },
    {
      "cell_type": "code",
      "metadata": {
        "colab": {
          "base_uri": "https://localhost:8080/"
        },
        "id": "t7MbMuT5qKol",
        "outputId": "6c7c3a70-6f14-4c56-c917-47e1bec2c7b8"
      },
      "source": [
        "print(compress_data_3(employees))"
      ],
      "id": "t7MbMuT5qKol",
      "execution_count": null,
      "outputs": [
        {
          "output_type": "stream",
          "text": [
            "defaultdict(<class 'set'>, {'Sales': {'Martin Smith', 'John Doe'}, 'Accounting': {'Jane Doe'}, 'Marketing': {'Adam Doe', 'Elizabeth Smith'}})\n"
          ],
          "name": "stdout"
        }
      ]
    },
    {
      "cell_type": "markdown",
      "metadata": {
        "id": "super-kinase"
      },
      "source": [
        "## Activity 24: Fibonacci Calculator\n",
        "\n",
        "The [Fibonacci Sequence](https://en.wikipedia.org/wiki/Fibonacci_number) is a famous concept from mathematics, originally developed to model the growth of populations. Please read the Wikipedia article [here](https://en.wikipedia.org/wiki/Fibonacci_number) to get a basic understanding of how to calculate numbers in the Fibonacci Sequence (aka \"Fibonacci numbers\") by hand.\n",
        "\n",
        "In this exercise, we ask you: how would you write a Python program to implement the `n`-th Fibonacci number?"
      ],
      "id": "super-kinase"
    },
    {
      "cell_type": "markdown",
      "metadata": {
        "id": "NO9EVHMqtWQg"
      },
      "source": [
        "### Example Input\n",
        "\n",
        "In the Fibonacci Sequence, `n` can be any nonnegative integer. For example:"
      ],
      "id": "NO9EVHMqtWQg"
    },
    {
      "cell_type": "code",
      "metadata": {
        "id": "1jXj6QVCuB4W"
      },
      "source": [
        "n = 20  # fib(20) equals 6,765 by hand"
      ],
      "id": "1jXj6QVCuB4W",
      "execution_count": null,
      "outputs": []
    },
    {
      "cell_type": "markdown",
      "metadata": {
        "id": "xUH7WptJuF39"
      },
      "source": [
        "### Solution 1: Using Recursion\n",
        "\n",
        "The sequence is predefined for a few base cases - for example, the 0th Fibonacci number is 0, and the 1st Fibonacci number is 1.\n",
        "\n",
        "However after that, the `n`-th Fibonacci number is simply defined as the sum of the previous two numbers. Therefore, this problem lends itself well to using recursion:"
      ],
      "id": "xUH7WptJuF39"
    },
    {
      "cell_type": "code",
      "metadata": {
        "id": "intimate-bridge"
      },
      "source": [
        "def fib_recursive(n):\n",
        "    # Base Cases\n",
        "    if n == 0:\n",
        "        return 0\n",
        "    elif n == 1:\n",
        "        return 1\n",
        "    # Recursive Case\n",
        "    else:\n",
        "        return fib_recursive(n - 1) + fib_recursive(n - 2)"
      ],
      "id": "intimate-bridge",
      "execution_count": null,
      "outputs": []
    },
    {
      "cell_type": "markdown",
      "metadata": {
        "id": "agcIsjv0uLTx"
      },
      "source": [
        "#### Test Out Solution 1"
      ],
      "id": "agcIsjv0uLTx"
    },
    {
      "cell_type": "code",
      "metadata": {
        "colab": {
          "base_uri": "https://localhost:8080/"
        },
        "id": "l-LjW4pguNz8",
        "outputId": "41945bbf-70e4-4c2c-a79b-021caab3d875"
      },
      "source": [
        "print(fib_recursive(n))"
      ],
      "id": "l-LjW4pguNz8",
      "execution_count": null,
      "outputs": [
        {
          "output_type": "stream",
          "text": [
            "6765\n"
          ],
          "name": "stdout"
        }
      ]
    },
    {
      "cell_type": "markdown",
      "metadata": {
        "id": "uisXMixpuP-o"
      },
      "source": [
        "### Solution 2: Using a `dict`\n",
        "\n",
        "As the value of `n` increases, it can also be useful to use a data structure to keep track of previous Fibonacci numbers. This can allow our function to take less time than if it was using recursion, because we are able to access the previous two Fibonaaci numbers in constant time.\n",
        "\n",
        "See an example of this below, using a `dict`:"
      ],
      "id": "uisXMixpuP-o"
    },
    {
      "cell_type": "code",
      "metadata": {
        "id": "figured-despite"
      },
      "source": [
        "def fib_dictionary(n):\n",
        "    # Base Cases\n",
        "    dic_fib = {0:0, 1:1}\n",
        "    # Recursive Cases - like before, we can go up to the nth number:\n",
        "    for i in range(2, n + 1):\n",
        "        dic_fib[i] = dic_fib[i - 1] + dic_fib[i - 2]\n",
        "    return dic_fib[n]"
      ],
      "id": "figured-despite",
      "execution_count": null,
      "outputs": []
    },
    {
      "cell_type": "markdown",
      "metadata": {
        "id": "8JwG6UNNu-sA"
      },
      "source": [
        "#### Test Out Solution 2"
      ],
      "id": "8JwG6UNNu-sA"
    },
    {
      "cell_type": "code",
      "metadata": {
        "colab": {
          "base_uri": "https://localhost:8080/"
        },
        "id": "Obp4aLYKvAxh",
        "outputId": "c9d5cd58-89e2-4a46-af8d-59e35859fa3a"
      },
      "source": [
        "print(fib_dictionary(n))"
      ],
      "id": "Obp4aLYKvAxh",
      "execution_count": null,
      "outputs": [
        {
          "output_type": "stream",
          "text": [
            "6765\n"
          ],
          "name": "stdout"
        }
      ]
    },
    {
      "cell_type": "markdown",
      "metadata": {
        "id": "AKEYPoF2vEeO"
      },
      "source": [
        "### Solution 3: Using a `list`\n",
        "\n",
        "Similar to using a `dict`, we could also use a `list`:"
      ],
      "id": "AKEYPoF2vEeO"
    },
    {
      "cell_type": "code",
      "metadata": {
        "id": "smooth-bullet"
      },
      "source": [
        "def fib_list(n):\n",
        "    # Base Cases:\n",
        "    y = [0, 1] \n",
        "    # Recursive Cases\n",
        "    for _ in range(2, n + 1):\n",
        "        # here, we can get the previous two numbers using list splicing\n",
        "        new_fib_value = sum(y[-2:])\n",
        "        y.append(new_fib_value)\n",
        "    return y[-1] # last element of y is our desired number"
      ],
      "id": "smooth-bullet",
      "execution_count": null,
      "outputs": []
    },
    {
      "cell_type": "markdown",
      "metadata": {
        "id": "PuPvLmA1vlFO"
      },
      "source": [
        "#### Test Out Solution 3"
      ],
      "id": "PuPvLmA1vlFO"
    },
    {
      "cell_type": "code",
      "metadata": {
        "colab": {
          "base_uri": "https://localhost:8080/"
        },
        "id": "CyPHuVl8vkVj",
        "outputId": "5074016b-702a-4d37-f4fa-bfffbddd02c3"
      },
      "source": [
        "print(fib_list(n))"
      ],
      "id": "CyPHuVl8vkVj",
      "execution_count": null,
      "outputs": [
        {
          "output_type": "stream",
          "text": [
            "6765\n"
          ],
          "name": "stdout"
        }
      ]
    },
    {
      "cell_type": "markdown",
      "metadata": {
        "id": "xCa3XgAm49sz"
      },
      "source": [
        "### Solution 4: Using local variables\n",
        "\n",
        "While the previous two solutions work, they might cost us too much space if our input `n` value is large enough.\n",
        "\n",
        "Fortunately, one insight into this problem is we don't actually need to store all the previous Fibonacci numbers we calculate - rather, we can just keep track of the previous two using local variables:"
      ],
      "id": "xCa3XgAm49sz"
    },
    {
      "cell_type": "code",
      "metadata": {
        "id": "_meqjxdQ6xSk"
      },
      "source": [
        "def fib_local_vars(n):\n",
        "  # Base Cases - these are equal to fib(0) and fib(1)\n",
        "  base1, base2 = 0, 1\n",
        "  # Caculate our nth value,\n",
        "  prev1 = base1\n",
        "  prev2 = base2\n",
        "  # move our two previous values to just before fib(n)\n",
        "  for _ in range(2, n):\n",
        "    temp = prev2\n",
        "    prev2 = prev1 + prev2\n",
        "    prev1 = temp\n",
        "  # finally, return fib(n - 2) + fib(n - 1)\n",
        "  return prev1 + prev2\n"
      ],
      "id": "_meqjxdQ6xSk",
      "execution_count": null,
      "outputs": []
    },
    {
      "cell_type": "markdown",
      "metadata": {
        "id": "x6_-DuyG-BU4"
      },
      "source": [
        "#### Test Out Solution 4"
      ],
      "id": "x6_-DuyG-BU4"
    },
    {
      "cell_type": "code",
      "metadata": {
        "colab": {
          "base_uri": "https://localhost:8080/"
        },
        "id": "FYtmhFcI-DpN",
        "outputId": "8f3536bf-1017-40b0-aaa6-89c6b2fda6e5"
      },
      "source": [
        "print(fib_local_vars(n))"
      ],
      "id": "FYtmhFcI-DpN",
      "execution_count": null,
      "outputs": [
        {
          "output_type": "stream",
          "text": [
            "6765\n"
          ],
          "name": "stdout"
        }
      ]
    },
    {
      "cell_type": "markdown",
      "metadata": {
        "id": "HIq0p51Y_IWD"
      },
      "source": [
        "### Solution 5: Using a Generator\n",
        "\n",
        "At this point, you may be wondering: \"how could we possibly optimize our function any further? I thought we had already reached the best time and space complexity!\"\n",
        "\n",
        "*Intro to Generators*\n",
        "\n",
        "Well, the truth is although our function has reached optimal performance (as measured by Big O), in can still perform slowly on large datasets. This is because our code executes *synchronously* - that is to say, we have to wait for it to finish completely, before getting the return value. \n",
        "\n",
        "In the real world, this means we can still run into issues on massively sized input data. For example, let's say you have a function to preprocess a dataset of 870,000 color images, each of which is 2532x1170 pixels. Once preprocessed, we will use these images to train a machine learning model.\n",
        "\n",
        "Wouldn't you prefer being able to train the model on the first say, 100 images, as soon as they've been preprocessed, rather than having to wait for the function to work through all 870,000 images first? In the first scenario, this means we want to make our function *asynchronous* - we allow it to execute at the same time as another task is happening (in this case, our model training). In short, this allows both tasks to take less time overall.\n"
      ],
      "id": "HIq0p51Y_IWD"
    },
    {
      "cell_type": "markdown",
      "metadata": {
        "id": "NaC6fttaqCUD"
      },
      "source": [
        "#### How Generators Work\n",
        "\n",
        "This is where generators come in - generators  make code asynchronous, because they utilize *lazy execution*. Instead of going through all the iterations at one time, they wait for us to call them first - and even then, they only evaluate the value of the next iteration. *Another key difference:* after that iteration is over, the generator *deallocates* the memory it used to compute that value. This means the generator never takes up more memory than what's needed for a single iteration.\n",
        "\n",
        "**How to Define a Generator Function**\n",
        "\n",
        "To define a generator in Python is easy - just use the `yield` keyword in the body of the `for` or `while` loop:"
      ],
      "id": "NaC6fttaqCUD"
    },
    {
      "cell_type": "code",
      "metadata": {
        "id": "brilliant-cooking"
      },
      "source": [
        "def fib_generator(n):\n",
        "    num1, num2 = 0, 1\n",
        "    for _ in range(1, n + 2):\n",
        "        # this returns the current Fibonacci number asynchronously\n",
        "        yield num1\n",
        "        # move on to the next\n",
        "        num1, num2 = num2, num1 + num2"
      ],
      "id": "brilliant-cooking",
      "execution_count": null,
      "outputs": []
    },
    {
      "cell_type": "markdown",
      "metadata": {
        "id": "GbXf3_YNdQz3"
      },
      "source": [
        "#### Test Out Solution 5\n",
        "\n",
        "How to Return Values from a Generator\n",
        "\n",
        "The `yield` keyword in our function above removes the need to use the `return` keyword - however, the two do not operate exactly the same way.\n",
        "\n",
        "This is because *generators are designed to be used like any other iterable* - they compute a series of values, rather than a singular value. Therefore, if we simply tried to print the return value of the function above, we would actually just get a `generator` object. \n",
        "\n",
        "Instead, we can use the following options:"
      ],
      "id": "GbXf3_YNdQz3"
    },
    {
      "cell_type": "markdown",
      "metadata": {
        "id": "igFzEULLdV8b"
      },
      "source": [
        "**Option 1**: Using the `next()` function\n",
        "\n",
        "In this option we iterate over the values generated by the `fib_generator` using an outer `for` loop. In a given iteration, we are able to get the actual value that was computed by using the built-in `next()` function."
      ],
      "id": "igFzEULLdV8b"
    },
    {
      "cell_type": "code",
      "metadata": {
        "colab": {
          "base_uri": "https://localhost:8080/"
        },
        "id": "wtj-2QLPcnG2",
        "outputId": "adbd42d0-2352-409c-a019-83cf47a6b8cc"
      },
      "source": [
        "# A: iterate over the first n Fibonacci numbers\n",
        "fib_nums = fib_generator(n)\n",
        "for i in range(n + 1):\n",
        "    # B: using next() is what moves the generator on to the next Fibonacci num\n",
        "    next_num = next(fib_nums)\n",
        "    # C: if we have reached the n-th Fibonacci number, print it!\n",
        "    if i == n:\n",
        "        print(next_num)"
      ],
      "id": "wtj-2QLPcnG2",
      "execution_count": null,
      "outputs": [
        {
          "output_type": "stream",
          "text": [
            "6765\n"
          ],
          "name": "stdout"
        }
      ]
    },
    {
      "cell_type": "markdown",
      "metadata": {
        "id": "Lqylbqfsdb3H"
      },
      "source": [
        "**Option 2**: Directly Using a `for` loop\n",
        "\n",
        "In practice, we normally don't use the `next()` function when working with generators, since it is already called under the hood when we use a `for` loop.\n",
        "\n",
        "Therefore, we can also do the following:"
      ],
      "id": "Lqylbqfsdb3H"
    },
    {
      "cell_type": "code",
      "metadata": {
        "colab": {
          "base_uri": "https://localhost:8080/"
        },
        "id": "wkYsyfjicn6T",
        "outputId": "2aed75f9-605d-44c4-cb32-38c954fafb3d"
      },
      "source": [
        "# A: iterate over the first n Fibonacci numbers\n",
        "i = 0\n",
        "for fib_num in fib_generator(n):  # << this implictly calls the next() function\n",
        "    # B: if we have reached the n-th Fibonacci number, print it!\n",
        "    if i == n:\n",
        "        print(fib_num)\n",
        "    # C: otherwise, move on\n",
        "    i += 1"
      ],
      "id": "wkYsyfjicn6T",
      "execution_count": null,
      "outputs": [
        {
          "output_type": "stream",
          "text": [
            "6765\n"
          ],
          "name": "stdout"
        }
      ]
    },
    {
      "cell_type": "markdown",
      "metadata": {
        "id": "s0_fA59M0Pz4"
      },
      "source": [
        "For more on generators, you may read on in the [Python documentation](https://docs.python.org/3/glossary.html#term-generator-iterator).\n",
        "\n"
      ],
      "id": "s0_fA59M0Pz4"
    },
    {
      "cell_type": "markdown",
      "metadata": {
        "id": "oriental-integral"
      },
      "source": [
        "## Activity 25: String Interpolation\n",
        "\n",
        "Strings are a popular data type to use for communicating messages to the user - however, we often need to embed other kinds of data into our `str` objects. This is called *string interpolation*.\n",
        "\n",
        "For example, let's say you are given 2 `list` objects:\n",
        "\n",
        "1. One lists the names of several people;\n",
        "2. One lists their respective ages\n",
        "\n",
        "How would you implement Python code to greet each person, and inform them of their age?"
      ],
      "id": "oriental-integral"
    },
    {
      "cell_type": "markdown",
      "metadata": {
        "id": "fIHaUcPi_27T"
      },
      "source": [
        "### Example Input\n",
        "\n",
        "For our solution, let's say you start with a template message such as the following:\n",
        "```\n",
        "Hello <name>, your age is: <age>.\n",
        "```\n",
        "Using this template, an example input and output for our function will look like the following:\n",
        "```\n",
        "Input: \n",
        "names = [\"Khiem\", \"Alex\", \"Mike\"]\n",
        "ages = [24, 25, 26]\n",
        "\n",
        "Output:\n",
        "Hello Khiem, your age is: 24.\n",
        "Hello Alex, your age is: 25.\n",
        "Hello Mike, your age is: 26.\n",
        "```\n",
        "\n",
        "This activity essentially is asking you to construct `str` objects that contain both the name and age of each person. This requires you to embed an `int` into a `str`; and this is what exemplifies a common use of string interpolation."
      ],
      "id": "fIHaUcPi_27T"
    },
    {
      "cell_type": "code",
      "metadata": {
        "id": "JYKc3hdMAwaO"
      },
      "source": [
        "names = [\"Khiem\", \"Alex\", \"Mike\"]\n",
        "ages = [24, 25, 26]"
      ],
      "id": "JYKc3hdMAwaO",
      "execution_count": null,
      "outputs": []
    },
    {
      "cell_type": "markdown",
      "metadata": {
        "id": "STlzPnDEAyLs"
      },
      "source": [
        "### Solution 1: Format String\n",
        "\n",
        "One of the easiest and most readable ways to perform string interpolation in Python is using a *format-string*, sometimes called \"f-string\" for short.\n",
        "\n",
        "Observe how this technique allows us to easily combine data from our two lists into 1 string called `message`, in the body of the `for` loop below:"
      ],
      "id": "STlzPnDEAyLs"
    },
    {
      "cell_type": "code",
      "metadata": {
        "id": "impossible-royal"
      },
      "source": [
        "def inform_ages_1(names, ages):\n",
        "  for name, age in zip(names, ages):\n",
        "      print(f\"Hello {name}, your age is: {age}.\")"
      ],
      "id": "impossible-royal",
      "execution_count": null,
      "outputs": []
    },
    {
      "cell_type": "markdown",
      "metadata": {
        "id": "qsD2xODCBz7p"
      },
      "source": [
        "#### Test Out Solution 1"
      ],
      "id": "qsD2xODCBz7p"
    },
    {
      "cell_type": "code",
      "metadata": {
        "colab": {
          "base_uri": "https://localhost:8080/"
        },
        "id": "Z4yDDcWJB2du",
        "outputId": "ee7c57b9-1fbb-4d91-bca5-47094377f822"
      },
      "source": [
        "inform_ages_1(names, ages)"
      ],
      "id": "Z4yDDcWJB2du",
      "execution_count": null,
      "outputs": [
        {
          "output_type": "stream",
          "text": [
            "Hello Khiem, your age is: 24.\n",
            "Hello Alex, your age is: 25.\n",
            "Hello Mike, your age is: 26.\n"
          ],
          "name": "stdout"
        }
      ]
    },
    {
      "cell_type": "markdown",
      "metadata": {
        "id": "VyBDYxJODlax"
      },
      "source": [
        "### Solution 2: Using `str.format()`\n",
        "\n",
        "Before format-strings were introduced in Python 3.6, a common way to perform string interpolation was through the `str.format()` method. You may read more about its syntax in the [Python documentation](https://docs.python.org/3/library/stdtypes.html?highlight=str%20format#str.format).\n",
        "\n"
      ],
      "id": "VyBDYxJODlax"
    },
    {
      "cell_type": "code",
      "metadata": {
        "id": "69rJDNo7ByVP"
      },
      "source": [
        "def inform_ages_2(names, ages):\n",
        "  for name, age in zip(names, ages):\n",
        "      print(\"Hello {}, your age is: {}.\".format(name, age))"
      ],
      "id": "69rJDNo7ByVP",
      "execution_count": null,
      "outputs": []
    },
    {
      "cell_type": "markdown",
      "metadata": {
        "id": "1ttUY1nKEoqp"
      },
      "source": [
        "#### Test Out Solution 2"
      ],
      "id": "1ttUY1nKEoqp"
    },
    {
      "cell_type": "code",
      "metadata": {
        "colab": {
          "base_uri": "https://localhost:8080/"
        },
        "id": "WjRSJvqwEq-l",
        "outputId": "639832c8-e699-4010-d59e-dd2d542222c0"
      },
      "source": [
        "inform_ages_2(names, ages)"
      ],
      "id": "WjRSJvqwEq-l",
      "execution_count": null,
      "outputs": [
        {
          "output_type": "stream",
          "text": [
            "Hello Khiem, your age is: 24.\n",
            "Hello Alex, your age is: 25.\n",
            "Hello Mike, your age is: 26.\n"
          ],
          "name": "stdout"
        }
      ]
    },
    {
      "cell_type": "markdown",
      "metadata": {
        "id": "sustainable-brunswick"
      },
      "source": [
        "## Activity 26: String Concatenation\n",
        "\n",
        "One common string operation is joining two or more strings together, to form a larger one - this is known as *concatenation*. \n",
        "\n",
        "Let's challenge your string concatenation skills: for example, say you are given a list of strings, `strings`, and another string that is just a single word - `word`.\n",
        "\n",
        "How would you implement Python code to concatenate the elements in `strings` together, with the `word` string placed in-between every pair of elements in the output?"
      ],
      "id": "sustainable-brunswick"
    },
    {
      "cell_type": "markdown",
      "metadata": {
        "id": "JGtlRMQZKzXX"
      },
      "source": [
        "### Example Input\n",
        "\n",
        "```\n",
        "Input:\n",
        "strings = [\n",
        "  'How was work?', \n",
        "  'day, ', \n",
        "  'dollar.'\n",
        "]\n",
        "word = ' Another ' \n",
        "\n",
        "Output:\n",
        "How was work? Another day, Another dollar\n",
        "\n",
        "Explanation:\n",
        "The word ' Another ' is placed in between the 1st and 2nd elements in the list, as well as the 2nd and 3rd.\n",
        "```"
      ],
      "id": "JGtlRMQZKzXX"
    },
    {
      "cell_type": "code",
      "metadata": {
        "id": "hollow-passing"
      },
      "source": [
        "strings = ['How was work?', 'day,', 'dollar.']\n",
        "word = ' Another ' "
      ],
      "id": "hollow-passing",
      "execution_count": null,
      "outputs": []
    },
    {
      "cell_type": "markdown",
      "metadata": {
        "id": "OL87Oy76Nqk6"
      },
      "source": [
        "### Solution 1: Using String Addition\n",
        "\n",
        "Strings in Python are just another kind of iterable. Therefore, Python lets us concatenate strings with the `+` operator, and that itself will create a larger string:"
      ],
      "id": "OL87Oy76Nqk6"
    },
    {
      "cell_type": "code",
      "metadata": {
        "id": "antique-estonia"
      },
      "source": [
        "def concatenate_strings_1(strings, word):\n",
        "    # A: init the output string\n",
        "    message = ''\n",
        "    # B: construct the message \n",
        "    for index, string in enumerate(strings):\n",
        "        # add the next string to the output\n",
        "        message = message + string\n",
        "        # also add the word (if we haven't reached the last element yet)\n",
        "        if index != len(strings) - 1:\n",
        "            message = message + word\n",
        "    # C: display the output string\n",
        "    print(message)"
      ],
      "id": "antique-estonia",
      "execution_count": null,
      "outputs": []
    },
    {
      "cell_type": "markdown",
      "metadata": {
        "id": "D0KA60YVPKMy"
      },
      "source": [
        "#### Test Out Solution 1"
      ],
      "id": "D0KA60YVPKMy"
    },
    {
      "cell_type": "code",
      "metadata": {
        "colab": {
          "base_uri": "https://localhost:8080/"
        },
        "id": "35SzmDUOPL6C",
        "outputId": "b1ebd67c-44a9-4ebb-d44c-4fa8fb9e8f24"
      },
      "source": [
        "concatenate_strings_1(strings, word)"
      ],
      "id": "35SzmDUOPL6C",
      "execution_count": null,
      "outputs": [
        {
          "output_type": "stream",
          "text": [
            "How was work? Another day, Another dollar.\n"
          ],
          "name": "stdout"
        }
      ]
    },
    {
      "cell_type": "markdown",
      "metadata": {
        "id": "GjUaxcs_Qh08"
      },
      "source": [
        "### Solution 2: Using `str.join()`\n",
        "\n",
        "The `str` type in Python also comes with a method to make concatenation much easier: `str.join()`.\n",
        "\n",
        "This method is preferred to using addition. Not only is it more Pythonic, `str.join()` is also costs less computational resources. You may read more about its syntax in the [Python documenation](https://docs.python.org/3/library/stdtypes.html#str.join).\n",
        "\n",
        "Please see below an example of how this works:"
      ],
      "id": "GjUaxcs_Qh08"
    },
    {
      "cell_type": "code",
      "metadata": {
        "id": "automotive-entrepreneur"
      },
      "source": [
        "def concatenate_strings_2(strings, word): \n",
        "    # construct + display the output string\n",
        "    print(word.join(strings))"
      ],
      "id": "automotive-entrepreneur",
      "execution_count": null,
      "outputs": []
    },
    {
      "cell_type": "markdown",
      "metadata": {
        "id": "ZgCJYZ8hS_OK"
      },
      "source": [
        "#### Test Out Solution 2"
      ],
      "id": "ZgCJYZ8hS_OK"
    },
    {
      "cell_type": "code",
      "metadata": {
        "colab": {
          "base_uri": "https://localhost:8080/"
        },
        "id": "h3_CUksUTFHm",
        "outputId": "59ddb93f-233d-4db7-c9e4-120afc4d2a1a"
      },
      "source": [
        "concatenate_strings_2(strings, word)"
      ],
      "id": "h3_CUksUTFHm",
      "execution_count": null,
      "outputs": [
        {
          "output_type": "stream",
          "text": [
            "How was work? Another day, Another dollar.\n"
          ],
          "name": "stdout"
        }
      ]
    },
    {
      "cell_type": "markdown",
      "metadata": {
        "id": "hourly-burst"
      },
      "source": [
        "## Activity 27: Age Record\n",
        "\n",
        "You are given two lists of equal size:\n",
        "\n",
        "1. `names`: this contains the names of several people, and\n",
        "2. `ages`: this has the ages of those people. The values are ordered such that for any index `i`, `ages[i]` is the age of the person with the name located at `names[i]`.\n",
        "\n",
        "How would you implement Python code to map each person's name to their age, all in one data structure?"
      ],
      "id": "hourly-burst"
    },
    {
      "cell_type": "markdown",
      "metadata": {
        "id": "jNK6UAnpoohP"
      },
      "source": [
        "### Example Input\n",
        "\n",
        "This activity is a classic example of when to use a `dict` object:\n",
        "\n",
        "```\n",
        "Input:\n",
        "ages = ['15', '27', '67', '102']\n",
        "names = ['Jessica', 'Daniel', 'Edward', 'Oscar']\n",
        "\n",
        "Output:\n",
        "{\n",
        "  'Jessica': '15', \n",
        "  'Daniel': '27', \n",
        "  'Edward': '67', \n",
        "  'Oscar': '102'\n",
        "}\n",
        "```"
      ],
      "id": "jNK6UAnpoohP"
    },
    {
      "cell_type": "code",
      "metadata": {
        "id": "yzWyfNeMpObj"
      },
      "source": [
        "ages = ['15', '27', '67', '102']\n",
        "names = ['Jessica', 'Daniel', 'Edward', 'Oscar']"
      ],
      "id": "yzWyfNeMpObj",
      "execution_count": null,
      "outputs": []
    },
    {
      "cell_type": "markdown",
      "metadata": {
        "id": "5wip1LPzn_B3"
      },
      "source": [
        "### Solution 1: `zip()` Revisited\n",
        "\n",
        "In a separate activity, we saw how using the `zip()` function made it easier to iterate over multiple lists at the same time, and how this is meaningful when those lists have values at each index that correspond to one another.\n",
        "\n",
        "Now let's see how using `zip()` can also make it easier to construct a Python dictionary:"
      ],
      "id": "5wip1LPzn_B3"
    },
    {
      "cell_type": "code",
      "metadata": {
        "id": "lined-reservation"
      },
      "source": [
        "def age_record(names, ages):\n",
        "    records = {}\n",
        "    for age, name in zip(ages, names):\n",
        "        records[name] = age\n",
        "    return records"
      ],
      "id": "lined-reservation",
      "execution_count": null,
      "outputs": []
    },
    {
      "cell_type": "markdown",
      "metadata": {
        "id": "QgJW81-wpAcL"
      },
      "source": [
        "#### Test Out Solution 1"
      ],
      "id": "QgJW81-wpAcL"
    },
    {
      "cell_type": "code",
      "metadata": {
        "colab": {
          "base_uri": "https://localhost:8080/"
        },
        "id": "dN6wSx-wpLDP",
        "outputId": "20412257-e2db-4cdf-eb37-378047ddeb0f"
      },
      "source": [
        "age_record(names, ages)"
      ],
      "id": "dN6wSx-wpLDP",
      "execution_count": null,
      "outputs": [
        {
          "output_type": "execute_result",
          "data": {
            "text/plain": [
              "{'Daniel': '27', 'Edward': '67', 'Jessica': '15', 'Oscar': '102'}"
            ]
          },
          "metadata": {
            "tags": []
          },
          "execution_count": 31
        }
      ]
    },
    {
      "cell_type": "markdown",
      "metadata": {
        "id": "subsequent-blend"
      },
      "source": [
        "## Activity 28: Group Anagrams\n",
        "\n",
        "You are given a list of strings, `strings`. How would you implement Python code to group together the strings in this list that are anagrams of one another?\n",
        "\n",
        "Assume that strings only contain lowercase English letters."
      ],
      "id": "subsequent-blend"
    },
    {
      "cell_type": "markdown",
      "metadata": {
        "id": "zymLINactj2t"
      },
      "source": [
        "### Example Input\n",
        "\n",
        "In this activity, please return a 2D list.\n",
        "\n",
        "```\n",
        "Input:\n",
        "strings = [ 'eat', 'ate', 'apt', 'pat', 'tea', 'now' ] \n",
        "\n",
        "Output: \n",
        "[\n",
        "  ['eat', 'ate', 'tea'], \n",
        "  ['apt', 'pat'], \n",
        "  ['now'] \n",
        "]\n",
        "\n",
        "Explanation: \n",
        "Each index of the output contains a list of words, which all contain the same distribution of English letters. \n",
        "```"
      ],
      "id": "zymLINactj2t"
    },
    {
      "cell_type": "code",
      "metadata": {
        "id": "RIkBREY5uUOe"
      },
      "source": [
        "strings = ['eat', 'ate', 'apt', 'pat', 'tea', 'now'] "
      ],
      "id": "RIkBREY5uUOe",
      "execution_count": 7,
      "outputs": []
    },
    {
      "cell_type": "markdown",
      "metadata": {
        "id": "1VLjV2WWuMXF"
      },
      "source": [
        "### Solution 1: Brute Force\n",
        "\n",
        "Note: this solution also introduces the `itertools.chain` function - this is a utility in Python that allows us to efficiently \"flatten\" an multidimensional array.\n",
        "\n",
        "For example, if we have a 2-dimensional array such as the following:\n",
        "\n",
        "```\n",
        "[\n",
        "  [1, 2, 3],\n",
        "  [4, 5, 6]\n",
        "]\n",
        "```\n",
        "Then it would return back an iterator that would output `[1, 2, 3, 4, 5, 6]`. For more on this function, please see the [Python documentation](https://docs.python.org/3/library/itertools.html#itertools.chain).\n",
        "\n",
        "This can be useful when we want to see if a certain value exists along any axis in a matrix, as you will see in the following example:"
      ],
      "id": "1VLjV2WWuMXF"
    },
    {
      "cell_type": "code",
      "metadata": {
        "id": "outdoor-terrain"
      },
      "source": [
        "import itertools\n",
        "from collections import Counter\n",
        "\n",
        "def group_anagrams_1(strings):        \n",
        "    # A: init output matrix with maximum no. of groupings\n",
        "    groups = [[] for _ in range(len(strings))]\n",
        "    # B: group strings that are anagrams\n",
        "    for index in range(len(strings)):\n",
        "        first_word = strings[index]\n",
        "        # check every subsequent string\n",
        "        for second_index in range(index, len(strings)):\n",
        "            second_word = strings[second_index]\n",
        "            # ensure the strings are anagrams\n",
        "            if Counter(first_word) == Counter(second_word):\n",
        "                # and that the second string is not already in a group\n",
        "                if second_word not in list(itertools.chain(*groups)):\n",
        "                    groups[index].append(second_word)\n",
        "    # C: return the groups of anagrams\n",
        "    return [element for element in groups if element != []]"
      ],
      "id": "outdoor-terrain",
      "execution_count": null,
      "outputs": []
    },
    {
      "cell_type": "markdown",
      "metadata": {
        "id": "jZD69ZUrubEC"
      },
      "source": [
        "#### Test Out Solution 1"
      ],
      "id": "jZD69ZUrubEC"
    },
    {
      "cell_type": "code",
      "metadata": {
        "colab": {
          "base_uri": "https://localhost:8080/"
        },
        "id": "_PWVpX3Quc6d",
        "outputId": "4f43c64d-dbae-4d3c-f1a2-1eb717a4083b"
      },
      "source": [
        "print(group_anagrams_1(strings))"
      ],
      "id": "_PWVpX3Quc6d",
      "execution_count": null,
      "outputs": [
        {
          "output_type": "stream",
          "text": [
            "[['eat', 'ate', 'tea'], ['apt', 'pat'], ['teeea'], ['now']]\n"
          ],
          "name": "stdout"
        }
      ]
    },
    {
      "cell_type": "markdown",
      "metadata": {
        "id": "hLx4rczuC7LR"
      },
      "source": [
        "### Solution 2: Using Unicode Values\n",
        "\n",
        "This solution takes less time asymptotically than the one above. There were **two main issues** with the former solution:"
      ],
      "id": "hLx4rczuC7LR"
    },
    {
      "cell_type": "markdown",
      "metadata": {
        "id": "3hc9GjT2q46b"
      },
      "source": [
        "#### Issue 1: Duplicated Work\n",
        "in Solution 1 we needed a nested `for` loop to compare each string, with every subsequent string. \n",
        "\n",
        "However, in this solution we introduce `ord()`, a built-in function in Python that gives the corresponding Unicode value for a given character. For example:\n",
        "\n",
        "- `ord('a')` returns 97...\n",
        "- `ord('b')` returns 98...\n",
        "- `ord('c')` returns 99...\n",
        "\n",
        "...and so on and so forth. So just as strings themselves represent *arrays of characters*, we can now represent strings as *arrays of the Unicode values* that correspond to each of their characters. \n",
        "\n",
        "How exactly do we do this? We can implement this as a helper function called `encode()`, which takes in a string, and computes a histogram of the Unicode values represented by a given word using a `list` with 26 index positions (one for each letter in the English alphabet):"
      ],
      "id": "3hc9GjT2q46b"
    },
    {
      "cell_type": "code",
      "metadata": {
        "id": "Wt4o545esems"
      },
      "source": [
        "def encode(word):\n",
        "    '''Computes a histogram of Unicode values represented in a string.'''\n",
        "    histogram = [0 for _ in range(26)]\n",
        "    for letter in word:\n",
        "        # find an index for this letter's Unicode value\n",
        "        histogram[ord(letter) - ord('a')] += 1\n",
        "    # cast the histogram as a tuple, so it can be used a key in a dictionary\n",
        "    return tuple(histogram)"
      ],
      "id": "Wt4o545esems",
      "execution_count": 12,
      "outputs": []
    },
    {
      "cell_type": "markdown",
      "metadata": {
        "id": "96QVqtYXsg51"
      },
      "source": [
        "So how does `encode()` speed us up? Now that we have a standardized way to represent the strings, we can avoid a nested `for` loop to compare them all with each other upfront. Instead, we can simply focus on encoding each string one at a time. Finally, we can add them to a `defaultdict`, which essentially takes over making the groups for us."
      ],
      "id": "96QVqtYXsg51"
    },
    {
      "cell_type": "markdown",
      "metadata": {
        "id": "J1vqv55HrCZq"
      },
      "source": [
        "#### Issue 2: Bottlenecks \n",
        "\n",
        "Speaking of `defaultdict` - why is this so much better than using a 2D array to represent the groups as seen in Solution 1?\n",
        "\n",
        "This is because in Solution 1, we needed to repeatedly check whether the `second_word` we found to be an anagram had already been added to one of the groups or not using `itertools.chain`. This is a linear time operation, and we can be avoid it with a better understanding of the problem.\n",
        "\n",
        "Under the hood, a `defaultdict` (as well as the related `dict` and `Counter` types) uses a `hash` function to add new values - and this function outputs the same value for the same input. \n",
        "\n",
        "Recall that anagrams are just strings with the same distribution of characters. The `encode()` function gives us a way to express these distributions with the same output from the `hash` function (also called the *hash code*):\n"
      ],
      "id": "J1vqv55HrCZq"
    },
    {
      "cell_type": "code",
      "metadata": {
        "colab": {
          "base_uri": "https://localhost:8080/"
        },
        "id": "UgQxHXhRr3fq",
        "outputId": "612dd464-e0a5-43df-81f6-4fdb18aa9a06"
      },
      "source": [
        "# Observe: the hash() function computes the same values for encoded anagrams\n",
        "anagram1, anagram2 = 'cat', 'tac'\n",
        "hist1, hist2 = encode(anagram1), encode(anagram2)\n",
        "print(f'The first string has the following hash code: {hash(hist1)}.')\n",
        "print(f'And its anagram string has an identical hash code: {hash(hist2)}.')"
      ],
      "id": "UgQxHXhRr3fq",
      "execution_count": 14,
      "outputs": [
        {
          "output_type": "stream",
          "text": [
            "The first string has the following hash code: -8971112399752404826.\n",
            "And its anagram string has an identical hash code: -8971112399752404826.\n"
          ],
          "name": "stdout"
        }
      ]
    },
    {
      "cell_type": "markdown",
      "metadata": {
        "id": "1YjuHYGer7P3"
      },
      "source": [
        "Ultimately, this means that we are already guaranteed that anagrams will end up in the same group in our `defaultdict`, because only those strings will have equivalent hash codes."
      ],
      "id": "1YjuHYGer7P3"
    },
    {
      "cell_type": "markdown",
      "metadata": {
        "id": "Ko-7sxU6r8L7"
      },
      "source": [
        "### Bringing It All Together\n",
        "The full implementation of Solution 2 follows below:"
      ],
      "id": "Ko-7sxU6r8L7"
    },
    {
      "cell_type": "code",
      "metadata": {
        "id": "southern-article"
      },
      "source": [
        "from collections import defaultdict\n",
        "\n",
        "def group_anagrams_2(strings):\n",
        "    # A: init dictionary to store groups\n",
        "    groups = defaultdict(list)\n",
        "    # B: place each string in one of the groups\n",
        "    for word in strings:\n",
        "        # a: enode the string as a histogram of Unicode values \n",
        "        unicode_value_histogram = encode(word)\n",
        "        # b: place this word in the appropiate group\n",
        "        groups[unicode_value_histogram].append(word)\n",
        "    # C: return the groups of anagrams\n",
        "    return list(groups.values())"
      ],
      "id": "southern-article",
      "execution_count": 16,
      "outputs": []
    },
    {
      "cell_type": "markdown",
      "metadata": {
        "id": "kp-WaKwmIM0-"
      },
      "source": [
        "#### Test Out Solution 2"
      ],
      "id": "kp-WaKwmIM0-"
    },
    {
      "cell_type": "code",
      "metadata": {
        "colab": {
          "base_uri": "https://localhost:8080/"
        },
        "id": "LidCGFPLEF7q",
        "outputId": "4a3c47ae-ef7d-4109-9ea6-dc46f4bd3d01"
      },
      "source": [
        "print(group_anagrams_2(strings))"
      ],
      "id": "LidCGFPLEF7q",
      "execution_count": 15,
      "outputs": [
        {
          "output_type": "stream",
          "text": [
            "[['eat', 'ate', 'tea'], ['apt', 'pat'], ['now']]\n"
          ],
          "name": "stdout"
        }
      ]
    },
    {
      "cell_type": "markdown",
      "metadata": {
        "id": "available-northwest"
      },
      "source": [
        "## Activity 29: Modelling Exponential Growth\n",
        "\n",
        "Consider a person working in a company. Their base salary is $115K per year. At that company, their salary increases at a rate of 3% annually.\n",
        "\n",
        "How would you implement Python code to show what amount this person's salary will be each year, for the next 10 years they work at the company? You may round your answers to the nearest thousand."
      ],
      "id": "available-northwest"
    },
    {
      "cell_type": "markdown",
      "metadata": {
        "id": "Srks5ih10sPI"
      },
      "source": [
        "### Example Input\n",
        "\n",
        "Recall that the formula to calculate the quantity of some variable $P$ is the following:\n",
        "\n",
        "$P(t) =  P$<sub>0</sub> $(1 + r) * t$\n",
        "\n",
        "Where:\n",
        "- $P(t)$ = the value of $P$ in a given year\n",
        "- $P$<sub>0</sub> = the initial value of $P$\n",
        "- $r$ = the percentage at which $P$ increases each year\n",
        "- $t$ = the year in which $P$ reaches the value of $P(t)$\n",
        "\n",
        "To soldify this concept, try to calculate what salary our employee will have after 10 years of working at the company:\n",
        "```\n",
        "Inputs:\n",
        "base_salary = 115\n",
        "rate = 0.03\n",
        "years = 10\n",
        "\n",
        "Output:\n",
        "$155,000\n",
        "\n",
        "Explanation\n",
        "Substituting the variables into the formula above, we get the following:\n",
        "P(10) =  115 (1.03) * 10\n",
        "P(10) = 154.55, which approximates to $155K\n",
        "```"
      ],
      "id": "Srks5ih10sPI"
    },
    {
      "cell_type": "code",
      "metadata": {
        "id": "TGoWY7TF7_zb"
      },
      "source": [
        "base_salary = 115\n",
        "rate = 0.03\n",
        "years = 10"
      ],
      "id": "TGoWY7TF7_zb",
      "execution_count": 24,
      "outputs": []
    },
    {
      "cell_type": "markdown",
      "metadata": {
        "id": "Hq14Lx2Fy7Yf"
      },
      "source": [
        "### Solution 1: Using a `for` loop\n",
        "\n",
        "While the above example shows how the calculate the person's salary for a given year, we can also calculate it for each year using a `for` loop. The salary that the person earns each year is essentially just what they earned last year, plus an additional 3% on whatever amount that last year's salary was:"
      ],
      "id": "Hq14Lx2Fy7Yf"
    },
    {
      "cell_type": "code",
      "metadata": {
        "id": "suspected-cleaning"
      },
      "source": [
        "def salary_increase(base_salary, rate, years):\n",
        "    # A: init a list of salaries this person will have \n",
        "    salaries = list()\n",
        "    # B: calculate the salaries they will have each yr\n",
        "    prev_salary = base_salary\n",
        "    for year_num in range(years):\n",
        "        # a: the salary paid to the person is rounded to the nearest thousand\n",
        "        next_salary = (1 + rate) * prev_salary\n",
        "        paid_salary = round(next_salary, 0)\n",
        "        salaries.append(paid_salary)\n",
        "        # b: prepare for next year's calculation\n",
        "        prev_salary = next_salary\n",
        "    # C: return the list of salaries\n",
        "    return salaries"
      ],
      "id": "suspected-cleaning",
      "execution_count": 25,
      "outputs": []
    },
    {
      "cell_type": "markdown",
      "metadata": {
        "id": "0fRbb7Qc0n9T"
      },
      "source": [
        "#### Test Out Solution 1"
      ],
      "id": "0fRbb7Qc0n9T"
    },
    {
      "cell_type": "code",
      "metadata": {
        "colab": {
          "base_uri": "https://localhost:8080/"
        },
        "id": "fGNMyPMM0qEF",
        "outputId": "15a0b516-664a-4839-d17b-50a02a0222d1"
      },
      "source": [
        "print(salary_increase(115, 0.03, 10))"
      ],
      "id": "fGNMyPMM0qEF",
      "execution_count": 26,
      "outputs": [
        {
          "output_type": "stream",
          "text": [
            "[118.0, 122.0, 126.0, 129.0, 133.0, 137.0, 141.0, 146.0, 150.0, 155.0]\n"
          ],
          "name": "stdout"
        }
      ]
    },
    {
      "cell_type": "markdown",
      "metadata": {
        "id": "cognitive-toolbox"
      },
      "source": [
        "## Activity: Compound function\n",
        "\n",
        "- For a given function (f), starting point (a0) and number of iteration (m), write a function that calculates f(a0), f(f(a0)), ..., f(f(f(...f(a0)))))"
      ],
      "id": "cognitive-toolbox"
    },
    {
      "cell_type": "code",
      "metadata": {
        "id": "rubber-terry",
        "outputId": "5b8b3558-ff3f-4d57-e9bf-b4f2cce63acc"
      },
      "source": [
        "f= lambda x: (x+n/x)/2\n",
        "n = 2\n",
        "a0 = 1.0\n",
        "m = 4\n",
        "# This implementation is not good as it is hard-coded\n",
        "print([round(x, 8) for x in (f(a0), f(f(a0)), f(f(f(a0))), f(f(f(f(a0)))))])"
      ],
      "id": "rubber-terry",
      "execution_count": null,
      "outputs": [
        {
          "output_type": "stream",
          "text": [
            "[1.5, 1.41666667, 1.41421569, 1.41421356]\n"
          ],
          "name": "stdout"
        }
      ]
    },
    {
      "cell_type": "code",
      "metadata": {
        "id": "informational-cuisine",
        "outputId": "6f95ea62-721a-487a-dcae-f52014b273ec"
      },
      "source": [
        "def repeat(f, a, m):\n",
        "    for _ in range(m):\n",
        "        a = f(a)  \n",
        "        yield a\n",
        "    \n",
        "for i in repeat(f, 1, 4):\n",
        "    print(round(i, 8))"
      ],
      "id": "informational-cuisine",
      "execution_count": null,
      "outputs": [
        {
          "output_type": "stream",
          "text": [
            "1.5\n",
            "1.41666667\n",
            "1.41421569\n",
            "1.41421356\n"
          ],
          "name": "stdout"
        }
      ]
    },
    {
      "cell_type": "markdown",
      "metadata": {
        "id": "close-trinity"
      },
      "source": [
        "### Note: the above compound iteration will converge to $\\sqrt{n}$ "
      ],
      "id": "close-trinity"
    },
    {
      "cell_type": "code",
      "metadata": {
        "id": "freelance-skiing",
        "outputId": "20727ae8-d2b0-46da-ee6a-323aa61279c8"
      },
      "source": [
        "# Note: the above coumpound iteration will converge to np.sqrt(n) \n",
        "import numpy as np\n",
        "np.sqrt(n)"
      ],
      "id": "freelance-skiing",
      "execution_count": null,
      "outputs": [
        {
          "output_type": "execute_result",
          "data": {
            "text/plain": [
              "1.4142135623730951"
            ]
          },
          "metadata": {
            "tags": []
          },
          "execution_count": 203
        }
      ]
    }
  ]
}