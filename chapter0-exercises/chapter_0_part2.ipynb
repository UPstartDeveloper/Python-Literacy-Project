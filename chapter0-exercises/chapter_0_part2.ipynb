{
  "nbformat": 4,
  "nbformat_minor": 5,
  "metadata": {
    "kernelspec": {
      "display_name": "Python 3",
      "language": "python",
      "name": "python3"
    },
    "language_info": {
      "codemirror_mode": {
        "name": "ipython",
        "version": 3
      },
      "file_extension": ".py",
      "mimetype": "text/x-python",
      "name": "python",
      "nbconvert_exporter": "python",
      "pygments_lexer": "ipython3",
      "version": "3.6.5"
    },
    "colab": {
      "name": "chapter_0_part2.ipynb",
      "provenance": [],
      "collapsed_sections": [
        "thirty-configuration",
        "wicked-roberts",
        "close-trinity"
      ],
      "toc_visible": true,
      "include_colab_link": true
    }
  },
  "cells": [
    {
      "cell_type": "markdown",
      "metadata": {
        "id": "view-in-github",
        "colab_type": "text"
      },
      "source": [
        "<a href=\"https://colab.research.google.com/github/UPstartDeveloper/Python-Literacy-Project/blob/main/chapter0-exercises/chapter_0_part2.ipynb\" target=\"_parent\"><img src=\"https://colab.research.google.com/assets/colab-badge.svg\" alt=\"Open In Colab\"/></a>"
      ]
    },
    {
      "cell_type": "markdown",
      "metadata": {
        "id": "painted-boutique"
      },
      "source": [
        "## Activity 17: Modelling a Fair Coin\n",
        "\n",
        "Let's say your friend gives you a fair coin. \n",
        "\n",
        "Let $P(H)$ = a, the probability of getting heads when you flip the coin. Of course, this also makes the probability of getting tails, $P(T)$, equal to 1 - a.\n",
        "\n",
        "Now, say we toss this coin three times. What is the probability that we get heads on two out of the three flips?\n",
        "\n",
        "Calculate this value by hand, and then please write Python code to verify your answer on 1,000 coin flips (hint: use the `random` module)!\n",
        "\n"
      ],
      "id": "painted-boutique"
    },
    {
      "cell_type": "markdown",
      "metadata": {
        "id": "GEgcbkprcQnM"
      },
      "source": [
        "### The Mathematical Solution\n",
        "\n",
        "Let's start by breaking down the probabilities of 1 coin flip. As you may already know, this only has 2 outcomes, each of which are equally likely: heads or tails.\n",
        "\n",
        "To give a visual, observe the following diagram which shows the possible outcomes for 1 random coin toss:\n",
        "\n",
        "<img src=\"https://i.postimg.cc/FznFdxdm/Screen-Shot-2021-05-31-at-3-59-29-PM.png\" alt=\"1 random coin toss\" height=\"225px\" width=\"350px\">\n",
        "\n",
        "So how many ways can we have 2 heads on 3 of the coin flips?\n",
        "\n",
        "As more and more flips happen, we will continue to have either heads or tails. Essentially, this means our original diagram can be expanded, and to show all the possibile results we could have:\n",
        "\n",
        "<img src=\"https://i.postimg.cc/G3vZ4KDj/Screen-Shot-2021-05-31-at-4-10-13-PM.png\" alt=\"3 random coin tosses\" height=\"225px\" width=\"355px\">\n",
        "\n",
        "As you can see, there are 8 total permutations of what 3 faces our coin will land on. As well, there are 3 in particular which have 2 heads: HHT, HTH, and THH (try to spot them in the diagram above, in case you are not convinced)!\n",
        "\n",
        "Since all of the 8 permutations are equally likely to occur, we can then conclude our probability is `3/8`, or 0.375."
      ],
      "id": "GEgcbkprcQnM"
    },
    {
      "cell_type": "markdown",
      "metadata": {
        "id": "sN8IlbOFcVOj"
      },
      "source": [
        "### The Python Solution\n",
        "\n",
        "To model this experiment in code, one approach we can take is:\n",
        "\n",
        "```\n",
        "Pseudocode for Modelling a Fair Coin\n",
        "1. Examine the results of 1000 trials, where each trial is defined tossing the coin 3 times.\n",
        "2. Then, we can keep track of an integer called `occurences` to record the number of trials in which we have one of our desired permutations (i.e. either HHT, HTH, or THH).\n",
        "3. Finally, we can compute the answer by dividing the number of trials where our desired outcome occurred, by the total number of trials: `occurences/1000`.\n",
        "```\n",
        "Before actually writing this function though, you may still have several questions. For example, how are we supposed to generate random events in Python?"
      ],
      "id": "sN8IlbOFcVOj"
    },
    {
      "cell_type": "markdown",
      "metadata": {
        "id": "YoPPT-ZzgydJ"
      },
      "source": [
        "#### Mini-Lesson: How to Simulate Random Events in Python\n",
        "\n",
        "The following code snippet provides a straightforward process you can follow for modelling probability. For more on the `random.choices` function, you may read more on the [Python documentation](https://docs.python.org/3/library/random.html?highlight=random#random.choices) as you wish."
      ],
      "id": "YoPPT-ZzgydJ"
    },
    {
      "cell_type": "code",
      "metadata": {
        "colab": {
          "base_uri": "https://localhost:8080/"
        },
        "id": "english-federation",
        "outputId": "cc8243fd-5a2d-4e39-8f87-5f587f338ad8"
      },
      "source": [
        "from random import choices\n",
        "\n",
        "# A: first, define the possible outcomes that can occur\n",
        "event = ['H', 'T'] \n",
        "# B: then, define their respective probabilities\n",
        "weights = [0.3, 0.7]  \n",
        "# C: run the simulation!\n",
        "for _ in range(10):  \n",
        "    # D: print the results, to verify it follows our assigned probabilities\n",
        "    print(choices(event, weights))"
      ],
      "id": "english-federation",
      "execution_count": 46,
      "outputs": [
        {
          "output_type": "stream",
          "text": [
            "['T']\n",
            "['H']\n",
            "['T']\n",
            "['T']\n",
            "['T']\n",
            "['T']\n",
            "['T']\n",
            "['T']\n",
            "['H']\n",
            "['H']\n"
          ],
          "name": "stdout"
        }
      ]
    },
    {
      "cell_type": "markdown",
      "metadata": {
        "id": "89D-ZjmTgvym"
      },
      "source": [
        "#### Code Implementation\n",
        "\n",
        "From above, we know modelling a random event needs 3 parameters:\n",
        "1. The possible events that can happen\n",
        "2. The probabilities of each of those events\n",
        "3. The number of trials to simulate\n",
        "\n",
        "For this solution, let's leave out 1, since we already know this is for a fair coin.\n",
        "\n",
        "Therefore, our function only needs to take in the remaining two input arguments: \n",
        "1. The probability of landing on heads (since we can already compute the $P(T)$ with that information),\n",
        "2. And the number of trials to run.\n",
        "    \n",
        "Using the pseudocode above and what we now know about the `random` module, we can therefore implement something like the code below to see if our mathematical answer is truly correct:"
      ],
      "id": "89D-ZjmTgvym"
    },
    {
      "cell_type": "code",
      "metadata": {
        "id": "academic-bankruptcy"
      },
      "source": [
        "def compute_proba(probability_heads, trials):\n",
        "    # A: set the parameters of the random event\n",
        "    events = ['H', 'T']\n",
        "    weights = [probability_heads, 1 - probability_heads]\n",
        "    # B: count how many times the desired outcome occurs\n",
        "    occurences = 0\n",
        "    for _ in range(trials):\n",
        "        # C: check the results after 1 trial\n",
        "        trial_results = [\n",
        "          choices(events, weights)[0],  # 1st coin flip\n",
        "          choices(events, weights)[0],  # 2nd coin flip\n",
        "          choices(events, weights)[0]   # 3rd coin flip\n",
        "        ]\n",
        "        if trial_results.count(\"H\") == 2:\n",
        "            occurences += 1\n",
        "    # D: return the probability\n",
        "    return (occurences / trials)\n"
      ],
      "id": "academic-bankruptcy",
      "execution_count": 48,
      "outputs": []
    },
    {
      "cell_type": "markdown",
      "metadata": {
        "id": "9BXSOLuTkT5D"
      },
      "source": [
        "#### Test Out the Python Solution"
      ],
      "id": "9BXSOLuTkT5D"
    },
    {
      "cell_type": "code",
      "metadata": {
        "colab": {
          "base_uri": "https://localhost:8080/"
        },
        "id": "QY52_-8-kXo7",
        "outputId": "1a751a16-7886-4eaa-c969-aa8dab978a98"
      },
      "source": [
        "a = 0.5 # the probability of landing on heads \n",
        "num_trials = 1000\n",
        "print(compute_proba(a, num_trials))  # computed probability after 1,000 trials\n",
        "print(3*(a**2)*(1-a)) # expected probability - does it match with the above?"
      ],
      "id": "QY52_-8-kXo7",
      "execution_count": 49,
      "outputs": [
        {
          "output_type": "stream",
          "text": [
            "0.369\n",
            "0.375\n"
          ],
          "name": "stdout"
        }
      ]
    },
    {
      "cell_type": "markdown",
      "metadata": {
        "id": "global-butler"
      },
      "source": [
        "## Activity: Remove duplicates from a given list\n",
        "\n",
        "- We can implement this in at least 5 different ways\n",
        "- TODO:\n",
        "  1. mention you can return the unique numbers in any data structure\n",
        "  2. they can be in any order\n",
        "  3. But the input list itself is immutable - must remain unchanged\n",
        "  4. and you can assume the numbers are positive integers"
      ],
      "id": "global-butler"
    },
    {
      "cell_type": "code",
      "metadata": {
        "id": "answering-smooth"
      },
      "source": [
        "nums = [2, 3, 2, 4, 1, 2]"
      ],
      "id": "answering-smooth",
      "execution_count": 15,
      "outputs": []
    },
    {
      "cell_type": "code",
      "metadata": {
        "colab": {
          "base_uri": "https://localhost:8080/"
        },
        "id": "brilliant-exploration",
        "outputId": "b35c7225-3d37-4f97-a251-bd9673e409af"
      },
      "source": [
        "# Solution 1:\n",
        "def remove_deplicates_1(nums):\n",
        "    return set(nums)\n",
        "\n",
        "print(remove_deplicates_1(nums))"
      ],
      "id": "brilliant-exploration",
      "execution_count": 16,
      "outputs": [
        {
          "output_type": "stream",
          "text": [
            "{1, 2, 3, 4}\n"
          ],
          "name": "stdout"
        }
      ]
    },
    {
      "cell_type": "code",
      "metadata": {
        "colab": {
          "base_uri": "https://localhost:8080/"
        },
        "id": "nutritional-pixel",
        "outputId": "f5dffbc8-b691-4cd1-874a-d95f9b4f0fe7"
      },
      "source": [
        "# Solution 2:\n",
        "def remove_duplicates_2(nums):\n",
        "    no_duplicates = []\n",
        "    for num in nums:\n",
        "        if num not in no_duplicates:\n",
        "            no_duplicates.append(num)\n",
        "    return no_duplicates\n",
        "\n",
        "print(remove_duplicates_2(nums))"
      ],
      "id": "nutritional-pixel",
      "execution_count": 18,
      "outputs": [
        {
          "output_type": "stream",
          "text": [
            "[2, 3, 4, 1]\n"
          ],
          "name": "stdout"
        }
      ]
    },
    {
      "cell_type": "code",
      "metadata": {
        "colab": {
          "base_uri": "https://localhost:8080/"
        },
        "id": "textile-invitation",
        "outputId": "134c73ee-f2ed-470a-8d1c-472ee9712cc7"
      },
      "source": [
        "# Solution 3:\n",
        "def remove_duplicates_3(nums):\n",
        "    # A: make a copy of numbers\n",
        "    numbers = nums.copy()\n",
        "    # B: mark the duplicates\n",
        "    for index in range(len(nums)):\n",
        "        # C: if this number appears again, then it's a duplicate\n",
        "        rest_of_list = numbers[index+1:]\n",
        "        if numbers[index] in rest_of_list:\n",
        "            numbers[index] = 0  \n",
        "    # D: return all non-duplicates\n",
        "    return [num for num in numbers if num != 0]\n",
        "\n",
        "print(remove_duplicates_3(nums))"
      ],
      "id": "textile-invitation",
      "execution_count": 23,
      "outputs": [
        {
          "output_type": "stream",
          "text": [
            "[3, 4, 1, 2]\n"
          ],
          "name": "stdout"
        }
      ]
    },
    {
      "cell_type": "markdown",
      "metadata": {
        "id": "DjhcUMXvw8sB"
      },
      "source": [
        "TODO: explain above that this solution is just like above, except we instead\n",
        "    # just delete the duplicate values from the list"
      ],
      "id": "DjhcUMXvw8sB"
    },
    {
      "cell_type": "code",
      "metadata": {
        "colab": {
          "base_uri": "https://localhost:8080/"
        },
        "id": "tribal-choir",
        "outputId": "672704e9-fc38-496b-b64a-abc922cf2809"
      },
      "source": [
        "# Solution 4\n",
        "def remove_duplicates_4(nums):\n",
        "    # A: make a copy of the input\n",
        "    numbers = nums.copy()\n",
        "    # B: delete the duplicates from the list\n",
        "    original_length = len(numbers)\n",
        "    num_checks = 0\n",
        "    index = 0\n",
        "    while num_checks < original_length:\n",
        "        num_checks += 1\n",
        "        rest_of_list = numbers[index+1:]\n",
        "        # C: duplicate found\n",
        "        if numbers[index] in rest_of_list:\n",
        "            del numbers[index]\n",
        "        # D: duplicate not found, so move on to the next indx\n",
        "        else:\n",
        "            index += 1\n",
        "    # E: return only the non-duplicate numbers\n",
        "    return numbers\n",
        "\n",
        "print(remove_duplicates_4(nums))"
      ],
      "id": "tribal-choir",
      "execution_count": 27,
      "outputs": [
        {
          "output_type": "stream",
          "text": [
            "[3, 4, 1, 2]\n"
          ],
          "name": "stdout"
        }
      ]
    },
    {
      "cell_type": "markdown",
      "metadata": {
        "id": "FxtITsvA1pJV"
      },
      "source": [
        "TODO: \n",
        "  1. add a Venn diagram to illustrate how the union operation works\n",
        "  2. mention this solution uses the style of \"Map Reduce\", a programming concept that's very popular in data engineering, and you will probably see more and more as you work with larger datasets"
      ],
      "id": "FxtITsvA1pJV"
    },
    {
      "cell_type": "code",
      "metadata": {
        "colab": {
          "base_uri": "https://localhost:8080/"
        },
        "id": "dangerous-wallpaper",
        "outputId": "d42115b4-3c08-421f-c920-c48e86b988fb"
      },
      "source": [
        "# Solution 5:\n",
        "from functools import reduce\n",
        "\n",
        "def remove_duplicates_map_reduce(nums):\n",
        "    # A: place each element in nums into a set by itself\n",
        "    iterable_sets = map(lambda x:{x}, nums)\n",
        "    # B: define a function to combine sets - collecting only unique numbers\n",
        "    collect_all_unique = lambda set1, set2: set1.union(set2)\n",
        "    # C: decompose the iterable down into a single set\n",
        "    return reduce(collect_all_unique, iterable_sets)\n",
        "\n",
        "print(remove_duplicates_map_reduce([2, 3, 2, 4, 1, 2]))"
      ],
      "id": "dangerous-wallpaper",
      "execution_count": 38,
      "outputs": [
        {
          "output_type": "stream",
          "text": [
            "{1, 2, 3, 4}\n"
          ],
          "name": "stdout"
        }
      ]
    },
    {
      "cell_type": "markdown",
      "metadata": {
        "id": "billion-property"
      },
      "source": [
        "## Activity: Combine dictionaries\n",
        "\n",
        "TODO: \n",
        "  1. mention that if there are any keys in the second that are already present in the first, then place the corresponding values together into a list, and make that the new value in the first\n",
        "  2. again, both the input dictionaries are immutable \n",
        "\n",
        "- d1 = {'a':10, 'b':20, 'c':30}\n",
        "- d2 = {'b': 40, 'd':50}\n",
        "- return d = {'a': 10, 'b': [20, 40], 'c': 50, 'd': 50}"
      ],
      "id": "billion-property"
    },
    {
      "cell_type": "code",
      "metadata": {
        "colab": {
          "base_uri": "https://localhost:8080/"
        },
        "id": "sized-congo",
        "outputId": "a2a26d41-f993-4d08-8595-aceaa1a570b6"
      },
      "source": [
        "def combine_dicts(d1, d2):\n",
        "    # A: init a third dict\n",
        "    combined = d1.copy()\n",
        "    # B: add the key-value pairs from the second \n",
        "    for key_d2, value_d2 in d2.items():\n",
        "        # C: if an value has already been mapped to this key, include both\n",
        "        if key_d2 in combined:\n",
        "            value_d1 = d1[key_d2]\n",
        "            combined[key_d2] = [value_d1, value_d2]\n",
        "        # D: otherwise, just add the key-value pair\n",
        "        else:\n",
        "            combined[key_d2] = value_d2\n",
        "    # E: return the new dict\n",
        "    return combined\n",
        "\n",
        "d1 = {'a':10, 'b':20, 'c':30}\n",
        "d2 = {'b': 40, 'd':50}\n",
        "print(combine_dicts(d1, d2))"
      ],
      "id": "sized-congo",
      "execution_count": 40,
      "outputs": [
        {
          "output_type": "stream",
          "text": [
            "{'a': 10, 'b': [20, 40], 'c': 30, 'd': 50}\n"
          ],
          "name": "stdout"
        }
      ]
    },
    {
      "cell_type": "markdown",
      "metadata": {
        "id": "equal-shock"
      },
      "source": [
        "## Activity: Flatten the given matrix\n",
        "\n",
        "TODO: explain that this means to collect all the elements into a 1D array - they should be in the same order as on would see if your were reading the matrix row-wise"
      ],
      "id": "equal-shock"
    },
    {
      "cell_type": "code",
      "metadata": {
        "colab": {
          "base_uri": "https://localhost:8080/"
        },
        "id": "soviet-accused",
        "outputId": "8dcdf69b-d515-4973-c1ec-bd6eb1bcd8d9"
      },
      "source": [
        "matrix = [[8, 2, 3], [9, 1, 9], [5, 4, 1]]\n",
        "\n",
        "def flatten(matrix):\n",
        "    # A: init the 1-dimensional array\n",
        "    ls = []\n",
        "    # B: add all the elements to it row-wise\n",
        "    for row in matrix:\n",
        "        for element in row:\n",
        "            ls.append(element)\n",
        "    # C: return the populated list\n",
        "    return ls\n",
        "\n",
        "print(flatten(matrix))"
      ],
      "id": "soviet-accused",
      "execution_count": 42,
      "outputs": [
        {
          "output_type": "stream",
          "text": [
            "[8, 2, 3, 9, 1, 9, 5, 4, 1]\n"
          ],
          "name": "stdout"
        }
      ]
    },
    {
      "cell_type": "markdown",
      "metadata": {
        "id": "o-kKYzZc7EBl"
      },
      "source": [
        "TODO: show how to do the same as above, using the list.extend method"
      ],
      "id": "o-kKYzZc7EBl"
    },
    {
      "cell_type": "code",
      "metadata": {
        "id": "UE1OKdqT5w1Z"
      },
      "source": [
        "def flatten(matrix):\n",
        "    # A: init the 1-dimensional array\n",
        "    row_vector = []\n",
        "    # B: like before, add all the elements\n",
        "    for row in matrix:\n",
        "        row_vector.extend(row)\n",
        "    # C: return the populated list\n",
        "    return row_vector"
      ],
      "id": "UE1OKdqT5w1Z",
      "execution_count": 43,
      "outputs": []
    },
    {
      "cell_type": "markdown",
      "metadata": {
        "id": "radio-pencil"
      },
      "source": [
        "## Activity: Obtain the trace of a given square matrix"
      ],
      "id": "radio-pencil"
    },
    {
      "cell_type": "code",
      "metadata": {
        "id": "violent-tactics",
        "outputId": "a8957164-aefd-4b90-b0c2-76f1639c9368"
      },
      "source": [
        "def trace(matx):\n",
        "    c = 0\n",
        "    for index_row, row in enumerate(matrix):\n",
        "        c += matrix[index_row][index_row]\n",
        "    return c\n",
        "\n",
        "print(trace(matrix))   "
      ],
      "id": "violent-tactics",
      "execution_count": null,
      "outputs": [
        {
          "output_type": "stream",
          "text": [
            "10\n"
          ],
          "name": "stdout"
        }
      ]
    },
    {
      "cell_type": "markdown",
      "metadata": {
        "id": "thick-demonstration"
      },
      "source": [
        "## Activity: Obtain the transpose of a given matrix"
      ],
      "id": "thick-demonstration"
    },
    {
      "cell_type": "code",
      "metadata": {
        "id": "musical-industry",
        "outputId": "f196159c-a326-4202-f16d-b5de539b0905"
      },
      "source": [
        "def transpose(matx):\n",
        "    t_m = [[] for _ in range(len(matx[0]))]\n",
        "    # Do not use this: t_m = [[]]*len(matx[0])\n",
        "    for i in range(len(matx[0])):\n",
        "        for row in matrix:\n",
        "            t_m[i].append(row[i])\n",
        "    return t_m\n",
        "\n",
        "print(transpose(matrix))"
      ],
      "id": "musical-industry",
      "execution_count": null,
      "outputs": [
        {
          "output_type": "stream",
          "text": [
            "[[8, 9, 5], [2, 1, 4], [3, 9, 1]]\n"
          ],
          "name": "stdout"
        }
      ]
    },
    {
      "cell_type": "markdown",
      "metadata": {
        "id": "surgical-rubber"
      },
      "source": [
        "## Activity:\n",
        "\n",
        "- The following list of tuples are given, create a dictionary while keys would be the section a person works and values would be list of persons in that section"
      ],
      "id": "surgical-rubber"
    },
    {
      "cell_type": "code",
      "metadata": {
        "id": "lesbian-medicaid",
        "outputId": "b64604b3-e977-4e9e-c011-be70784c1b21"
      },
      "source": [
        "dep = [('Sales', 'John Doe'),\n",
        "       ('Sales', 'Martin Smith'),\n",
        "       ('Accounting', 'Jane Doe'),\n",
        "       ('Marketing', 'Elizabeth Smith'),\n",
        "       ('Marketing', 'Elizabeth Smith'),\n",
        "       ('Marketing', 'Adam Doe'),\n",
        "       ('Marketing', 'Adam Doe'),\n",
        "       ('Marketing', 'Adam Doe')]\n",
        "\n",
        "d = {}\n",
        "for department, employee in dep:\n",
        "    if department in d:\n",
        "        # define temporary variable ls as list\n",
        "        ls = d[department]\n",
        "        ls.append(employee)\n",
        "        d[department] = ls\n",
        "    else:\n",
        "        d[department] = [employee]\n",
        "        \n",
        "print(d)"
      ],
      "id": "lesbian-medicaid",
      "execution_count": null,
      "outputs": [
        {
          "output_type": "stream",
          "text": [
            "{'Sales': ['John Doe', 'Martin Smith'], 'Accounting': ['Jane Doe'], 'Marketing': ['Elizabeth Smith', 'Elizabeth Smith', 'Adam Doe', 'Adam Doe', 'Adam Doe']}\n"
          ],
          "name": "stdout"
        }
      ]
    },
    {
      "cell_type": "code",
      "metadata": {
        "id": "stuck-mercury",
        "outputId": "04f659db-5e72-4635-fcd7-dad5e520591e"
      },
      "source": [
        "## Better way:\n",
        "from collections import defaultdict\n",
        "\n",
        "dep = [('Sales', 'John Doe'),\n",
        "       ('Sales', 'Martin Smith'),\n",
        "       ('Accounting', 'Jane Doe'),\n",
        "       ('Marketing', 'Elizabeth Smith'),\n",
        "       ('Marketing', 'Elizabeth Smith'),\n",
        "       ('Marketing', 'Adam Doe'),\n",
        "       ('Marketing', 'Adam Doe'),\n",
        "       ('Marketing', 'Adam Doe')]\n",
        "\n",
        "dep_dd = defaultdict(list)\n",
        "for department, employee in dep:\n",
        "    dep_dd[department].append(employee)\n",
        "print(dep_dd)"
      ],
      "id": "stuck-mercury",
      "execution_count": null,
      "outputs": [
        {
          "output_type": "stream",
          "text": [
            "defaultdict(<class 'list'>, {'Sales': ['John Doe', 'Martin Smith'], 'Accounting': ['Jane Doe'], 'Marketing': ['Elizabeth Smith', 'Elizabeth Smith', 'Adam Doe', 'Adam Doe', 'Adam Doe']})\n"
          ],
          "name": "stdout"
        }
      ]
    },
    {
      "cell_type": "markdown",
      "metadata": {
        "id": "thirty-configuration"
      },
      "source": [
        "### Use Set as the value (then there would be no duplicated names)"
      ],
      "id": "thirty-configuration"
    },
    {
      "cell_type": "code",
      "metadata": {
        "id": "operational-buddy",
        "outputId": "991b3897-72ad-46d4-d99d-05e3d0f1aa65"
      },
      "source": [
        "dep = [('Sales', 'John Doe'),\n",
        "       ('Sales', 'Martin Smith'),\n",
        "       ('Accounting', 'Jane Doe'),\n",
        "       ('Marketing', 'Elizabeth Smith'),\n",
        "       ('Marketing', 'Elizabeth Smith'),\n",
        "       ('Marketing', 'Adam Doe'),\n",
        "       ('Marketing', 'Adam Doe'),\n",
        "       ('Marketing', 'Adam Doe')]\n",
        "\n",
        "d = {}\n",
        "for department, employee in dep:\n",
        "    if department in d:\n",
        "        # define temporary variable set_ as set\n",
        "        set_ = d[department]\n",
        "        set_.add(employee)\n",
        "        d[department] = set_\n",
        "    else:\n",
        "        d[department] = {employee}\n",
        "        \n",
        "print(d)"
      ],
      "id": "operational-buddy",
      "execution_count": null,
      "outputs": [
        {
          "output_type": "stream",
          "text": [
            "{'Sales': {'John Doe', 'Martin Smith'}, 'Accounting': {'Jane Doe'}, 'Marketing': {'Adam Doe', 'Elizabeth Smith'}}\n"
          ],
          "name": "stdout"
        }
      ]
    },
    {
      "cell_type": "markdown",
      "metadata": {
        "id": "wicked-roberts"
      },
      "source": [
        "### If the values want to be Set instead of list, using defaultdict"
      ],
      "id": "wicked-roberts"
    },
    {
      "cell_type": "code",
      "metadata": {
        "id": "departmental-timeline",
        "outputId": "4631527e-8d0e-4511-d790-a6f8199814bf"
      },
      "source": [
        "dep = [('Sales', 'John Doe'),\n",
        "       ('Sales', 'Martin Smith'),\n",
        "       ('Accounting', 'Jane Doe'),\n",
        "       ('Marketing', 'Elizabeth Smith'),\n",
        "       ('Marketing', 'Elizabeth Smith'),\n",
        "       ('Marketing', 'Adam Doe'),\n",
        "       ('Marketing', 'Adam Doe'),\n",
        "       ('Marketing', 'Adam Doe')]\n",
        "\n",
        "dep_dd = defaultdict(set)\n",
        "for department, employee in dep:\n",
        "    dep_dd[department].add(employee)\n",
        "print(dep_dd)"
      ],
      "id": "departmental-timeline",
      "execution_count": null,
      "outputs": [
        {
          "output_type": "stream",
          "text": [
            "defaultdict(<class 'set'>, {'Sales': {'John Doe', 'Martin Smith'}, 'Accounting': {'Jane Doe'}, 'Marketing': {'Adam Doe', 'Elizabeth Smith'}})\n"
          ],
          "name": "stdout"
        }
      ]
    },
    {
      "cell_type": "markdown",
      "metadata": {
        "id": "super-kinase"
      },
      "source": [
        "## Activity: Implement fibonacci sequence for a given number\n",
        "\n",
        "- We can Implement fibonacci in the following ways:\n",
        "    - Recursive\n",
        "    - Using Dictionary\n",
        "    - Using list\n",
        "    - Using generator"
      ],
      "id": "super-kinase"
    },
    {
      "cell_type": "code",
      "metadata": {
        "id": "intimate-bridge",
        "outputId": "35f3f204-0c80-445c-866d-82f190147ce2"
      },
      "source": [
        "def fib_recursive(n):\n",
        "    if n == 0:\n",
        "        return 0\n",
        "    elif n == 1:\n",
        "        return 1\n",
        "    else:\n",
        "        return fib_recursive(n - 1) + fib_recursive(n - 2)\n",
        "\n",
        "print(fib_recursive(20))"
      ],
      "id": "intimate-bridge",
      "execution_count": null,
      "outputs": [
        {
          "output_type": "stream",
          "text": [
            "6765\n"
          ],
          "name": "stdout"
        }
      ]
    },
    {
      "cell_type": "code",
      "metadata": {
        "id": "figured-despite",
        "outputId": "1e3a31fa-a27e-489d-ac34-9e20bd2984ad"
      },
      "source": [
        "def fib_dictionary(n):\n",
        "    dic_fib = {0:0, 1:1}\n",
        "    for i in range(2, n + 1):\n",
        "        dic_fib[i] = dic_fib[i - 1] + dic_fib[i - 2]\n",
        "    return dic_fib[n]\n",
        "\n",
        "print(fib_dictionary(20))"
      ],
      "id": "figured-despite",
      "execution_count": null,
      "outputs": [
        {
          "output_type": "stream",
          "text": [
            "6765\n"
          ],
          "name": "stdout"
        }
      ]
    },
    {
      "cell_type": "code",
      "metadata": {
        "id": "smooth-bullet",
        "outputId": "35e1f008-f52d-4715-b822-9364aa7e0923"
      },
      "source": [
        "def fib_ls(n):\n",
        "    y = [0, 1] \n",
        "    for _ in range(2, n + 1):\n",
        "        new_fib_value = sum(y[-2:])\n",
        "        y.append(new_fib_value)\n",
        "    return y[-1] # last element of y\n",
        "\n",
        "print(fib_ls(20))"
      ],
      "id": "smooth-bullet",
      "execution_count": null,
      "outputs": [
        {
          "output_type": "stream",
          "text": [
            "6765\n"
          ],
          "name": "stdout"
        }
      ]
    },
    {
      "cell_type": "code",
      "metadata": {
        "id": "brilliant-cooking",
        "outputId": "871b274a-46e2-4a16-95e3-793a282819cf"
      },
      "source": [
        "def fib_generator(n):\n",
        "    a, b = 0, 1\n",
        "    for _ in range(1, n + 2):\n",
        "        yield a\n",
        "        a, b = b, a + b\n",
        "        \n",
        "for i in fib_generator(20):\n",
        "    print(i)"
      ],
      "id": "brilliant-cooking",
      "execution_count": null,
      "outputs": [
        {
          "output_type": "stream",
          "text": [
            "0\n",
            "1\n",
            "1\n",
            "2\n",
            "3\n",
            "5\n",
            "8\n",
            "13\n",
            "21\n",
            "34\n",
            "55\n",
            "89\n",
            "144\n",
            "233\n",
            "377\n",
            "610\n",
            "987\n",
            "1597\n",
            "2584\n",
            "4181\n",
            "6765\n"
          ],
          "name": "stdout"
        }
      ]
    },
    {
      "cell_type": "markdown",
      "metadata": {
        "id": "oriental-integral"
      },
      "source": [
        "## Activity: f-string\n",
        "\n",
        "Two lists of names and ages are given. Write down a for loop that print: Hello + {name}, you are {age} year-old"
      ],
      "id": "oriental-integral"
    },
    {
      "cell_type": "code",
      "metadata": {
        "id": "impossible-royal",
        "outputId": "62dd20ce-f1ee-481e-e45b-0205a5f6f460"
      },
      "source": [
        "names = [\"Khiem\", \"Alex\", \"Mike\"]\n",
        "ages = [24, 25, 26]\n",
        "\n",
        "for name, age in zip(names, ages):\n",
        "    print(f\"Hello {name}, you are {age} year-old\")\n",
        "    # the following is correct too\n",
        "    #print(\"Hello {}, you are {} year-old\".format(name, age))"
      ],
      "id": "impossible-royal",
      "execution_count": null,
      "outputs": [
        {
          "output_type": "stream",
          "text": [
            "Hello Khiem, you are 24 year-old\n",
            "Hello Alex, you are 25 year-old\n",
            "Hello Mike, you are 26 year-old\n"
          ],
          "name": "stdout"
        }
      ]
    },
    {
      "cell_type": "markdown",
      "metadata": {
        "id": "sustainable-brunswick"
      },
      "source": [
        "## Activity: A list of strings is given, a word is given too\n",
        "\n",
        "- Write a Python code that inserts the word between the list elements and combine them as one single string\n",
        "\n",
        "- Example: string1 = ['Milad', 'Amir', 'Toutounchian'] is given, 'Test' is given two. Your code should return MiladTestAmirTestToutounchian"
      ],
      "id": "sustainable-brunswick"
    },
    {
      "cell_type": "code",
      "metadata": {
        "id": "hollow-passing"
      },
      "source": [
        "string1 = ['Milad', 'Amir', 'Toutounchian']"
      ],
      "id": "hollow-passing",
      "execution_count": null,
      "outputs": []
    },
    {
      "cell_type": "code",
      "metadata": {
        "id": "antique-estonia",
        "outputId": "7a4d91e0-23ce-4f7a-b753-c1561002c8d4"
      },
      "source": [
        "given_word = 'Test'\n",
        "S = ''\n",
        "for n, string in enumerate(string1):\n",
        "    if n != (len(string1) - 1):\n",
        "        S = S + string + given_word\n",
        "    else:\n",
        "        S = S + string\n",
        "\n",
        "print(S)"
      ],
      "id": "antique-estonia",
      "execution_count": null,
      "outputs": [
        {
          "output_type": "stream",
          "text": [
            "MiladTestAmirTestToutounchian\n"
          ],
          "name": "stdout"
        }
      ]
    },
    {
      "cell_type": "code",
      "metadata": {
        "id": "automotive-entrepreneur",
        "outputId": "34705a9d-471d-4823-d60e-3db643d70408"
      },
      "source": [
        "## easier way in Python\n",
        "print(given_word.join(string1))"
      ],
      "id": "automotive-entrepreneur",
      "execution_count": null,
      "outputs": [
        {
          "output_type": "stream",
          "text": [
            "MiladTestAmirTestToutounchian\n"
          ],
          "name": "stdout"
        }
      ]
    },
    {
      "cell_type": "markdown",
      "metadata": {
        "id": "hourly-burst"
      },
      "source": [
        "## Activity:\n",
        "\n",
        "Then combine ages and names lists to create a dictionary while the keys are the names and the values are the corresponding ages"
      ],
      "id": "hourly-burst"
    },
    {
      "cell_type": "code",
      "metadata": {
        "id": "lined-reservation",
        "outputId": "56d8cce3-9f0a-40e0-f4c3-aaa668d40ea4"
      },
      "source": [
        "ages = ['15', '27', '67', '102']\n",
        "names = ['Jessica', 'Daniel', 'Edward', 'Oscar']\n",
        "d = {}\n",
        "for age,name in zip(ages, names):\n",
        "    d[name] = age\n",
        "print(d)"
      ],
      "id": "lined-reservation",
      "execution_count": null,
      "outputs": [
        {
          "output_type": "stream",
          "text": [
            "{'Jessica': '15', 'Daniel': '27', 'Edward': '67', 'Oscar': '102'}\n"
          ],
          "name": "stdout"
        }
      ]
    },
    {
      "cell_type": "markdown",
      "metadata": {
        "id": "subsequent-blend"
      },
      "source": [
        "## Activity: Given an array of strings, group anagrams together\n",
        "- For example, given the following array:\n",
        "\n",
        "[ 'eat', 'ate', 'apt', 'pat', 'tea', 'now' ] Return:  [ ['eat', 'ate', 'tea'], ['apt', 'pat'], ['now'] ]"
      ],
      "id": "subsequent-blend"
    },
    {
      "cell_type": "code",
      "metadata": {
        "id": "outdoor-terrain",
        "outputId": "ec1e73a6-34c8-4a05-adc2-20d72a80c539"
      },
      "source": [
        "## O(N^2) solution\n",
        "import itertools\n",
        "\n",
        "def anagram(ls):\n",
        "    return_ls = [[] for _ in range(len(ls))]\n",
        "    for i in range(len(ls)):\n",
        "        for j in range(i, len(ls)):\n",
        "            if set(ls[i]) == set(ls[j]):\n",
        "                if ls[j] not in list(itertools.chain(*return_ls)):\n",
        "                    return_ls[i].append(ls[j])\n",
        "    return [element for element in return_ls if element != []]\n",
        "\n",
        "print(anagram(['eat', 'ate', 'apt', 'pat', 'tea', 'now']))"
      ],
      "id": "outdoor-terrain",
      "execution_count": null,
      "outputs": [
        {
          "output_type": "stream",
          "text": [
            "[['eat', 'ate', 'tea'], ['apt', 'pat'], ['now']]\n"
          ],
          "name": "stdout"
        }
      ]
    },
    {
      "cell_type": "code",
      "metadata": {
        "id": "southern-article",
        "outputId": "5c4b999c-e340-4666-9d7b-859ead481f92"
      },
      "source": [
        "# O(N) solution\n",
        "import collections\n",
        "\n",
        "def groupWords(strs):\n",
        "    mp = collections.defaultdict(list)\n",
        "    for w in strs:\n",
        "        key = [0] * 26\n",
        "        for ch in w:\n",
        "            key[ord(ch) - ord('a')] += 1\n",
        "        mp[tuple(key)].append(w)\n",
        "    return list(mp.values())\n",
        "\n",
        "print(groupWords(['eat', 'ate', 'apt', 'pat', 'tea', 'now']))"
      ],
      "id": "southern-article",
      "execution_count": null,
      "outputs": [
        {
          "output_type": "stream",
          "text": [
            "[['eat', 'ate', 'tea'], ['apt', 'pat'], ['now']]\n"
          ],
          "name": "stdout"
        }
      ]
    },
    {
      "cell_type": "markdown",
      "metadata": {
        "id": "available-northwest"
      },
      "source": [
        "## Activity: Salary increase\n",
        "\n",
        "- A person works in a company. His/her base salary is $115K. The salary increase rate is 3% yearly in the company.\n",
        "- Write a function that returns his/her salary amount during next 10 years.\n",
        "- Input arguments for your function would be `base_salary`, `rate` and `years`"
      ],
      "id": "available-northwest"
    },
    {
      "cell_type": "code",
      "metadata": {
        "id": "suspected-cleaning",
        "outputId": "1268728d-dfd4-4eb9-b912-849626620d79"
      },
      "source": [
        "def salary_increase(base_salary, rate, years):\n",
        "    S = base_salary\n",
        "    salary_ls = []\n",
        "    for i in range(years):\n",
        "        S = (1 + rate)*S\n",
        "        salary_ls.append(round(S, 2))\n",
        "    return salary_ls\n",
        "\n",
        "print(salary_increase(115, 0.03, 10))"
      ],
      "id": "suspected-cleaning",
      "execution_count": null,
      "outputs": [
        {
          "output_type": "stream",
          "text": [
            "[118.45, 122.0, 125.66, 129.43, 133.32, 137.32, 141.44, 145.68, 150.05, 154.55]\n"
          ],
          "name": "stdout"
        }
      ]
    },
    {
      "cell_type": "markdown",
      "metadata": {
        "id": "cognitive-toolbox"
      },
      "source": [
        "## Activity: Compound function\n",
        "\n",
        "- For a given function (f), starting point (a0) and number of iteration (m), write a function that calculates f(a0), f(f(a0)), ..., f(f(f(...f(a0)))))"
      ],
      "id": "cognitive-toolbox"
    },
    {
      "cell_type": "code",
      "metadata": {
        "id": "rubber-terry",
        "outputId": "5b8b3558-ff3f-4d57-e9bf-b4f2cce63acc"
      },
      "source": [
        "f= lambda x: (x+n/x)/2\n",
        "n = 2\n",
        "a0 = 1.0\n",
        "m = 4\n",
        "# This implementation is not good as it is hard-coded\n",
        "print([round(x, 8) for x in (f(a0), f(f(a0)), f(f(f(a0))), f(f(f(f(a0)))))])"
      ],
      "id": "rubber-terry",
      "execution_count": null,
      "outputs": [
        {
          "output_type": "stream",
          "text": [
            "[1.5, 1.41666667, 1.41421569, 1.41421356]\n"
          ],
          "name": "stdout"
        }
      ]
    },
    {
      "cell_type": "code",
      "metadata": {
        "id": "informational-cuisine",
        "outputId": "6f95ea62-721a-487a-dcae-f52014b273ec"
      },
      "source": [
        "def repeat(f, a, m):\n",
        "    for _ in range(m):\n",
        "        a = f(a)  \n",
        "        yield a\n",
        "    \n",
        "for i in repeat(f, 1, 4):\n",
        "    print(round(i, 8))"
      ],
      "id": "informational-cuisine",
      "execution_count": null,
      "outputs": [
        {
          "output_type": "stream",
          "text": [
            "1.5\n",
            "1.41666667\n",
            "1.41421569\n",
            "1.41421356\n"
          ],
          "name": "stdout"
        }
      ]
    },
    {
      "cell_type": "markdown",
      "metadata": {
        "id": "close-trinity"
      },
      "source": [
        "### Note: the above compound iteration will converge to $\\sqrt{n}$ "
      ],
      "id": "close-trinity"
    },
    {
      "cell_type": "code",
      "metadata": {
        "id": "freelance-skiing",
        "outputId": "20727ae8-d2b0-46da-ee6a-323aa61279c8"
      },
      "source": [
        "# Note: the above coumpound iteration will converge to np.sqrt(n) \n",
        "import numpy as np\n",
        "np.sqrt(n)"
      ],
      "id": "freelance-skiing",
      "execution_count": null,
      "outputs": [
        {
          "output_type": "execute_result",
          "data": {
            "text/plain": [
              "1.4142135623730951"
            ]
          },
          "metadata": {
            "tags": []
          },
          "execution_count": 203
        }
      ]
    }
  ]
}